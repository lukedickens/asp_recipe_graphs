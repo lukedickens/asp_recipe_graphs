{
 "cells": [
  {
   "cell_type": "code",
   "execution_count": 1,
   "metadata": {},
   "outputs": [],
   "source": [
    "import json\n",
    "import re \n",
    "import copy\n",
    "import graphviz\n",
    "import sys\n",
    "import clingo\n",
    "import clingo.symbol as symbol\n",
    "from importlib import reload"
   ]
  },
  {
   "cell_type": "code",
   "execution_count": 2,
   "metadata": {},
   "outputs": [
    {
     "name": "stdout",
     "output_type": "stream",
     "text": [
      "thisdir = /home/luke/git/external/asp_recipe_graphs/notebooks\n",
      "Adding parent directory to python path\n",
      "sys.path =\n",
      "['/home/luke/git/external/asp_recipe_graphs/notebooks', '/home/luke/git/external/asp_recipe_graphs', '/usr/lib/python310.zip', '/usr/lib/python3.10', '/usr/lib/python3.10/lib-dynload', '', '/home/luke/.local/lib/python3.10/site-packages', '/usr/local/lib/python3.10/dist-packages', '/usr/lib/python3/dist-packages', '/usr/lib/python3.10/dist-packages']\n"
     ]
    }
   ],
   "source": [
    "# This is a hack to make the library in the parent folder available for imoprts\n",
    "# A better solution is by np8 here:\n",
    "# https://stackoverflow.com/questions/714063/importing-modules-from-parent-folder\n",
    "import sys\n",
    "import os\n",
    "import inspect\n",
    "\n",
    "thisdir = sys.path[0]\n",
    "print(f\"thisdir = {thisdir}\")\n",
    "parentdir = os.path.dirname(thisdir)\n",
    "#print(f\"parentdir = {parentdir}\")\n",
    "if not parentdir in sys.path:\n",
    "    print(\"Adding parent directory to python path\")\n",
    "    sys.path.insert(1, parentdir)\n",
    "else:\n",
    "    print(\"Skipping adding parent direct to path (there already)\")\n",
    "\n",
    "print(f\"sys.path =\\n{sys.path}\")\n"
   ]
  },
  {
   "cell_type": "code",
   "execution_count": 3,
   "metadata": {},
   "outputs": [
    {
     "name": "stderr",
     "output_type": "stream",
     "text": [
      "/home/luke/git/external/asp_recipe_graphs/asp_recipe_graphs/api/recipes.py:27: UserWarning: Unrecognised recipe file:\n",
      "\t../asp_recipe_graphs/asp/recipes/fusilli_pomodoro_tuples.lp\n",
      "  warnings.warn(f\"Unrecognised recipe file:\\n\\t{path}\")\n",
      "/home/luke/git/external/asp_recipe_graphs/asp_recipe_graphs/api/recipes.py:27: UserWarning: Unrecognised recipe file:\n",
      "\t../asp_recipe_graphs/asp/recipes/spaghetti_pomodoro_tuples.lp\n",
      "  warnings.warn(f\"Unrecognised recipe file:\\n\\t{path}\")\n"
     ]
    }
   ],
   "source": [
    "## local modules\n",
    "os.environ[\"GRASP_SRC_DIR\"] = '..'\n",
    "\n",
    "import asp_recipe_graphs.api.modules\n",
    "reload(asp_recipe_graphs.api.modules)\n",
    "\n",
    "from asp_recipe_graphs.api.modules import MODULES\n",
    "from asp_recipe_graphs.api.modules import RE_FIND_TERMS\n",
    "from asp_recipe_graphs.api.modules import RE_IS_DEFINITION\n",
    "from asp_recipe_graphs.api.modules import ASP_MODULE_DEFINES\n",
    "from asp_recipe_graphs.api.modules import ASP_MODULE_USES\n",
    "from asp_recipe_graphs.api.modules import DEPENDENCY_MAP\n",
    "from asp_recipe_graphs.api.modules import ALL_DEFINED\n",
    "from asp_recipe_graphs.api.modules import ALL_USES\n",
    "from asp_recipe_graphs.api.modules import UNDEFINED_TERMS\n",
    "from asp_recipe_graphs.api.modules import get_dependencies\n",
    "from asp_recipe_graphs.api.modules import what_defines\n",
    "from asp_recipe_graphs.api.modules import what_uses\n",
    "\n",
    "import asp_recipe_graphs.api.asp2graph\n",
    "reload(asp_recipe_graphs.api.asp2graph)\n",
    "from asp_recipe_graphs.api.asp2graph import create_dependency_graph\n",
    "\n",
    "import asp_recipe_graphs.api.solver\n",
    "reload(asp_recipe_graphs.api.solver)\n",
    "from asp_recipe_graphs.api.solver import load_and_solve\n"
   ]
  },
  {
   "cell_type": "code",
   "execution_count": 9,
   "metadata": {},
   "outputs": [
    {
     "name": "stdout",
     "output_type": "stream",
     "text": [
      "e = unhashable type: 'set'\n",
      "H = (('beans', 'toast'), 'place', ('beans on toast',))\n",
      "signature2(T) = 1583293615377753456\n",
      "H = (('beans', 'toast'), 'place', ('beans on toast',))\n",
      "store_and_check_tuple(T) = False\n",
      "H = (('beans', 'toast'), 'place', ('beans on toast',))\n",
      "signature2(alt_T) = 1583293615377753456\n",
      "H = (('beans', 'toast'), 'place', ('beans on toast',))\n",
      "store_and_check_tuple(alt_T) = True\n"
     ]
    }
   ],
   "source": [
    "T = (set(['toast','beans']), 'place', set(['beans on toast']))\n",
    "alt_T = (set(['beans', 'toast']), 'place', set(['beans on toast']))\n",
    "\n",
    "def signature1(T):\n",
    "    return hash(T)\n",
    "\n",
    "stored_tuples = {}\n",
    "\n",
    "def signature2(T):\n",
    "    T0, T1, T2 = T\n",
    "    H0 = list(T0)\n",
    "    H0.sort()\n",
    "    H1 = T1\n",
    "    H2 = list(T2)\n",
    "    H2.sort()\n",
    "    H = (tuple(H0), H1, tuple(H2))\n",
    "    print(f\"H = {H}\")\n",
    "    key =  hash(H)\n",
    "    return key\n",
    "\n",
    "def store_and_check_tuple(T):\n",
    "    key = signature2(T)\n",
    "    if key in stored_tuples:\n",
    "        return True\n",
    "    else:\n",
    "        stored_tuples[key] = key\n",
    "        return False\n",
    "\n",
    "\n",
    "try:\n",
    "    print(f\"signature1(T) = {signature1(T)}\")\n",
    "except Exception as e:\n",
    "    print(f\"e = {e}\")\n",
    "print(f\"signature2(T) = {signature2(T)}\")\n",
    "print(f\"store_and_check_tuple(T) = {store_and_check_tuple(T)}\")\n",
    "print(f\"signature2(alt_T) = {signature2(alt_T)}\")\n",
    "print(f\"store_and_check_tuple(alt_T) = {store_and_check_tuple(alt_T)}\")\n"
   ]
  },
  {
   "cell_type": "code",
   "execution_count": null,
   "metadata": {},
   "outputs": [],
   "source": []
  }
 ],
 "metadata": {
  "kernelspec": {
   "display_name": "Python 3 (ipykernel)",
   "language": "python",
   "name": "python3"
  },
  "language_info": {
   "codemirror_mode": {
    "name": "ipython",
    "version": 3
   },
   "file_extension": ".py",
   "mimetype": "text/x-python",
   "name": "python",
   "nbconvert_exporter": "python",
   "pygments_lexer": "ipython3",
   "version": "3.10.12"
  }
 },
 "nbformat": 4,
 "nbformat_minor": 2
}
