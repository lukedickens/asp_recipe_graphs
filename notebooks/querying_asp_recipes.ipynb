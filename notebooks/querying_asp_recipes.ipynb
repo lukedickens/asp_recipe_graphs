{
 "cells": [
  {
   "cell_type": "code",
   "execution_count": 1,
   "metadata": {},
   "outputs": [],
   "source": [
    "import json\n",
    "import re \n",
    "import copy\n",
    "import graphviz\n",
    "import sys\n",
    "import clingo\n",
    "import clingo.symbol as symbol\n",
    "from importlib import reload"
   ]
  },
  {
   "cell_type": "code",
   "execution_count": 2,
   "metadata": {},
   "outputs": [
    {
     "name": "stdout",
     "output_type": "stream",
     "text": [
      "thisdir = /home/luke/git/external/asp_recipe_graphs/notebooks\n",
      "Adding parent directory to python path\n",
      "sys.path =\n",
      "['/home/luke/git/external/asp_recipe_graphs/notebooks', '/home/luke/git/external/asp_recipe_graphs', '/usr/lib/python310.zip', '/usr/lib/python3.10', '/usr/lib/python3.10/lib-dynload', '', '/home/luke/.local/lib/python3.10/site-packages', '/usr/local/lib/python3.10/dist-packages', '/usr/lib/python3/dist-packages', '/usr/lib/python3.10/dist-packages']\n"
     ]
    }
   ],
   "source": [
    "# This is a hack to make the library in the parent folder available for imoprts\n",
    "# A better solution is by np8 here:\n",
    "# https://stackoverflow.com/questions/714063/importing-modules-from-parent-folder\n",
    "import sys\n",
    "import os\n",
    "import inspect\n",
    "\n",
    "thisdir = sys.path[0]\n",
    "print(f\"thisdir = {thisdir}\")\n",
    "parentdir = os.path.dirname(thisdir)\n",
    "#print(f\"parentdir = {parentdir}\")\n",
    "if not parentdir in sys.path:\n",
    "    print(\"Adding parent directory to python path\")\n",
    "    sys.path.insert(1, parentdir)\n",
    "else:\n",
    "    print(\"Skipping adding parent direct to path (there already)\")\n",
    "\n",
    "print(f\"sys.path =\\n{sys.path}\")\n"
   ]
  },
  {
   "cell_type": "code",
   "execution_count": 3,
   "metadata": {},
   "outputs": [],
   "source": [
    "## local modules\n",
    "os.environ[\"GRASP_SRC_DIR\"] = '..'\n",
    "\n",
    "import asp_recipe_graphs.api.modules\n",
    "reload(asp_recipe_graphs.api.modules)\n",
    "\n",
    "from asp_recipe_graphs.api.modules import MODULES\n",
    "from asp_recipe_graphs.api.modules import RE_FIND_TERMS\n",
    "from asp_recipe_graphs.api.modules import RE_IS_DEFINITION\n",
    "from asp_recipe_graphs.api.modules import ASP_MODULE_DEFINES\n",
    "from asp_recipe_graphs.api.modules import ASP_MODULE_USES\n",
    "from asp_recipe_graphs.api.modules import DEPENDENCY_MAP\n",
    "from asp_recipe_graphs.api.modules import ALL_DEFINED\n",
    "from asp_recipe_graphs.api.modules import ALL_USES\n",
    "from asp_recipe_graphs.api.modules import UNDEFINED_TERMS\n",
    "from asp_recipe_graphs.api.modules import get_dependencies\n",
    "from asp_recipe_graphs.api.modules import what_defines\n",
    "from asp_recipe_graphs.api.modules import what_uses\n",
    "\n",
    "import asp_recipe_graphs.api.asp2graph\n",
    "reload(asp_recipe_graphs.api.asp2graph)\n",
    "from asp_recipe_graphs.api.asp2graph import create_dependency_graph\n",
    "\n",
    "import asp_recipe_graphs.api.solver\n",
    "reload(asp_recipe_graphs.api.solver)\n",
    "from asp_recipe_graphs.api.solver import load_and_solve\n"
   ]
  },
  {
   "cell_type": "markdown",
   "metadata": {},
   "source": [
    "## Modules\n",
    "\n",
    "There are a number of asp modules, which define and use terms, and these are subject to change. The python module `asp_recipe_graphs.asp.modules` provides functionality that interrogates these modules and gives information on this. In particular, there is information on which modules define and use which terms, which modules directly depend on other modules, and getting a full dependency chain for a given module or set of modules.\n",
    "\n",
    "Note that this is not precise. There will be errors in this but at the time of writing there were none detected that interfere with the logic of the solver (see below)."
   ]
  },
  {
   "cell_type": "code",
   "execution_count": 4,
   "metadata": {},
   "outputs": [
    {
     "name": "stdout",
     "output_type": "stream",
     "text": [
      "asp_module_defines = {'acceptability': {'acceptable_recipe'}, 'composition': {'composable', 'empty_intersection', 'incompatible_node_types'}, 'equivalence': {'equivalent'}, 'granularity': {'path_or_equal', 'mapped_to_by_g_function', 'not_same_recipe', 'finer_grained', 'more_specific'}, 'graph_properties': {'cyclic', 'connected', 'graph', 'has_outgoing_arc', 'path', 'has_incoming_arc', 'connected_in', 'is_node'}, 'in_out_aligned': {'in_out_aligned'}, 'isomorphisms': {'isomorphic'}, 'recipe_graphs': {'recipe', 'subrecipe_graph_of', 'atomic_recipe_graph', 'graph', 'strict_subrecipe_graph', 'given_recipe_graph', 'typing_function', 'high_indexes_allowed', 'recipe_graph', 'conflicting_types_in', 'has_untyped_node'}, 'subrecipes': {'subrecipe_of'}, 'type_hierarchies': {'comestible_type', 'same_type_path', 'subtype', 'action_or_comestible_type', 'action_type', 'subtype_or_equal'}, 'universal_types': {'child'}}\n",
      "\n",
      "Uses\n",
      "\tacceptability uses {'recipe', 'a', 'in', 'arc', 'type_of', 'acceptability_tuple', 'arcs', 'c'}\n",
      "\tcomposition uses {'in', 'join_types_match', 'c_nodes', 'composition', 'same_type_path', 'recipe_graph', 'type_of', 'nodes', 'arcs', 'c', 'recipe', 'set_of', 'out', 'mid', 'acts'}\n",
      "\tequivalence uses {'recipe', 'a', 'bijection', 'type_of', 'c', 'isomorphic'}\n",
      "\tgranularity uses {'a_nodes', 'a', 'in', 'g_function', 'bijection', 'type_of', 'recipe_graph', 'nodes', 'subtype_or_equal', 'arcs', 'c', 'isomorphic', 'recipe', 'in_out_aligned', 'one_path_longer', 'number_of_action_nodes', 'path', 'out', 'arc', 'path_with_half_length'}\n",
      "\tgraph_properties uses {'a_nodes', 'c_node_index', 'a', 'empty', 'in', 'is_a_node', 'is_c_node', 'c_nodes', 'is_arc', 'nodes', 'a_node_properly_connected', 'arcs', 'c', 'arc', 'a_node_index'}\n",
      "\tin_out_aligned uses {'recipe', 'in_types', 'in', 'out', 'type_of', 'out_types', 'c'}\n",
      "\tisomorphisms uses {'a_nodes', 'a', 'bijection', 'in', 'c_nodes', 'arc', 'recipe_graph', 'arcs', 'c'}\n",
      "\trecipe_graphs uses {'cyclic', 'c_nodes', 'is_c_node', 'is_a_node', 'same_type_path', 'type_of', 'a_node_properly_connected', 'nodes', 'c', 'action_type', 'comestible_type', 'out', 'mid', 'acts', 'a_nodes', 'a', 'empty', 'connected', 'in', 'c_node_index', 'is_arc', 'a_node_index', 'given_recipe', 'arcs', 'path', 'arc', 'action_or_comestible_type'}\n",
      "\tsubrecipes uses {'recipe', 'subrecipe_graph_of', 'type_of'}\n",
      "\ttype_hierarchies uses {'child'}\n",
      "\tuniversal_types uses {'numbered_mixture', 'int'}\n",
      "\n",
      "undefined_terms = {'bijection', 'is_a_node', 'c_nodes', 'is_c_node', 'type_of', 'a_node_properly_connected', 'nodes', 'c', 'set_of', 'one_path_longer', 'in_types', 'out', 'acceptability_tuple', 'out_types', 'mid', 'acts', 'a_nodes', 'a', 'c_node_index', 'empty', 'in', 'join_types_match', 'composition', 'g_function', 'is_arc', 'given_recipe', 'arcs', 'numbered_mixture', 'number_of_action_nodes', 'int', 'arc', 'a_node_index', 'path_with_half_length'}\n",
      "\n"
     ]
    }
   ],
   "source": [
    "print(f\"asp_module_defines = {ASP_MODULE_DEFINES}\")\n",
    "print()\n",
    "print(\"Uses\")\n",
    "for m, uses in ASP_MODULE_USES.items():\n",
    "    print(f\"\\t{m} uses {uses}\")\n",
    "print()\n",
    "print(f\"undefined_terms = {UNDEFINED_TERMS}\")\n",
    "print()"
   ]
  },
  {
   "cell_type": "code",
   "execution_count": 5,
   "metadata": {},
   "outputs": [
    {
     "data": {
      "text/plain": [
       "['acceptability',\n",
       " 'composition',\n",
       " 'equivalence',\n",
       " 'granularity',\n",
       " 'graph_properties',\n",
       " 'in_out_aligned',\n",
       " 'isomorphisms',\n",
       " 'recipe_graphs',\n",
       " 'subrecipes',\n",
       " 'type_hierarchies',\n",
       " 'universal_types']"
      ]
     },
     "execution_count": 5,
     "metadata": {},
     "output_type": "execute_result"
    }
   ],
   "source": [
    "# MODULES tells us what modules are defined (domain independent)\n",
    "MODULES"
   ]
  },
  {
   "cell_type": "code",
   "execution_count": 6,
   "metadata": {},
   "outputs": [
    {
     "name": "stdout",
     "output_type": "stream",
     "text": [
      "ALL_DEFINED = {'cyclic', 'atomic_recipe_graph', 'has_outgoing_arc', 'composable', 'equivalent', 'given_recipe_graph', 'same_type_path', 'not_same_recipe', 'is_node', 'recipe_graph', 'acceptable_recipe', 'subtype', 'subtype_or_equal', 'has_untyped_node', 'action_type', 'subrecipe_graph_of', 'path_or_equal', 'graph', 'empty_intersection', 'comestible_type', 'has_incoming_arc', 'child', 'more_specific', 'subrecipe_of', 'connected', 'strict_subrecipe_graph', 'connected_in', 'typing_function', 'high_indexes_allowed', 'mapped_to_by_g_function', 'conflicting_types_in', 'isomorphic', 'recipe', 'in_out_aligned', 'incompatible_node_types', 'path', 'finer_grained', 'action_or_comestible_type'}\n",
      "\n",
      "ALL_USES = {'cyclic', 'bijection', 'action_or_comestible_type', 'c_nodes', 'is_a_node', 'is_c_node', 'same_type_path', 'type_of', 'recipe_graph', 'nodes', 'subtype_or_equal', 'a_node_properly_connected', 'c', 'action_type', 'set_of', 'subrecipe_graph_of', 'one_path_longer', 'in_types', 'comestible_type', 'out', 'child', 'acceptability_tuple', 'out_types', 'mid', 'acts', 'a_nodes', 'a', 'c_node_index', 'empty', 'connected', 'in', 'join_types_match', 'composition', 'g_function', 'is_arc', 'given_recipe', 'arcs', 'isomorphic', 'numbered_mixture', 'recipe', 'in_out_aligned', 'number_of_action_nodes', 'path', 'int', 'arc', 'a_node_index', 'path_with_half_length'}\n",
      "\n",
      "UNDEFINED_TERMS = {'bijection', 'is_a_node', 'c_nodes', 'is_c_node', 'type_of', 'a_node_properly_connected', 'nodes', 'c', 'set_of', 'one_path_longer', 'in_types', 'out', 'acceptability_tuple', 'out_types', 'mid', 'acts', 'a_nodes', 'a', 'c_node_index', 'empty', 'in', 'join_types_match', 'composition', 'g_function', 'is_arc', 'given_recipe', 'arcs', 'numbered_mixture', 'number_of_action_nodes', 'int', 'arc', 'a_node_index', 'path_with_half_length'}\n"
     ]
    }
   ],
   "source": [
    "# all terms that have been defined in at least one module,\n",
    "print(f\"ALL_DEFINED = {ALL_DEFINED}\", end='\\n\\n')\n",
    "# all terms that are used in at least one module\n",
    "print(f\"ALL_USES = {ALL_USES}\", end='\\n\\n')\n",
    "# all terms that are used but not defined\n",
    "print(f\"UNDEFINED_TERMS = {UNDEFINED_TERMS}\")\n"
   ]
  },
  {
   "cell_type": "code",
   "execution_count": 7,
   "metadata": {},
   "outputs": [
    {
     "data": {
      "text/plain": [
       "'universal_types'"
      ]
     },
     "execution_count": 7,
     "metadata": {},
     "output_type": "execute_result"
    }
   ],
   "source": [
    "# what_defines(...) asks what module defines a given term \n",
    "# (if more than one module defines a term it returns the first module detected)\n",
    "what_defines('child')"
   ]
  },
  {
   "cell_type": "code",
   "execution_count": 8,
   "metadata": {},
   "outputs": [
    {
     "data": {
      "text/plain": [
       "['type_hierarchies']"
      ]
     },
     "execution_count": 8,
     "metadata": {},
     "output_type": "execute_result"
    }
   ],
   "source": [
    "# what_uses(...) asks what modules use a given term.\n",
    "what_uses('child')"
   ]
  },
  {
   "cell_type": "code",
   "execution_count": 9,
   "metadata": {
    "scrolled": true
   },
   "outputs": [
    {
     "name": "stdout",
     "output_type": "stream",
     "text": [
      "dependency_map = {'acceptability': {'recipe_graphs'}, 'composition': {'type_hierarchies', 'recipe_graphs'}, 'equivalence': {'recipe_graphs', 'isomorphisms'}, 'granularity': {'graph_properties', 'recipe_graphs', 'in_out_aligned', 'isomorphisms', 'type_hierarchies'}, 'graph_properties': set(), 'in_out_aligned': {'recipe_graphs'}, 'isomorphisms': {'recipe_graphs'}, 'recipe_graphs': {'graph_properties', 'type_hierarchies'}, 'subrecipes': {'recipe_graphs'}, 'type_hierarchies': {'universal_types'}, 'universal_types': set()}\n"
     ]
    }
   ],
   "source": [
    "# DEPENDENCY_MAP map shows the direct dependencies between modules. \n",
    "print(f\"dependency_map = {DEPENDENCY_MAP}\")"
   ]
  },
  {
   "cell_type": "code",
   "execution_count": 10,
   "metadata": {},
   "outputs": [
    {
     "data": {
      "image/svg+xml": [
       "<?xml version=\"1.0\" encoding=\"UTF-8\" standalone=\"no\"?>\n",
       "<!DOCTYPE svg PUBLIC \"-//W3C//DTD SVG 1.1//EN\"\n",
       " \"http://www.w3.org/Graphics/SVG/1.1/DTD/svg11.dtd\">\n",
       "<!-- Generated by graphviz version 2.43.0 (0)\n",
       " -->\n",
       "<!-- Title: %3 Pages: 1 -->\n",
       "<svg width=\"916pt\" height=\"332pt\"\n",
       " viewBox=\"0.00 0.00 916.16 332.00\" xmlns=\"http://www.w3.org/2000/svg\" xmlns:xlink=\"http://www.w3.org/1999/xlink\">\n",
       "<g id=\"graph0\" class=\"graph\" transform=\"scale(1 1) rotate(0) translate(4 328)\">\n",
       "<title>%3</title>\n",
       "<polygon fill=\"white\" stroke=\"transparent\" points=\"-4,4 -4,-328 912.16,-328 912.16,4 -4,4\"/>\n",
       "<!-- acceptability -->\n",
       "<g id=\"node1\" class=\"node\">\n",
       "<title>acceptability</title>\n",
       "<ellipse fill=\"none\" stroke=\"black\" cx=\"648.22\" cy=\"-234\" rx=\"70.39\" ry=\"18\"/>\n",
       "<text text-anchor=\"middle\" x=\"648.22\" y=\"-230.3\" font-family=\"Times,serif\" font-size=\"14.00\">acceptability</text>\n",
       "</g>\n",
       "<!-- recipe_graphs -->\n",
       "<g id=\"node8\" class=\"node\">\n",
       "<title>recipe_graphs</title>\n",
       "<ellipse fill=\"none\" stroke=\"black\" cx=\"407.22\" cy=\"-162\" rx=\"76.09\" ry=\"18\"/>\n",
       "<text text-anchor=\"middle\" x=\"407.22\" y=\"-158.3\" font-family=\"Times,serif\" font-size=\"14.00\">recipe_graphs</text>\n",
       "</g>\n",
       "<!-- acceptability&#45;&gt;recipe_graphs -->\n",
       "<g id=\"edge1\" class=\"edge\">\n",
       "<title>acceptability&#45;&gt;recipe_graphs</title>\n",
       "<path fill=\"none\" stroke=\"black\" d=\"M603.45,-220C563.8,-208.48 505.74,-191.62 463.06,-179.22\"/>\n",
       "<polygon fill=\"black\" stroke=\"black\" points=\"463.96,-175.84 453.38,-176.41 462.01,-182.56 463.96,-175.84\"/>\n",
       "</g>\n",
       "<!-- composition -->\n",
       "<g id=\"node2\" class=\"node\">\n",
       "<title>composition</title>\n",
       "<ellipse fill=\"none\" stroke=\"black\" cx=\"841.22\" cy=\"-234\" rx=\"66.89\" ry=\"18\"/>\n",
       "<text text-anchor=\"middle\" x=\"841.22\" y=\"-230.3\" font-family=\"Times,serif\" font-size=\"14.00\">composition</text>\n",
       "</g>\n",
       "<!-- composition&#45;&gt;recipe_graphs -->\n",
       "<g id=\"edge3\" class=\"edge\">\n",
       "<title>composition&#45;&gt;recipe_graphs</title>\n",
       "<path fill=\"none\" stroke=\"black\" d=\"M791.18,-222.03C780.96,-219.92 770.26,-217.81 760.22,-216 664.59,-198.8 553.68,-182.79 482.09,-172.96\"/>\n",
       "<polygon fill=\"black\" stroke=\"black\" points=\"482.2,-169.44 471.82,-171.56 481.25,-176.38 482.2,-169.44\"/>\n",
       "</g>\n",
       "<!-- type_hierarchies -->\n",
       "<g id=\"node10\" class=\"node\">\n",
       "<title>type_hierarchies</title>\n",
       "<ellipse fill=\"none\" stroke=\"black\" cx=\"407.22\" cy=\"-90\" rx=\"87.99\" ry=\"18\"/>\n",
       "<text text-anchor=\"middle\" x=\"407.22\" y=\"-86.3\" font-family=\"Times,serif\" font-size=\"14.00\">type_hierarchies</text>\n",
       "</g>\n",
       "<!-- composition&#45;&gt;type_hierarchies -->\n",
       "<g id=\"edge2\" class=\"edge\">\n",
       "<title>composition&#45;&gt;type_hierarchies</title>\n",
       "<path fill=\"none\" stroke=\"black\" d=\"M800.39,-219.64C721.78,-193.92 549.41,-137.52 461.34,-108.71\"/>\n",
       "<polygon fill=\"black\" stroke=\"black\" points=\"462.4,-105.37 451.8,-105.59 460.22,-112.02 462.4,-105.37\"/>\n",
       "</g>\n",
       "<!-- equivalence -->\n",
       "<g id=\"node3\" class=\"node\">\n",
       "<title>equivalence</title>\n",
       "<ellipse fill=\"none\" stroke=\"black\" cx=\"615.22\" cy=\"-306\" rx=\"65.79\" ry=\"18\"/>\n",
       "<text text-anchor=\"middle\" x=\"615.22\" y=\"-302.3\" font-family=\"Times,serif\" font-size=\"14.00\">equivalence</text>\n",
       "</g>\n",
       "<!-- isomorphisms -->\n",
       "<g id=\"node7\" class=\"node\">\n",
       "<title>isomorphisms</title>\n",
       "<ellipse fill=\"none\" stroke=\"black\" cx=\"484.22\" cy=\"-234\" rx=\"75.29\" ry=\"18\"/>\n",
       "<text text-anchor=\"middle\" x=\"484.22\" y=\"-230.3\" font-family=\"Times,serif\" font-size=\"14.00\">isomorphisms</text>\n",
       "</g>\n",
       "<!-- equivalence&#45;&gt;isomorphisms -->\n",
       "<g id=\"edge5\" class=\"edge\">\n",
       "<title>equivalence&#45;&gt;isomorphisms</title>\n",
       "<path fill=\"none\" stroke=\"black\" d=\"M586.47,-289.64C567.79,-279.66 543.21,-266.52 522.84,-255.64\"/>\n",
       "<polygon fill=\"black\" stroke=\"black\" points=\"524.28,-252.44 513.81,-250.81 520.98,-258.61 524.28,-252.44\"/>\n",
       "</g>\n",
       "<!-- equivalence&#45;&gt;recipe_graphs -->\n",
       "<g id=\"edge4\" class=\"edge\">\n",
       "<title>equivalence&#45;&gt;recipe_graphs</title>\n",
       "<path fill=\"none\" stroke=\"black\" d=\"M665.35,-294.29C688.36,-286.6 713.52,-273.63 727.22,-252 735.78,-238.48 737.57,-228.2 727.22,-216 697.69,-181.18 577.17,-169.2 492.79,-165.11\"/>\n",
       "<polygon fill=\"black\" stroke=\"black\" points=\"492.83,-161.6 482.68,-164.64 492.51,-168.6 492.83,-161.6\"/>\n",
       "</g>\n",
       "<!-- granularity -->\n",
       "<g id=\"node4\" class=\"node\">\n",
       "<title>granularity</title>\n",
       "<ellipse fill=\"none\" stroke=\"black\" cx=\"69.22\" cy=\"-306\" rx=\"63.09\" ry=\"18\"/>\n",
       "<text text-anchor=\"middle\" x=\"69.22\" y=\"-302.3\" font-family=\"Times,serif\" font-size=\"14.00\">granularity</text>\n",
       "</g>\n",
       "<!-- graph_properties -->\n",
       "<g id=\"node5\" class=\"node\">\n",
       "<title>graph_properties</title>\n",
       "<ellipse fill=\"none\" stroke=\"black\" cx=\"140.22\" cy=\"-90\" rx=\"90.98\" ry=\"18\"/>\n",
       "<text text-anchor=\"middle\" x=\"140.22\" y=\"-86.3\" font-family=\"Times,serif\" font-size=\"14.00\">graph_properties</text>\n",
       "</g>\n",
       "<!-- granularity&#45;&gt;graph_properties -->\n",
       "<g id=\"edge6\" class=\"edge\">\n",
       "<title>granularity&#45;&gt;graph_properties</title>\n",
       "<path fill=\"none\" stroke=\"black\" d=\"M46.82,-289.06C35.65,-279.69 23.26,-266.8 17.22,-252 -0.94,-207.57 -9.17,-184.1 17.22,-144 28.86,-126.31 47.79,-114.49 67.35,-106.62\"/>\n",
       "<polygon fill=\"black\" stroke=\"black\" points=\"68.81,-109.81 76.97,-103.06 66.38,-103.24 68.81,-109.81\"/>\n",
       "</g>\n",
       "<!-- in_out_aligned -->\n",
       "<g id=\"node6\" class=\"node\">\n",
       "<title>in_out_aligned</title>\n",
       "<ellipse fill=\"none\" stroke=\"black\" cx=\"174.22\" cy=\"-234\" rx=\"77.19\" ry=\"18\"/>\n",
       "<text text-anchor=\"middle\" x=\"174.22\" y=\"-230.3\" font-family=\"Times,serif\" font-size=\"14.00\">in_out_aligned</text>\n",
       "</g>\n",
       "<!-- granularity&#45;&gt;in_out_aligned -->\n",
       "<g id=\"edge8\" class=\"edge\">\n",
       "<title>granularity&#45;&gt;in_out_aligned</title>\n",
       "<path fill=\"none\" stroke=\"black\" d=\"M92.78,-289.29C107.17,-279.7 125.77,-267.3 141.56,-256.77\"/>\n",
       "<polygon fill=\"black\" stroke=\"black\" points=\"143.62,-259.6 150,-251.14 139.74,-253.78 143.62,-259.6\"/>\n",
       "</g>\n",
       "<!-- granularity&#45;&gt;isomorphisms -->\n",
       "<g id=\"edge9\" class=\"edge\">\n",
       "<title>granularity&#45;&gt;isomorphisms</title>\n",
       "<path fill=\"none\" stroke=\"black\" d=\"M123.8,-296.96C189.52,-287.12 303.15,-269.59 400.22,-252 406.37,-250.89 412.76,-249.68 419.15,-248.44\"/>\n",
       "<polygon fill=\"black\" stroke=\"black\" points=\"420.02,-251.84 429.15,-246.48 418.67,-244.97 420.02,-251.84\"/>\n",
       "</g>\n",
       "<!-- granularity&#45;&gt;recipe_graphs -->\n",
       "<g id=\"edge7\" class=\"edge\">\n",
       "<title>granularity&#45;&gt;recipe_graphs</title>\n",
       "<path fill=\"none\" stroke=\"black\" d=\"M67.63,-287.9C66.79,-267.71 68.8,-234.55 88.22,-216 121.05,-184.64 239.75,-171.75 322.69,-166.51\"/>\n",
       "<polygon fill=\"black\" stroke=\"black\" points=\"323.11,-169.99 332.88,-165.89 322.68,-163 323.11,-169.99\"/>\n",
       "</g>\n",
       "<!-- granularity&#45;&gt;type_hierarchies -->\n",
       "<g id=\"edge10\" class=\"edge\">\n",
       "<title>granularity&#45;&gt;type_hierarchies</title>\n",
       "<path fill=\"none\" stroke=\"black\" d=\"M63.3,-287.88C57.8,-268.59 52.45,-237.17 67.22,-216 122.44,-136.86 233.61,-107.69 313.82,-97.01\"/>\n",
       "<polygon fill=\"black\" stroke=\"black\" points=\"314.45,-100.46 323.93,-95.74 313.57,-93.51 314.45,-100.46\"/>\n",
       "</g>\n",
       "<!-- in_out_aligned&#45;&gt;recipe_graphs -->\n",
       "<g id=\"edge11\" class=\"edge\">\n",
       "<title>in_out_aligned&#45;&gt;recipe_graphs</title>\n",
       "<path fill=\"none\" stroke=\"black\" d=\"M219.7,-219.34C257.62,-207.94 311.79,-191.67 352.17,-179.54\"/>\n",
       "<polygon fill=\"black\" stroke=\"black\" points=\"353.28,-182.86 361.85,-176.63 351.27,-176.15 353.28,-182.86\"/>\n",
       "</g>\n",
       "<!-- isomorphisms&#45;&gt;recipe_graphs -->\n",
       "<g id=\"edge12\" class=\"edge\">\n",
       "<title>isomorphisms&#45;&gt;recipe_graphs</title>\n",
       "<path fill=\"none\" stroke=\"black\" d=\"M465.97,-216.41C456.16,-207.5 443.91,-196.36 433.13,-186.56\"/>\n",
       "<polygon fill=\"black\" stroke=\"black\" points=\"435.35,-183.85 425.6,-179.71 430.65,-189.03 435.35,-183.85\"/>\n",
       "</g>\n",
       "<!-- recipe_graphs&#45;&gt;graph_properties -->\n",
       "<g id=\"edge13\" class=\"edge\">\n",
       "<title>recipe_graphs&#45;&gt;graph_properties</title>\n",
       "<path fill=\"none\" stroke=\"black\" d=\"M358.25,-148.16C314.53,-136.7 250.28,-119.86 202.85,-107.42\"/>\n",
       "<polygon fill=\"black\" stroke=\"black\" points=\"203.55,-103.99 192.99,-104.84 201.78,-110.76 203.55,-103.99\"/>\n",
       "</g>\n",
       "<!-- recipe_graphs&#45;&gt;type_hierarchies -->\n",
       "<g id=\"edge14\" class=\"edge\">\n",
       "<title>recipe_graphs&#45;&gt;type_hierarchies</title>\n",
       "<path fill=\"none\" stroke=\"black\" d=\"M407.22,-143.7C407.22,-135.98 407.22,-126.71 407.22,-118.11\"/>\n",
       "<polygon fill=\"black\" stroke=\"black\" points=\"410.72,-118.1 407.22,-108.1 403.72,-118.1 410.72,-118.1\"/>\n",
       "</g>\n",
       "<!-- subrecipes -->\n",
       "<g id=\"node9\" class=\"node\">\n",
       "<title>subrecipes</title>\n",
       "<ellipse fill=\"none\" stroke=\"black\" cx=\"330.22\" cy=\"-234\" rx=\"61.19\" ry=\"18\"/>\n",
       "<text text-anchor=\"middle\" x=\"330.22\" y=\"-230.3\" font-family=\"Times,serif\" font-size=\"14.00\">subrecipes</text>\n",
       "</g>\n",
       "<!-- subrecipes&#45;&gt;recipe_graphs -->\n",
       "<g id=\"edge15\" class=\"edge\">\n",
       "<title>subrecipes&#45;&gt;recipe_graphs</title>\n",
       "<path fill=\"none\" stroke=\"black\" d=\"M348.08,-216.76C357.94,-207.79 370.38,-196.49 381.3,-186.56\"/>\n",
       "<polygon fill=\"black\" stroke=\"black\" points=\"383.88,-188.95 388.92,-179.63 379.17,-183.77 383.88,-188.95\"/>\n",
       "</g>\n",
       "<!-- universal_types -->\n",
       "<g id=\"node11\" class=\"node\">\n",
       "<title>universal_types</title>\n",
       "<ellipse fill=\"none\" stroke=\"black\" cx=\"407.22\" cy=\"-18\" rx=\"83.39\" ry=\"18\"/>\n",
       "<text text-anchor=\"middle\" x=\"407.22\" y=\"-14.3\" font-family=\"Times,serif\" font-size=\"14.00\">universal_types</text>\n",
       "</g>\n",
       "<!-- type_hierarchies&#45;&gt;universal_types -->\n",
       "<g id=\"edge16\" class=\"edge\">\n",
       "<title>type_hierarchies&#45;&gt;universal_types</title>\n",
       "<path fill=\"none\" stroke=\"black\" d=\"M407.22,-71.7C407.22,-63.98 407.22,-54.71 407.22,-46.11\"/>\n",
       "<polygon fill=\"black\" stroke=\"black\" points=\"410.72,-46.1 407.22,-36.1 403.72,-46.1 410.72,-46.1\"/>\n",
       "</g>\n",
       "</g>\n",
       "</svg>\n"
      ],
      "text/plain": [
       "<graphviz.graphs.Digraph at 0x7f263819b640>"
      ]
     },
     "execution_count": 10,
     "metadata": {},
     "output_type": "execute_result"
    }
   ],
   "source": [
    "# def create_dependency_graph(dependency_map):\n",
    "#     dot = graphviz.Digraph()\n",
    "#     node_ids = {}\n",
    "#     for i,k in enumerate(dependency_map.keys()):\n",
    "#         print(f\"i,k : {i,k}\")\n",
    "#         node_ids[k] = 'n'+str(i)\n",
    "# #         dot.node(i, label=k, style='filled', color='yellow', shape='box')\n",
    "#         dot.node(k, label=k)\n",
    "#     for source, targets in dependency_map.items():\n",
    "# #         sid = node_ids[source]\n",
    "#         for target in targets:\n",
    "# #             tid = node_ids[target]\n",
    "#             dot.edge(source,target)\n",
    "#     return dot\n",
    "# create_dependency_graph creates a graph of the module dependencies\n",
    "create_dependency_graph(DEPENDENCY_MAP)"
   ]
  },
  {
   "cell_type": "code",
   "execution_count": 11,
   "metadata": {
    "scrolled": false
   },
   "outputs": [
    {
     "data": {
      "text/plain": [
       "{'acceptability',\n",
       " 'graph_properties',\n",
       " 'recipe_graphs',\n",
       " 'type_hierarchies',\n",
       " 'universal_types'}"
      ]
     },
     "execution_count": 11,
     "metadata": {},
     "output_type": "execute_result"
    }
   ],
   "source": [
    "# get_dependencies(...) resolves the full chain of dependencies for one or more modules.\n",
    "specified = ['acceptability']\n",
    "get_dependencies(specified)\n"
   ]
  },
  {
   "cell_type": "markdown",
   "metadata": {},
   "source": [
    "# Running ASP"
   ]
  },
  {
   "cell_type": "code",
   "execution_count": 16,
   "metadata": {},
   "outputs": [
    {
     "name": "stdout",
     "output_type": "stream",
     "text": [
      "loading...\n",
      "fpath =../asp_recipe_graphs/asp/domain_independent/universal_types.lp\n",
      "fpath =../asp_recipe_graphs/asp/domain_independent/graph_properties.lp\n",
      "fpath =../asp_recipe_graphs/asp/domain_independent/type_hierarchies.lp\n",
      "fpath =../asp_recipe_graphs/asp/domain_independent/recipe_graphs.lp\n",
      "fpath =../asp_recipe_graphs/asp/recipes/hummus_graph.lp\n",
      "fpath =../asp_recipe_graphs/asp/recipes/hummus_types.lp\n",
      "fpath =../asp_recipe_graphs/asp/recipes/cannellini_hummus_graph.lp\n"
     ]
    },
    {
     "name": "stderr",
     "output_type": "stream",
     "text": [
      "../asp_recipe_graphs/asp/recipes/cannellini_hummus_graph.lp:20:1-28: error: redefinition of constant:\n",
      "  #const max_c_node_index=17.\n",
      "../asp_recipe_graphs/asp/recipes/hummus_graph.lp:20:1-28: note: constant also defined here\n",
      "\n",
      "../asp_recipe_graphs/asp/recipes/cannellini_hummus_graph.lp:22:1-28: error: redefinition of constant:\n",
      "  #const max_a_node_index=10.\n",
      "../asp_recipe_graphs/asp/recipes/hummus_graph.lp:22:1-27: note: constant also defined here\n",
      "\n"
     ]
    },
    {
     "ename": "RuntimeError",
     "evalue": "parsing failed",
     "output_type": "error",
     "traceback": [
      "\u001b[0;31m---------------------------------------------------------------------------\u001b[0m",
      "\u001b[0;31mRuntimeError\u001b[0m                              Traceback (most recent call last)",
      "Input \u001b[0;32mIn [16]\u001b[0m, in \u001b[0;36m<cell line: 15>\u001b[0;34m()\u001b[0m\n\u001b[1;32m      5\u001b[0m fpaths\u001b[38;5;241m.\u001b[39mappend(\u001b[38;5;124m'\u001b[39m\u001b[38;5;124m../asp_recipe_graphs/asp/recipes/cannellini_hummus_types.lp\u001b[39m\u001b[38;5;124m'\u001b[39m)\n\u001b[1;32m      6\u001b[0m \u001b[38;5;66;03m#    load_and_solve('connected', fpaths)    \u001b[39;00m\n\u001b[1;32m      7\u001b[0m \u001b[38;5;66;03m#    load_and_solve('cyclic', fpaths)    \u001b[39;00m\n\u001b[1;32m      8\u001b[0m \u001b[38;5;66;03m#load_and_solve('arcs',fpaths)       \u001b[39;00m\n\u001b[0;32m   (...)\u001b[0m\n\u001b[1;32m     13\u001b[0m \u001b[38;5;66;03m#load_and_solve('explain not recipe',fpaths[:1])          \u001b[39;00m\n\u001b[1;32m     14\u001b[0m \u001b[38;5;66;03m#load_and_solve('recipes',fpaths)\u001b[39;00m\n\u001b[0;32m---> 15\u001b[0m \u001b[43mload_and_solve\u001b[49m\u001b[43m(\u001b[49m\u001b[38;5;124;43m'\u001b[39;49m\u001b[38;5;124;43mis recipe\u001b[39;49m\u001b[38;5;124;43m'\u001b[39;49m\u001b[43m,\u001b[49m\u001b[43mfpaths\u001b[49m\u001b[43m)\u001b[49m\n",
      "File \u001b[0;32m~/git/external/asp_recipe_graphs/asp_recipe_graphs/api/solver.py:34\u001b[0m, in \u001b[0;36mload_and_solve\u001b[0;34m(query, domain_files)\u001b[0m\n\u001b[1;32m     32\u001b[0m     dependencies \u001b[38;5;241m=\u001b[39m get_dependencies(query_info[\u001b[38;5;124m'\u001b[39m\u001b[38;5;124mrequires\u001b[39m\u001b[38;5;124m'\u001b[39m])\n\u001b[1;32m     33\u001b[0m     load_modules(ctl, dependencies)\n\u001b[0;32m---> 34\u001b[0m     \u001b[43mload_paths\u001b[49m\u001b[43m(\u001b[49m\u001b[43mctl\u001b[49m\u001b[43m,\u001b[49m\u001b[43m \u001b[49m\u001b[43mdomain_files\u001b[49m\u001b[43m)\u001b[49m\n\u001b[1;32m     35\u001b[0m \u001b[38;5;66;03m#    load_queries(ctl, [query])\u001b[39;00m\n\u001b[1;32m     36\u001b[0m     ctl\u001b[38;5;241m.\u001b[39madd(query, parameters, programme)\n",
      "File \u001b[0;32m~/git/external/asp_recipe_graphs/asp_recipe_graphs/api/solver.py:25\u001b[0m, in \u001b[0;36mload_paths\u001b[0;34m(ctl, paths)\u001b[0m\n\u001b[1;32m     23\u001b[0m \u001b[38;5;28;01mfor\u001b[39;00m fpath \u001b[38;5;129;01min\u001b[39;00m paths:\n\u001b[1;32m     24\u001b[0m     \u001b[38;5;28mprint\u001b[39m(\u001b[38;5;124mf\u001b[39m\u001b[38;5;124m\"\u001b[39m\u001b[38;5;124mfpath =\u001b[39m\u001b[38;5;132;01m{\u001b[39;00mfpath\u001b[38;5;132;01m}\u001b[39;00m\u001b[38;5;124m\"\u001b[39m)\n\u001b[0;32m---> 25\u001b[0m     \u001b[43mctl\u001b[49m\u001b[38;5;241;43m.\u001b[39;49m\u001b[43mload\u001b[49m\u001b[43m(\u001b[49m\u001b[43mfpath\u001b[49m\u001b[43m)\u001b[49m\n",
      "File \u001b[0;32m~/.local/lib/python3.10/site-packages/clingo/control.py:511\u001b[0m, in \u001b[0;36mControl.load\u001b[0;34m(self, path)\u001b[0m\n\u001b[1;32m    502\u001b[0m \u001b[38;5;28;01mdef\u001b[39;00m \u001b[38;5;21mload\u001b[39m(\u001b[38;5;28mself\u001b[39m, path: \u001b[38;5;28mstr\u001b[39m) \u001b[38;5;241m-\u001b[39m\u001b[38;5;241m>\u001b[39m \u001b[38;5;28;01mNone\u001b[39;00m:\n\u001b[1;32m    503\u001b[0m     \u001b[38;5;124;03m\"\"\"\u001b[39;00m\n\u001b[1;32m    504\u001b[0m \u001b[38;5;124;03m    Extend the logic program with a (non-ground) logic program in a file.\u001b[39;00m\n\u001b[1;32m    505\u001b[0m \n\u001b[0;32m   (...)\u001b[0m\n\u001b[1;32m    509\u001b[0m \u001b[38;5;124;03m        The path of the file to load.\u001b[39;00m\n\u001b[1;32m    510\u001b[0m \u001b[38;5;124;03m    \"\"\"\u001b[39;00m\n\u001b[0;32m--> 511\u001b[0m     \u001b[43m_handle_error\u001b[49m\u001b[43m(\u001b[49m\u001b[43m_lib\u001b[49m\u001b[38;5;241;43m.\u001b[39;49m\u001b[43mclingo_control_load\u001b[49m\u001b[43m(\u001b[49m\u001b[38;5;28;43mself\u001b[39;49m\u001b[38;5;241;43m.\u001b[39;49m\u001b[43m_rep\u001b[49m\u001b[43m,\u001b[49m\u001b[43m \u001b[49m\u001b[43mpath\u001b[49m\u001b[38;5;241;43m.\u001b[39;49m\u001b[43mencode\u001b[49m\u001b[43m(\u001b[49m\u001b[43m)\u001b[49m\u001b[43m)\u001b[49m\u001b[43m)\u001b[49m\n",
      "File \u001b[0;32m~/.local/lib/python3.10/site-packages/clingo/_internal.py:75\u001b[0m, in \u001b[0;36m_handle_error\u001b[0;34m(ret, handler)\u001b[0m\n\u001b[1;32m     73\u001b[0m \u001b[38;5;28;01mif\u001b[39;00m code \u001b[38;5;241m==\u001b[39m _lib\u001b[38;5;241m.\u001b[39mclingo_error_bad_alloc:\n\u001b[1;32m     74\u001b[0m     \u001b[38;5;28;01mraise\u001b[39;00m \u001b[38;5;167;01mMemoryError\u001b[39;00m(msg)\n\u001b[0;32m---> 75\u001b[0m \u001b[38;5;28;01mraise\u001b[39;00m \u001b[38;5;167;01mRuntimeError\u001b[39;00m(msg)\n",
      "\u001b[0;31mRuntimeError\u001b[0m: parsing failed"
     ]
    }
   ],
   "source": [
    "fpaths =[]\n",
    "fpaths.append('../asp_recipe_graphs/asp/recipes/hummus_graph.lp')\n",
    "fpaths.append('../asp_recipe_graphs/asp/recipes/hummus_types.lp')\n",
    "fpaths.append('../asp_recipe_graphs/asp/recipes/cannellini_hummus_graph.lp')\n",
    "fpaths.append('../asp_recipe_graphs/asp/recipes/cannellini_hummus_types.lp')\n",
    "#    load_and_solve('connected', fpaths)    \n",
    "#    load_and_solve('cyclic', fpaths)    \n",
    "#load_and_solve('arcs',fpaths)       \n",
    "#load_and_solve('types',fpaths)\n",
    "#load_and_solve('arcs and types',fpaths)          \n",
    "#load_and_solve('recipe_graph',fpaths[:1])          \n",
    "#load_and_solve('explain not recipe_graph',fpaths[:1])          \n",
    "#load_and_solve('explain not recipe',fpaths[:1])          \n",
    "#load_and_solve('recipes',fpaths)\n",
    "load_and_solve('is recipe',fpaths)\n"
   ]
  },
  {
   "cell_type": "markdown",
   "metadata": {},
   "source": [
    "## Older code"
   ]
  },
  {
   "cell_type": "code",
   "execution_count": 13,
   "metadata": {},
   "outputs": [],
   "source": [
    "\n",
    "lp_fnames = [\"GraphRecipes.lp\",\"ScratchExample.lp\"]\n",
    "lp_fnames = [\"GraphRecipes.lp\",\"SnacksOnToastExample.lp\"]"
   ]
  },
  {
   "cell_type": "code",
   "execution_count": 14,
   "metadata": {},
   "outputs": [
    {
     "name": "stderr",
     "output_type": "stream",
     "text": [
      "<cmd>: error: file could not be opened:\n",
      "  GraphRecipes.lp\n",
      "\n"
     ]
    },
    {
     "ename": "RuntimeError",
     "evalue": "parsing failed",
     "output_type": "error",
     "traceback": [
      "\u001b[0;31m---------------------------------------------------------------------------\u001b[0m",
      "\u001b[0;31mRuntimeError\u001b[0m                              Traceback (most recent call last)",
      "Input \u001b[0;32mIn [14]\u001b[0m, in \u001b[0;36m<cell line: 2>\u001b[0;34m()\u001b[0m\n\u001b[1;32m      1\u001b[0m ctl \u001b[38;5;241m=\u001b[39m clingo\u001b[38;5;241m.\u001b[39mControl()\n\u001b[1;32m      2\u001b[0m \u001b[38;5;28;01mfor\u001b[39;00m lp_fname \u001b[38;5;129;01min\u001b[39;00m lp_fnames:\n\u001b[0;32m----> 3\u001b[0m     \u001b[43mctl\u001b[49m\u001b[38;5;241;43m.\u001b[39;49m\u001b[43mload\u001b[49m\u001b[43m(\u001b[49m\u001b[43mlp_fname\u001b[49m\u001b[43m)\u001b[49m\n\u001b[1;32m      4\u001b[0m ctl\u001b[38;5;241m.\u001b[39mground([(\u001b[38;5;124m\"\u001b[39m\u001b[38;5;124mbase\u001b[39m\u001b[38;5;124m\"\u001b[39m, [])])\n\u001b[1;32m      5\u001b[0m \u001b[38;5;66;03m#answer_sets = []\u001b[39;00m\n",
      "File \u001b[0;32m~/.local/lib/python3.10/site-packages/clingo/control.py:511\u001b[0m, in \u001b[0;36mControl.load\u001b[0;34m(self, path)\u001b[0m\n\u001b[1;32m    502\u001b[0m \u001b[38;5;28;01mdef\u001b[39;00m \u001b[38;5;21mload\u001b[39m(\u001b[38;5;28mself\u001b[39m, path: \u001b[38;5;28mstr\u001b[39m) \u001b[38;5;241m-\u001b[39m\u001b[38;5;241m>\u001b[39m \u001b[38;5;28;01mNone\u001b[39;00m:\n\u001b[1;32m    503\u001b[0m     \u001b[38;5;124;03m\"\"\"\u001b[39;00m\n\u001b[1;32m    504\u001b[0m \u001b[38;5;124;03m    Extend the logic program with a (non-ground) logic program in a file.\u001b[39;00m\n\u001b[1;32m    505\u001b[0m \n\u001b[0;32m   (...)\u001b[0m\n\u001b[1;32m    509\u001b[0m \u001b[38;5;124;03m        The path of the file to load.\u001b[39;00m\n\u001b[1;32m    510\u001b[0m \u001b[38;5;124;03m    \"\"\"\u001b[39;00m\n\u001b[0;32m--> 511\u001b[0m     \u001b[43m_handle_error\u001b[49m\u001b[43m(\u001b[49m\u001b[43m_lib\u001b[49m\u001b[38;5;241;43m.\u001b[39;49m\u001b[43mclingo_control_load\u001b[49m\u001b[43m(\u001b[49m\u001b[38;5;28;43mself\u001b[39;49m\u001b[38;5;241;43m.\u001b[39;49m\u001b[43m_rep\u001b[49m\u001b[43m,\u001b[49m\u001b[43m \u001b[49m\u001b[43mpath\u001b[49m\u001b[38;5;241;43m.\u001b[39;49m\u001b[43mencode\u001b[49m\u001b[43m(\u001b[49m\u001b[43m)\u001b[49m\u001b[43m)\u001b[49m\u001b[43m)\u001b[49m\n",
      "File \u001b[0;32m~/.local/lib/python3.10/site-packages/clingo/_internal.py:75\u001b[0m, in \u001b[0;36m_handle_error\u001b[0;34m(ret, handler)\u001b[0m\n\u001b[1;32m     73\u001b[0m \u001b[38;5;28;01mif\u001b[39;00m code \u001b[38;5;241m==\u001b[39m _lib\u001b[38;5;241m.\u001b[39mclingo_error_bad_alloc:\n\u001b[1;32m     74\u001b[0m     \u001b[38;5;28;01mraise\u001b[39;00m \u001b[38;5;167;01mMemoryError\u001b[39;00m(msg)\n\u001b[0;32m---> 75\u001b[0m \u001b[38;5;28;01mraise\u001b[39;00m \u001b[38;5;167;01mRuntimeError\u001b[39;00m(msg)\n",
      "\u001b[0;31mRuntimeError\u001b[0m: parsing failed"
     ]
    }
   ],
   "source": [
    "ctl = clingo.Control()\n",
    "for lp_fname in lp_fnames:\n",
    "    ctl.load(lp_fname)\n",
    "ctl.ground([(\"base\", [])])\n",
    "#answer_sets = []\n",
    "result = ctl.solve(on_model=lambda m: print(\"Answer: {}\".format(m)))"
   ]
  },
  {
   "cell_type": "code",
   "execution_count": null,
   "metadata": {},
   "outputs": [],
   "source": [
    "ctl = clingo.Control()\n",
    "for lp_fname in lp_fnames:\n",
    "    ctl.load(lp_fname)\n",
    "ctl.ground([(\"base\", [])])\n",
    "models = []\n",
    "with ctl.solve(yield_=True) as handle:\n",
    "    for model in handle:\n",
    "        models.append(model.symbols(shown=True))\n",
    "models"
   ]
  },
  {
   "cell_type": "code",
   "execution_count": null,
   "metadata": {},
   "outputs": [],
   "source": [
    "for atom in models[0]:\n",
    "    print(f\"atom.type = {atom.type}\")\n",
    "    if atom.type == symbol.SymbolType.Function:\n",
    "        print(f\"atom.name = {atom.name}\")\n",
    "        print(f\"atom.arguments = {atom.arguments}\")\n",
    "        print(f\"str(atom) = {str(atom)}\")\n",
    "        #print(f\"atom.negative = {atom.negative}\")\n",
    "        #print(f\"atom.number = {atom.number}\")\n",
    "        #print(f\"atom.positive = {atom.positive}\")\n",
    "        #print(f\"atom.string = {atom.string}\")\n"
   ]
  },
  {
   "cell_type": "code",
   "execution_count": null,
   "metadata": {},
   "outputs": [],
   "source": []
  }
 ],
 "metadata": {
  "kernelspec": {
   "display_name": "Python 3 (ipykernel)",
   "language": "python",
   "name": "python3"
  },
  "language_info": {
   "codemirror_mode": {
    "name": "ipython",
    "version": 3
   },
   "file_extension": ".py",
   "mimetype": "text/x-python",
   "name": "python",
   "nbconvert_exporter": "python",
   "pygments_lexer": "ipython3",
   "version": "3.10.6"
  }
 },
 "nbformat": 4,
 "nbformat_minor": 2
}
