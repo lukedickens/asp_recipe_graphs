{
 "cells": [
  {
   "cell_type": "code",
   "execution_count": 1,
   "metadata": {},
   "outputs": [],
   "source": [
    "import json\n",
    "import re \n",
    "import copy\n",
    "import graphviz\n",
    "import sys\n",
    "import clingo\n",
    "import clingo.symbol as symbol\n",
    "from importlib import reload"
   ]
  },
  {
   "cell_type": "code",
   "execution_count": 2,
   "metadata": {},
   "outputs": [
    {
     "name": "stdout",
     "output_type": "stream",
     "text": [
      "thisdir = /home/luke/git/external/asp_recipe_graphs/notebooks\n",
      "Adding parent directory to python path\n",
      "sys.path =\n",
      "['/home/luke/git/external/asp_recipe_graphs/notebooks', '/home/luke/git/external/asp_recipe_graphs', '/usr/lib/python310.zip', '/usr/lib/python3.10', '/usr/lib/python3.10/lib-dynload', '', '/home/luke/.local/lib/python3.10/site-packages', '/usr/local/lib/python3.10/dist-packages', '/usr/lib/python3/dist-packages', '/usr/lib/python3.10/dist-packages']\n"
     ]
    }
   ],
   "source": [
    "# This is a hack to make the library in the parent folder available for imoprts\n",
    "# A better solution is by np8 here:\n",
    "# https://stackoverflow.com/questions/714063/importing-modules-from-parent-folder\n",
    "import sys\n",
    "import os\n",
    "import inspect\n",
    "\n",
    "thisdir = sys.path[0]\n",
    "print(f\"thisdir = {thisdir}\")\n",
    "parentdir = os.path.dirname(thisdir)\n",
    "#print(f\"parentdir = {parentdir}\")\n",
    "if not parentdir in sys.path:\n",
    "    print(\"Adding parent directory to python path\")\n",
    "    sys.path.insert(1, parentdir)\n",
    "else:\n",
    "    print(\"Skipping adding parent direct to path (there already)\")\n",
    "\n",
    "print(f\"sys.path =\\n{sys.path}\")\n"
   ]
  },
  {
   "cell_type": "code",
   "execution_count": 3,
   "metadata": {},
   "outputs": [],
   "source": [
    "## local modules\n",
    "os.environ[\"GRASP_SRC_DIR\"] = '..'\n",
    "\n",
    "import asp_recipe_graphs.api.modules\n",
    "reload(asp_recipe_graphs.api.modules)\n",
    "\n",
    "from asp_recipe_graphs.api.modules import MODULES\n",
    "from asp_recipe_graphs.api.modules import RE_FIND_TERMS\n",
    "from asp_recipe_graphs.api.modules import RE_IS_DEFINITION\n",
    "from asp_recipe_graphs.api.modules import ASP_MODULE_DEFINES\n",
    "from asp_recipe_graphs.api.modules import ASP_MODULE_USES\n",
    "from asp_recipe_graphs.api.modules import DEPENDENCY_MAP\n",
    "from asp_recipe_graphs.api.modules import ALL_DEFINED\n",
    "from asp_recipe_graphs.api.modules import ALL_USES\n",
    "from asp_recipe_graphs.api.modules import UNDEFINED_TERMS\n",
    "from asp_recipe_graphs.api.modules import get_dependencies\n",
    "from asp_recipe_graphs.api.modules import what_defines\n",
    "from asp_recipe_graphs.api.modules import what_uses\n",
    "\n",
    "import asp_recipe_graphs.api.asp2graph\n",
    "reload(asp_recipe_graphs.api.asp2graph)\n",
    "from asp_recipe_graphs.api.asp2graph import create_dependency_graph\n",
    "\n",
    "import asp_recipe_graphs.api.solver\n",
    "reload(asp_recipe_graphs.api.solver)\n",
    "from asp_recipe_graphs.api.solver import load_and_solve\n"
   ]
  },
  {
   "cell_type": "markdown",
   "metadata": {},
   "source": [
    "## Modules\n",
    "\n",
    "There are a number of asp modules, which define and use terms, and these are subject to change. The python module `asp_recipe_graphs.asp.modules` provides functionality that interrogates these modules and gives information on this. In particular, there is information on which modules define and use which terms, which modules directly depend on other modules, and getting a full dependency chain for a given module or set of modules.\n",
    "\n",
    "Note that this is not precise. There will be errors in this but at the time of writing there were none detected that interfere with the logic of the solver (see below)."
   ]
  },
  {
   "cell_type": "code",
   "execution_count": 4,
   "metadata": {},
   "outputs": [
    {
     "name": "stdout",
     "output_type": "stream",
     "text": [
      "Defines:\n",
      "\tacceptability defines {'acceptable_recipe', 'acceptability_tuple'}\n",
      "\tcomposition defines {'composable', 'incompatible_node_types', 'empty_intersection'}\n",
      "\tequivalence defines {'equivalent'}\n",
      "\tgranularity defines {'not_same_recipe', 'mapped_to_by_g_function', 'finer_grained', 'more_specific', 'path_or_equal'}\n",
      "\tgraph_properties defines {'graph', 'connected_in', 'connected', 'path', 'is_node', 'cyclic', 'has_outgoing_arc', 'has_incoming_arc'}\n",
      "\tin_out_aligned defines {'in_out_aligned'}\n",
      "\tisomorphisms defines {'isomorphic'}\n",
      "\tdebug_recipes defines {'has_untyped_node', 'conflicting_types'}\n",
      "\trecipe_graphs defines {'atomic_recipe', 'graph', 'type_function', 'high_indexes_allowed', 'given_recipe_graph', 'subrecipe_graph_of', 'recipe_graph', 'recipe', 'strict_subrecipe_graph', 'atomic_recipe_graph', 'typed_graph'}\n",
      "\tsubrecipes defines {'subrecipe_of'}\n",
      "\ttype_hierarchies defines {'action_type', 'subtype', 'action_or_comestible_type', 'same_type_path', 'subtype_or_equal', 'comestible_type'}\n",
      "\tuniversal_types defines {'child'}\n",
      "\n",
      "Uses\n",
      "\tacceptability uses {'exists_lexically_bigger_output_type_than', 'arcs', 'exists_output_type_lexically_inbetween', 'acceptable_action_node', 'partial_inset_with_size', 'type_of', 'given_recipe', 'recipe', 'partial_outset_with_size', 'exists_input_type_lexically_inbetween', 'arc', 'acts', 'input_set', 'partial_inset', 'c', 'partial_outset', 'in_partial_inset', 's_', 'a', 'output_set', 'in_partial_outset', 'exists_lexically_bigger_input_type_than', 'in'}\n",
      "\tcomposition uses {'c_nodes', 'arcs', 'set_of', 'same_type_path', 'type_of', 'composition', 'recipe', 'mid', 'out', 'acts', 'c', 'recipe_graph', 'nodes', 'in', 'join_types_match'}\n",
      "\tequivalence uses {'c', 'bijection', 'type_of', 'a', 'isomorphic', 'recipe'}\n",
      "\tgranularity uses {'arcs', 'a_nodes', 'one_path_longer', 'path', 'subtype_or_equal', 'type_of', 'isomorphic', 'recipe', 'number_of_action_nodes', 'out', 'arc', 'c', 'in_out_aligned', 'bijection', 'recipe_graph', 'a', 'nodes', 'g_function', 'in', 'path_with_half_length'}\n",
      "\tgraph_properties uses {'c_nodes', 'arcs', 'a_nodes', 'empty', 'is_c_node', 'c_node_index', 'is_a_node', 'a_node_index', 'arc', 'c', 'a', 'is_arc', 'nodes', 'in', 'a_node_properly_connected'}\n",
      "\tin_out_aligned uses {'out', 'in_types', 'c', 'type_of', 'recipe', 'out_types', 'in'}\n",
      "\tisomorphisms uses {'c_nodes', 'arcs', 'a_nodes', 'arc', 'c', 'bijection', 'recipe_graph', 'a', 'in'}\n",
      "\tdebug_recipes uses {'c_nodes', 'action_type', 'a_nodes', 'action_or_comestible_type', 'same_type_path', 'c', 'type_of', 'a', 'nodes', 'comestible_type', 'in', 'typed_graph'}\n",
      "\trecipe_graphs uses {'arcs', 'empty', 'same_type_path', 'connected', 'path', 'type_of', 'is_a_node', 'acts', 'cyclic', 'nodes', 'in', 'a_node_properly_connected', 'c_nodes', 'a_nodes', 'is_c_node', 'given_recipe', 'c_node_index', 'comestible_type', 'mid', 'out', 'action_type', 'arc', 'a_node_index', 'c', 'a', 'is_arc'}\n",
      "\tsubrecipes uses {'subrecipe_graph_of', 'type_of', 'recipe'}\n",
      "\ttype_hierarchies uses {'child'}\n",
      "\tuniversal_types uses {'int', 'numbered_mixture'}\n",
      "\n",
      "undefined_terms = {'arcs', 'int', 'set_of', 'empty', 'partial_inset_with_size', 'type_of', 'composition', 'is_a_node', 'acts', 'input_set', 'partial_outset', 's_', 'bijection', 'nodes', 'output_set', 'in_partial_outset', 'exists_lexically_bigger_input_type_than', 'in', 'join_types_match', 'path_with_half_length', 'a_node_properly_connected', 'c_nodes', 'exists_lexically_bigger_output_type_than', 'a_nodes', 'in_types', 'exists_output_type_lexically_inbetween', 'acceptable_action_node', 'one_path_longer', 'numbered_mixture', 'is_c_node', 'given_recipe', 'c_node_index', 'partial_outset_with_size', 'exists_input_type_lexically_inbetween', 'mid', 'out_types', 'out', 'arc', 'a_node_index', 'partial_inset', 'c', 'in_partial_inset', 'a', 'is_arc', 'g_function', 'number_of_action_nodes'}\n",
      "\n"
     ]
    }
   ],
   "source": [
    "print(\"Defines:\")\n",
    "for m, defines in ASP_MODULE_DEFINES.items():\n",
    "    print(f\"\\t{m} defines {defines}\")\n",
    "# print(f\"asp_module_defines = {ASP_MODULE_DEFINES}\")\n",
    "print()\n",
    "print(\"Uses\")\n",
    "for m, uses in ASP_MODULE_USES.items():\n",
    "    print(f\"\\t{m} uses {uses}\")\n",
    "print()\n",
    "print(f\"undefined_terms = {UNDEFINED_TERMS}\")\n",
    "print()"
   ]
  },
  {
   "cell_type": "code",
   "execution_count": 5,
   "metadata": {},
   "outputs": [
    {
     "data": {
      "text/plain": [
       "['acceptability',\n",
       " 'composition',\n",
       " 'equivalence',\n",
       " 'granularity',\n",
       " 'graph_properties',\n",
       " 'in_out_aligned',\n",
       " 'isomorphisms',\n",
       " 'debug_recipes',\n",
       " 'recipe_graphs',\n",
       " 'subrecipes',\n",
       " 'type_hierarchies',\n",
       " 'universal_types']"
      ]
     },
     "execution_count": 5,
     "metadata": {},
     "output_type": "execute_result"
    }
   ],
   "source": [
    "# MODULES tells us what modules are defined (domain independent)\n",
    "MODULES"
   ]
  },
  {
   "cell_type": "code",
   "execution_count": 6,
   "metadata": {},
   "outputs": [
    {
     "name": "stdout",
     "output_type": "stream",
     "text": [
      "ALL_DEFINED = {'has_untyped_node', 'composable', 'graph', 'incompatible_node_types', 'empty_intersection', 'connected_in', 'equivalent', 'same_type_path', 'connected', 'path', 'is_node', 'more_specific', 'isomorphic', 'conflicting_types', 'recipe', 'has_outgoing_arc', 'atomic_recipe_graph', 'type_function', 'mapped_to_by_g_function', 'in_out_aligned', 'finer_grained', 'cyclic', 'subrecipe_graph_of', 'recipe_graph', 'atomic_recipe', 'not_same_recipe', 'subtype', 'action_or_comestible_type', 'high_indexes_allowed', 'subtype_or_equal', 'given_recipe_graph', 'strict_subrecipe_graph', 'comestible_type', 'typed_graph', 'action_type', 'subrecipe_of', 'child', 'path_or_equal', 'has_incoming_arc', 'acceptable_recipe', 'acceptability_tuple'}\n",
      "\n",
      "ALL_USES = {'arcs', 'int', 'set_of', 'empty', 'same_type_path', 'connected', 'path', 'partial_inset_with_size', 'type_of', 'composition', 'recipe', 'isomorphic', 'is_a_node', 'acts', 'input_set', 'partial_outset', 's_', 'bijection', 'recipe_graph', 'cyclic', 'subrecipe_graph_of', 'nodes', 'output_set', 'in_partial_outset', 'exists_lexically_bigger_input_type_than', 'in', 'join_types_match', 'path_with_half_length', 'a_node_properly_connected', 'c_nodes', 'exists_lexically_bigger_output_type_than', 'a_nodes', 'in_types', 'exists_output_type_lexically_inbetween', 'action_or_comestible_type', 'acceptable_action_node', 'one_path_longer', 'subtype_or_equal', 'is_c_node', 'numbered_mixture', 'given_recipe', 'c_node_index', 'partial_outset_with_size', 'exists_input_type_lexically_inbetween', 'mid', 'out_types', 'comestible_type', 'typed_graph', 'out', 'action_type', 'arc', 'a_node_index', 'partial_inset', 'c', 'in_partial_inset', 'a', 'child', 'is_arc', 'g_function', 'in_out_aligned', 'number_of_action_nodes'}\n",
      "\n",
      "UNDEFINED_TERMS = {'arcs', 'int', 'set_of', 'empty', 'partial_inset_with_size', 'type_of', 'composition', 'is_a_node', 'acts', 'input_set', 'partial_outset', 's_', 'bijection', 'nodes', 'output_set', 'in_partial_outset', 'exists_lexically_bigger_input_type_than', 'in', 'join_types_match', 'path_with_half_length', 'a_node_properly_connected', 'c_nodes', 'exists_lexically_bigger_output_type_than', 'a_nodes', 'in_types', 'exists_output_type_lexically_inbetween', 'acceptable_action_node', 'one_path_longer', 'numbered_mixture', 'is_c_node', 'given_recipe', 'c_node_index', 'partial_outset_with_size', 'exists_input_type_lexically_inbetween', 'mid', 'out_types', 'out', 'arc', 'a_node_index', 'partial_inset', 'c', 'in_partial_inset', 'a', 'is_arc', 'g_function', 'number_of_action_nodes'}\n"
     ]
    }
   ],
   "source": [
    "# all terms that have been defined in at least one module,\n",
    "print(f\"ALL_DEFINED = {ALL_DEFINED}\", end='\\n\\n')\n",
    "# all terms that are used in at least one module\n",
    "print(f\"ALL_USES = {ALL_USES}\", end='\\n\\n')\n",
    "# all terms that are used but not defined\n",
    "print(f\"UNDEFINED_TERMS = {UNDEFINED_TERMS}\")\n"
   ]
  },
  {
   "cell_type": "code",
   "execution_count": 17,
   "metadata": {},
   "outputs": [
    {
     "data": {
      "text/plain": [
       "'recipe_graphs'"
      ]
     },
     "execution_count": 17,
     "metadata": {},
     "output_type": "execute_result"
    }
   ],
   "source": [
    "# what_defines(...) asks what module defines a given term \n",
    "# (if more than one module defines a term it returns the first module detected)\n",
    "what_defines('high_indexes_allowed')"
   ]
  },
  {
   "cell_type": "code",
   "execution_count": 16,
   "metadata": {},
   "outputs": [
    {
     "data": {
      "text/plain": [
       "[]"
      ]
     },
     "execution_count": 16,
     "metadata": {},
     "output_type": "execute_result"
    }
   ],
   "source": [
    "# what_uses(...) asks what modules use a given term.\n",
    "what_uses('high_indexes_allowed')"
   ]
  },
  {
   "cell_type": "code",
   "execution_count": 9,
   "metadata": {
    "scrolled": true
   },
   "outputs": [
    {
     "name": "stdout",
     "output_type": "stream",
     "text": [
      "dependency_map = {'acceptability': {'recipe_graphs'}, 'composition': {'recipe_graphs', 'type_hierarchies'}, 'equivalence': {'recipe_graphs', 'isomorphisms'}, 'granularity': {'graph_properties', 'recipe_graphs', 'type_hierarchies', 'in_out_aligned', 'isomorphisms'}, 'graph_properties': set(), 'in_out_aligned': {'recipe_graphs'}, 'isomorphisms': {'recipe_graphs'}, 'debug_recipes': {'recipe_graphs', 'type_hierarchies'}, 'recipe_graphs': {'graph_properties', 'type_hierarchies'}, 'subrecipes': {'recipe_graphs'}, 'type_hierarchies': {'universal_types'}, 'universal_types': set()}\n"
     ]
    }
   ],
   "source": [
    "# DEPENDENCY_MAP map shows the direct dependencies between modules. \n",
    "print(f\"dependency_map = {DEPENDENCY_MAP}\")"
   ]
  },
  {
   "cell_type": "code",
   "execution_count": 10,
   "metadata": {},
   "outputs": [
    {
     "data": {
      "image/svg+xml": [
       "<?xml version=\"1.0\" encoding=\"UTF-8\" standalone=\"no\"?>\n",
       "<!DOCTYPE svg PUBLIC \"-//W3C//DTD SVG 1.1//EN\"\n",
       " \"http://www.w3.org/Graphics/SVG/1.1/DTD/svg11.dtd\">\n",
       "<!-- Generated by graphviz version 2.43.0 (0)\n",
       " -->\n",
       "<!-- Title: %3 Pages: 1 -->\n",
       "<svg width=\"1091pt\" height=\"332pt\"\n",
       " viewBox=\"0.00 0.00 1091.49 332.00\" xmlns=\"http://www.w3.org/2000/svg\" xmlns:xlink=\"http://www.w3.org/1999/xlink\">\n",
       "<g id=\"graph0\" class=\"graph\" transform=\"scale(1 1) rotate(0) translate(4 328)\">\n",
       "<title>%3</title>\n",
       "<polygon fill=\"white\" stroke=\"transparent\" points=\"-4,4 -4,-328 1087.49,-328 1087.49,4 -4,4\"/>\n",
       "<!-- acceptability -->\n",
       "<g id=\"node1\" class=\"node\">\n",
       "<title>acceptability</title>\n",
       "<ellipse fill=\"none\" stroke=\"black\" cx=\"342.14\" cy=\"-234\" rx=\"70.39\" ry=\"18\"/>\n",
       "<text text-anchor=\"middle\" x=\"342.14\" y=\"-230.3\" font-family=\"Times,serif\" font-size=\"14.00\">acceptability</text>\n",
       "</g>\n",
       "<!-- recipe_graphs -->\n",
       "<g id=\"node9\" class=\"node\">\n",
       "<title>recipe_graphs</title>\n",
       "<ellipse fill=\"none\" stroke=\"black\" cx=\"557.14\" cy=\"-162\" rx=\"76.09\" ry=\"18\"/>\n",
       "<text text-anchor=\"middle\" x=\"557.14\" y=\"-158.3\" font-family=\"Times,serif\" font-size=\"14.00\">recipe_graphs</text>\n",
       "</g>\n",
       "<!-- acceptability&#45;&gt;recipe_graphs -->\n",
       "<g id=\"edge1\" class=\"edge\">\n",
       "<title>acceptability&#45;&gt;recipe_graphs</title>\n",
       "<path fill=\"none\" stroke=\"black\" d=\"M383.85,-219.42C418.38,-208.18 467.62,-192.15 504.79,-180.05\"/>\n",
       "<polygon fill=\"black\" stroke=\"black\" points=\"506.02,-183.32 514.45,-176.9 503.85,-176.67 506.02,-183.32\"/>\n",
       "</g>\n",
       "<!-- composition -->\n",
       "<g id=\"node2\" class=\"node\">\n",
       "<title>composition</title>\n",
       "<ellipse fill=\"none\" stroke=\"black\" cx=\"844.14\" cy=\"-234\" rx=\"66.89\" ry=\"18\"/>\n",
       "<text text-anchor=\"middle\" x=\"844.14\" y=\"-230.3\" font-family=\"Times,serif\" font-size=\"14.00\">composition</text>\n",
       "</g>\n",
       "<!-- composition&#45;&gt;recipe_graphs -->\n",
       "<g id=\"edge2\" class=\"edge\">\n",
       "<title>composition&#45;&gt;recipe_graphs</title>\n",
       "<path fill=\"none\" stroke=\"black\" d=\"M796.43,-221.36C747.61,-209.46 671.58,-190.91 618.36,-177.93\"/>\n",
       "<polygon fill=\"black\" stroke=\"black\" points=\"618.91,-174.46 608.36,-175.49 617.25,-181.26 618.91,-174.46\"/>\n",
       "</g>\n",
       "<!-- type_hierarchies -->\n",
       "<g id=\"node11\" class=\"node\">\n",
       "<title>type_hierarchies</title>\n",
       "<ellipse fill=\"none\" stroke=\"black\" cx=\"667.14\" cy=\"-90\" rx=\"87.99\" ry=\"18\"/>\n",
       "<text text-anchor=\"middle\" x=\"667.14\" y=\"-86.3\" font-family=\"Times,serif\" font-size=\"14.00\">type_hierarchies</text>\n",
       "</g>\n",
       "<!-- composition&#45;&gt;type_hierarchies -->\n",
       "<g id=\"edge3\" class=\"edge\">\n",
       "<title>composition&#45;&gt;type_hierarchies</title>\n",
       "<path fill=\"none\" stroke=\"black\" d=\"M823.84,-216.71C792.4,-191.49 731.82,-142.89 695.89,-114.07\"/>\n",
       "<polygon fill=\"black\" stroke=\"black\" points=\"697.74,-111.06 687.75,-107.54 693.36,-116.52 697.74,-111.06\"/>\n",
       "</g>\n",
       "<!-- equivalence -->\n",
       "<g id=\"node3\" class=\"node\">\n",
       "<title>equivalence</title>\n",
       "<ellipse fill=\"none\" stroke=\"black\" cx=\"557.14\" cy=\"-306\" rx=\"65.79\" ry=\"18\"/>\n",
       "<text text-anchor=\"middle\" x=\"557.14\" y=\"-302.3\" font-family=\"Times,serif\" font-size=\"14.00\">equivalence</text>\n",
       "</g>\n",
       "<!-- isomorphisms -->\n",
       "<g id=\"node7\" class=\"node\">\n",
       "<title>isomorphisms</title>\n",
       "<ellipse fill=\"none\" stroke=\"black\" cx=\"506.14\" cy=\"-234\" rx=\"75.29\" ry=\"18\"/>\n",
       "<text text-anchor=\"middle\" x=\"506.14\" y=\"-230.3\" font-family=\"Times,serif\" font-size=\"14.00\">isomorphisms</text>\n",
       "</g>\n",
       "<!-- equivalence&#45;&gt;isomorphisms -->\n",
       "<g id=\"edge5\" class=\"edge\">\n",
       "<title>equivalence&#45;&gt;isomorphisms</title>\n",
       "<path fill=\"none\" stroke=\"black\" d=\"M544.8,-288.05C538.66,-279.63 531.12,-269.28 524.33,-259.97\"/>\n",
       "<polygon fill=\"black\" stroke=\"black\" points=\"527.09,-257.81 518.37,-251.79 521.43,-261.93 527.09,-257.81\"/>\n",
       "</g>\n",
       "<!-- equivalence&#45;&gt;recipe_graphs -->\n",
       "<g id=\"edge4\" class=\"edge\">\n",
       "<title>equivalence&#45;&gt;recipe_graphs</title>\n",
       "<path fill=\"none\" stroke=\"black\" d=\"M571.12,-288.04C578.34,-278.18 586.39,-265.13 590.14,-252 594.54,-236.62 594.54,-231.38 590.14,-216 587.39,-206.36 582.31,-196.76 576.95,-188.44\"/>\n",
       "<polygon fill=\"black\" stroke=\"black\" points=\"579.67,-186.22 571.12,-179.96 573.91,-190.19 579.67,-186.22\"/>\n",
       "</g>\n",
       "<!-- granularity -->\n",
       "<g id=\"node4\" class=\"node\">\n",
       "<title>granularity</title>\n",
       "<ellipse fill=\"none\" stroke=\"black\" cx=\"71.14\" cy=\"-306\" rx=\"63.09\" ry=\"18\"/>\n",
       "<text text-anchor=\"middle\" x=\"71.14\" y=\"-302.3\" font-family=\"Times,serif\" font-size=\"14.00\">granularity</text>\n",
       "</g>\n",
       "<!-- graph_properties -->\n",
       "<g id=\"node5\" class=\"node\">\n",
       "<title>graph_properties</title>\n",
       "<ellipse fill=\"none\" stroke=\"black\" cx=\"313.14\" cy=\"-90\" rx=\"90.98\" ry=\"18\"/>\n",
       "<text text-anchor=\"middle\" x=\"313.14\" y=\"-86.3\" font-family=\"Times,serif\" font-size=\"14.00\">graph_properties</text>\n",
       "</g>\n",
       "<!-- granularity&#45;&gt;graph_properties -->\n",
       "<g id=\"edge6\" class=\"edge\">\n",
       "<title>granularity&#45;&gt;graph_properties</title>\n",
       "<path fill=\"none\" stroke=\"black\" d=\"M48.75,-289.06C37.58,-279.69 25.19,-266.8 19.14,-252 0.98,-207.57 -11.64,-180.83 19.14,-144 43.93,-114.34 139.53,-101.25 215.07,-95.49\"/>\n",
       "<polygon fill=\"black\" stroke=\"black\" points=\"215.39,-98.98 225.11,-94.76 214.89,-92 215.39,-98.98\"/>\n",
       "</g>\n",
       "<!-- in_out_aligned -->\n",
       "<g id=\"node6\" class=\"node\">\n",
       "<title>in_out_aligned</title>\n",
       "<ellipse fill=\"none\" stroke=\"black\" cx=\"176.14\" cy=\"-234\" rx=\"77.19\" ry=\"18\"/>\n",
       "<text text-anchor=\"middle\" x=\"176.14\" y=\"-230.3\" font-family=\"Times,serif\" font-size=\"14.00\">in_out_aligned</text>\n",
       "</g>\n",
       "<!-- granularity&#45;&gt;in_out_aligned -->\n",
       "<g id=\"edge9\" class=\"edge\">\n",
       "<title>granularity&#45;&gt;in_out_aligned</title>\n",
       "<path fill=\"none\" stroke=\"black\" d=\"M94.71,-289.29C109.09,-279.7 127.7,-267.3 143.49,-256.77\"/>\n",
       "<polygon fill=\"black\" stroke=\"black\" points=\"145.55,-259.6 151.93,-251.14 141.67,-253.78 145.55,-259.6\"/>\n",
       "</g>\n",
       "<!-- granularity&#45;&gt;isomorphisms -->\n",
       "<g id=\"edge10\" class=\"edge\">\n",
       "<title>granularity&#45;&gt;isomorphisms</title>\n",
       "<path fill=\"none\" stroke=\"black\" d=\"M126.74,-297.41C195.89,-287.77 317.48,-270.2 421.14,-252 427.46,-250.89 434.04,-249.68 440.61,-248.43\"/>\n",
       "<polygon fill=\"black\" stroke=\"black\" points=\"441.73,-251.78 450.89,-246.44 440.41,-244.9 441.73,-251.78\"/>\n",
       "</g>\n",
       "<!-- granularity&#45;&gt;recipe_graphs -->\n",
       "<g id=\"edge7\" class=\"edge\">\n",
       "<title>granularity&#45;&gt;recipe_graphs</title>\n",
       "<path fill=\"none\" stroke=\"black\" d=\"M69.4,-287.73C68.4,-267.37 70.25,-234.05 90.14,-216 117.91,-190.81 346.47,-174.47 473.23,-167.26\"/>\n",
       "<polygon fill=\"black\" stroke=\"black\" points=\"473.51,-170.75 483.3,-166.7 473.12,-163.76 473.51,-170.75\"/>\n",
       "</g>\n",
       "<!-- granularity&#45;&gt;type_hierarchies -->\n",
       "<g id=\"edge8\" class=\"edge\">\n",
       "<title>granularity&#45;&gt;type_hierarchies</title>\n",
       "<path fill=\"none\" stroke=\"black\" d=\"M64.51,-287.82C58.17,-268.19 51.76,-236.15 68.14,-216 130.78,-138.94 421.39,-107.77 573.6,-96.56\"/>\n",
       "<polygon fill=\"black\" stroke=\"black\" points=\"574.14,-100.03 583.86,-95.82 573.64,-93.05 574.14,-100.03\"/>\n",
       "</g>\n",
       "<!-- in_out_aligned&#45;&gt;recipe_graphs -->\n",
       "<g id=\"edge11\" class=\"edge\">\n",
       "<title>in_out_aligned&#45;&gt;recipe_graphs</title>\n",
       "<path fill=\"none\" stroke=\"black\" d=\"M233.21,-221.72C243.18,-219.79 253.46,-217.82 263.14,-216 340,-201.56 428.31,-185.75 487.92,-175.18\"/>\n",
       "<polygon fill=\"black\" stroke=\"black\" points=\"488.73,-178.6 497.97,-173.41 487.51,-171.7 488.73,-178.6\"/>\n",
       "</g>\n",
       "<!-- isomorphisms&#45;&gt;recipe_graphs -->\n",
       "<g id=\"edge12\" class=\"edge\">\n",
       "<title>isomorphisms&#45;&gt;recipe_graphs</title>\n",
       "<path fill=\"none\" stroke=\"black\" d=\"M518.49,-216.05C524.63,-207.63 532.17,-197.28 538.95,-187.97\"/>\n",
       "<polygon fill=\"black\" stroke=\"black\" points=\"541.85,-189.93 544.91,-179.79 536.19,-185.81 541.85,-189.93\"/>\n",
       "</g>\n",
       "<!-- debug_recipes -->\n",
       "<g id=\"node8\" class=\"node\">\n",
       "<title>debug_recipes</title>\n",
       "<ellipse fill=\"none\" stroke=\"black\" cx=\"1006.14\" cy=\"-234\" rx=\"77.19\" ry=\"18\"/>\n",
       "<text text-anchor=\"middle\" x=\"1006.14\" y=\"-230.3\" font-family=\"Times,serif\" font-size=\"14.00\">debug_recipes</text>\n",
       "</g>\n",
       "<!-- debug_recipes&#45;&gt;recipe_graphs -->\n",
       "<g id=\"edge13\" class=\"edge\">\n",
       "<title>debug_recipes&#45;&gt;recipe_graphs</title>\n",
       "<path fill=\"none\" stroke=\"black\" d=\"M950.24,-221.53C940.23,-219.59 929.89,-217.67 920.14,-216 820.77,-198.94 705.49,-182.71 631.98,-172.81\"/>\n",
       "<polygon fill=\"black\" stroke=\"black\" points=\"632.26,-169.32 621.89,-171.46 631.33,-176.25 632.26,-169.32\"/>\n",
       "</g>\n",
       "<!-- debug_recipes&#45;&gt;type_hierarchies -->\n",
       "<g id=\"edge14\" class=\"edge\">\n",
       "<title>debug_recipes&#45;&gt;type_hierarchies</title>\n",
       "<path fill=\"none\" stroke=\"black\" d=\"M970.18,-217.94C908.26,-192 781.57,-138.93 713.25,-110.31\"/>\n",
       "<polygon fill=\"black\" stroke=\"black\" points=\"714.59,-107.08 704.01,-106.44 711.88,-113.54 714.59,-107.08\"/>\n",
       "</g>\n",
       "<!-- recipe_graphs&#45;&gt;graph_properties -->\n",
       "<g id=\"edge15\" class=\"edge\">\n",
       "<title>recipe_graphs&#45;&gt;graph_properties</title>\n",
       "<path fill=\"none\" stroke=\"black\" d=\"M510.67,-147.67C471.42,-136.41 414.97,-120.21 372.46,-108.02\"/>\n",
       "<polygon fill=\"black\" stroke=\"black\" points=\"373.37,-104.64 362.79,-105.24 371.44,-111.37 373.37,-104.64\"/>\n",
       "</g>\n",
       "<!-- recipe_graphs&#45;&gt;type_hierarchies -->\n",
       "<g id=\"edge16\" class=\"edge\">\n",
       "<title>recipe_graphs&#45;&gt;type_hierarchies</title>\n",
       "<path fill=\"none\" stroke=\"black\" d=\"M582.38,-144.94C597.36,-135.4 616.57,-123.18 632.91,-112.79\"/>\n",
       "<polygon fill=\"black\" stroke=\"black\" points=\"635.08,-115.55 641.64,-107.23 631.33,-109.64 635.08,-115.55\"/>\n",
       "</g>\n",
       "<!-- subrecipes -->\n",
       "<g id=\"node10\" class=\"node\">\n",
       "<title>subrecipes</title>\n",
       "<ellipse fill=\"none\" stroke=\"black\" cx=\"698.14\" cy=\"-234\" rx=\"61.19\" ry=\"18\"/>\n",
       "<text text-anchor=\"middle\" x=\"698.14\" y=\"-230.3\" font-family=\"Times,serif\" font-size=\"14.00\">subrecipes</text>\n",
       "</g>\n",
       "<!-- subrecipes&#45;&gt;recipe_graphs -->\n",
       "<g id=\"edge17\" class=\"edge\">\n",
       "<title>subrecipes&#45;&gt;recipe_graphs</title>\n",
       "<path fill=\"none\" stroke=\"black\" d=\"M668.24,-218.15C647.64,-207.93 620.01,-194.21 597.47,-183.02\"/>\n",
       "<polygon fill=\"black\" stroke=\"black\" points=\"598.98,-179.86 588.47,-178.55 595.87,-186.13 598.98,-179.86\"/>\n",
       "</g>\n",
       "<!-- universal_types -->\n",
       "<g id=\"node12\" class=\"node\">\n",
       "<title>universal_types</title>\n",
       "<ellipse fill=\"none\" stroke=\"black\" cx=\"667.14\" cy=\"-18\" rx=\"83.39\" ry=\"18\"/>\n",
       "<text text-anchor=\"middle\" x=\"667.14\" y=\"-14.3\" font-family=\"Times,serif\" font-size=\"14.00\">universal_types</text>\n",
       "</g>\n",
       "<!-- type_hierarchies&#45;&gt;universal_types -->\n",
       "<g id=\"edge18\" class=\"edge\">\n",
       "<title>type_hierarchies&#45;&gt;universal_types</title>\n",
       "<path fill=\"none\" stroke=\"black\" d=\"M667.14,-71.7C667.14,-63.98 667.14,-54.71 667.14,-46.11\"/>\n",
       "<polygon fill=\"black\" stroke=\"black\" points=\"670.64,-46.1 667.14,-36.1 663.64,-46.1 670.64,-46.1\"/>\n",
       "</g>\n",
       "</g>\n",
       "</svg>\n"
      ],
      "text/plain": [
       "<graphviz.graphs.Digraph at 0x7f1f5037a9b0>"
      ]
     },
     "execution_count": 10,
     "metadata": {},
     "output_type": "execute_result"
    }
   ],
   "source": [
    "# def create_dependency_graph(dependency_map):\n",
    "#     dot = graphviz.Digraph()\n",
    "#     node_ids = {}\n",
    "#     for i,k in enumerate(dependency_map.keys()):\n",
    "#         print(f\"i,k : {i,k}\")\n",
    "#         node_ids[k] = 'n'+str(i)\n",
    "# #         dot.node(i, label=k, style='filled', color='yellow', shape='box')\n",
    "#         dot.node(k, label=k)\n",
    "#     for source, targets in dependency_map.items():\n",
    "# #         sid = node_ids[source]\n",
    "#         for target in targets:\n",
    "# #             tid = node_ids[target]\n",
    "#             dot.edge(source,target)\n",
    "#     return dot\n",
    "# create_dependency_graph creates a graph of the module dependencies\n",
    "create_dependency_graph(DEPENDENCY_MAP)"
   ]
  },
  {
   "cell_type": "code",
   "execution_count": 11,
   "metadata": {
    "scrolled": false
   },
   "outputs": [
    {
     "data": {
      "text/plain": [
       "{'acceptability',\n",
       " 'graph_properties',\n",
       " 'recipe_graphs',\n",
       " 'type_hierarchies',\n",
       " 'universal_types'}"
      ]
     },
     "execution_count": 11,
     "metadata": {},
     "output_type": "execute_result"
    }
   ],
   "source": [
    "# get_dependencies(...) resolves the full chain of dependencies for one or more modules.\n",
    "specified = ['acceptability']\n",
    "get_dependencies(specified)\n"
   ]
  },
  {
   "cell_type": "markdown",
   "metadata": {},
   "source": [
    "# Running ASP"
   ]
  },
  {
   "cell_type": "code",
   "execution_count": 12,
   "metadata": {},
   "outputs": [
    {
     "name": "stdout",
     "output_type": "stream",
     "text": [
      "loading...\n",
      "fpath =../asp_recipe_graphs/asp/domain_independent/universal_types.lp\n",
      "fpath =../asp_recipe_graphs/asp/domain_independent/graph_properties.lp\n",
      "fpath =../asp_recipe_graphs/asp/domain_independent/recipe_graphs.lp\n",
      "fpath =../asp_recipe_graphs/asp/domain_independent/type_hierarchies.lp\n",
      "fpath =../asp_recipe_graphs/asp/domain_independent/debug_recipes.lp\n",
      "fpath =../asp_recipe_graphs/asp/recipes/hummus_graph.lp\n",
      "fpath =../asp_recipe_graphs/asp/recipes/hummus_types.lp\n"
     ]
    },
    {
     "data": {
      "text/plain": [
       "['in(arcs(rg_hummus),arc(c(0),a(0))) in(arcs(rg_hummus),arc(a(0),c(6))) in(arcs(rg_hummus),arc(c(1),a(1))) in(arcs(rg_hummus),arc(c(2),a(1))) in(arcs(rg_hummus),arc(c(3),a(1))) in(arcs(rg_hummus),arc(c(4),a(1))) in(arcs(rg_hummus),arc(c(5),a(1))) in(arcs(rg_hummus),arc(c(6),a(1))) in(arcs(rg_hummus),arc(a(1),c(8))) in(arcs(rg_hummus),arc(c(7),a(2))) in(arcs(rg_hummus),arc(a(2),c(9))) in(arcs(rg_hummus),arc(c(8),a(3))) in(arcs(rg_hummus),arc(c(9),a(3))) in(arcs(rg_hummus),arc(a(3),c(10))) in(a_nodes(rg_hummus),a(0)) in(a_nodes(rg_hummus),a(1)) in(a_nodes(rg_hummus),a(2)) in(a_nodes(rg_hummus),a(3)) in(nodes(rg_hummus),a(0)) in(nodes(rg_hummus),a(1)) in(nodes(rg_hummus),a(2)) in(nodes(rg_hummus),a(3)) in(c_nodes(rg_hummus),c(0)) in(c_nodes(rg_hummus),c(1)) in(c_nodes(rg_hummus),c(2)) in(c_nodes(rg_hummus),c(3)) in(c_nodes(rg_hummus),c(4)) in(c_nodes(rg_hummus),c(5)) in(c_nodes(rg_hummus),c(6)) in(c_nodes(rg_hummus),c(7)) in(c_nodes(rg_hummus),c(8)) in(c_nodes(rg_hummus),c(9)) in(c_nodes(rg_hummus),c(10)) in(nodes(rg_hummus),c(0)) in(nodes(rg_hummus),c(1)) in(nodes(rg_hummus),c(2)) in(nodes(rg_hummus),c(3)) in(nodes(rg_hummus),c(4)) in(nodes(rg_hummus),c(5)) in(nodes(rg_hummus),c(6)) in(nodes(rg_hummus),c(7)) in(nodes(rg_hummus),c(8)) in(nodes(rg_hummus),c(9)) in(nodes(rg_hummus),c(10)) in(acts(rg_hummus),a(0)) in(acts(rg_hummus),a(1)) in(acts(rg_hummus),a(2)) in(acts(rg_hummus),a(3)) in(mid(rg_hummus),c(6)) in(mid(rg_hummus),c(8)) in(mid(rg_hummus),c(9)) in(out(rg_hummus),c(10)) in(in(rg_hummus),c(0)) in(in(rg_hummus),c(1)) in(in(rg_hummus),c(2)) in(in(rg_hummus),c(3)) in(in(rg_hummus),c(4)) in(in(rg_hummus),c(5)) in(in(rg_hummus),c(7)) typed_graph(rg_hummus,tf_hummus) comestible_type(\"comestible\") comestible_type(\"bread\") comestible_type(\"fish\") comestible_type(\"water\") comestible_type(\"pasta\") comestible_type(\"pulses\") comestible_type(\"vegetable\") comestible_type(\"fruit\") comestible_type(\"dairy\") comestible_type(\"dips\") comestible_type(\"pastes\") comestible_type(\"oil\") comestible_type(\"flavourings\") comestible_type(\"mixture\") comestible_type(\"spreads\") comestible_type(\"complex comestible\") comestible_type(\"beans on toast\") comestible_type(\"butter\") comestible_type(\"infusion\") comestible_type(\"blended mixture\") comestible_type(\"mixture of garlic, tahini, salt, lemon juice, olive oil and water\") comestible_type(\"salt\") comestible_type(\"spices\") comestible_type(\"herbs\") comestible_type(\"olive oil\") comestible_type(\"tahini\") comestible_type(\"hummus\") comestible_type(\"milk\") comestible_type(\"lemon juice\") comestible_type(\"preserved vegetable\") comestible_type(\"aubergine\") comestible_type(\"carrot\") comestible_type(\"garlic\") comestible_type(\"onion\") comestible_type(\"radish\") comestible_type(\"tomato\") comestible_type(\"chick peas\") comestible_type(\"cannellini beans\") comestible_type(\"edamame beans\") comestible_type(\"baked beans\") comestible_type(\"spaghetti\") comestible_type(\"fusilli\") comestible_type(\"toast\") comestible_type(\"plain toast\") comestible_type(\"buttered toast\") comestible_type(\"heated beans\") comestible_type(\"frozen shelled edamame beans\") comestible_type(\"thawed shelled edamame beans\") comestible_type(\"thawed hulled edamame beans\") comestible_type(\"tinned cannellini beans\") comestible_type(\"drained cannellini beans\") comestible_type(\"blended cannellini beans\") comestible_type(\"tinned chick peas\") comestible_type(\"rinsed chick peas\") comestible_type(\"sun-dried tomato\") comestible_type(\"sliced radish\") comestible_type(\"thinly sliced radish\") comestible_type(\"raw onion\") comestible_type(\"fried onion\") comestible_type(\"sliced onion\") comestible_type(\"diced garlic\") comestible_type(\"whole garlic\") comestible_type(\"minced garlic\") comestible_type(\"roasted peeled garlic\") comestible_type(\"oiled aubergine halves\") comestible_type(\"roasted aubergine\") comestible_type(\"aubergine drippings\") comestible_type(\"extra-virgin olive oil\") comestible_type(\"parsley\") comestible_type(\"thyme\") comestible_type(\"rosemary\") comestible_type(\"sage\") comestible_type(\"shisho leaves\") comestible_type(\"cumin\") comestible_type(\"paprika\") comestible_type(\"kosher salt\") comestible_type(\"smoked paprika\") comestible_type(\"ground cumin\") comestible_type(\"chopped shisho leaves\") comestible_type(\"fresh sage leaves\") comestible_type(\"chopped fresh sage\") comestible_type(\"fresh rosemary sprigs\") comestible_type(\"chopped fresh rosemary\") comestible_type(\"fresh thyme sprigs\") comestible_type(\"chopped fresh thyme\") comestible_type(\"chopped parsley\") comestible_type(\"fresh flat-leaf parsley\") comestible_type(\"roasted aubergine halves\") comestible_type(\"roasted aubergine flesh\") comestible_type(\"strained aubergine flesh\") comestible_type(\"roasted aubergine skin\") comestible_type(\"frozen minced garlic\") comestible_type(\"sun-dried tomato halves\") comestible_type(\"chopped sun-dried tomatoes\") comestible_type(\"chopped fresh flat-leaf parsley\") type_of(tf_hummus,c(0),\"whole garlic\") type_of(tf_hummus,c(1),\"tahini\") type_of(tf_hummus,c(2),\"salt\") type_of(tf_hummus,c(3),\"lemon juice\") type_of(tf_hummus,c(4),\"olive oil\") type_of(tf_hummus,c(5),\"water\") type_of(tf_hummus,c(6),\"diced garlic\") type_of(tf_hummus,c(7),\"tinned chick peas\") type_of(tf_hummus,c(8),\"mixture of garlic, tahini, salt, lemon juice, olive oil and water\") type_of(tf_hummus,c(9),\"rinsed chick peas\") type_of(tf_hummus,c(10),\"hummus\") type_of(tf_hummus,a(0),\"dice\") type_of(tf_hummus,a(1),\"blend until uniform\") type_of(tf_hummus,a(2),\"rinse and drain\") type_of(tf_hummus,a(3),\"blend together\") action_type(\"action\") action_type(\"bake\") action_type(\"boil\") action_type(\"chop\") action_type(\"combine\") action_type(\"blend\") action_type(\"drain\") action_type(\"fry\") action_type(\"hull\") action_type(\"infuse\") action_type(\"put\") action_type(\"rinse\") action_type(\"roast\") action_type(\"shell\") action_type(\"stir\") action_type(\"thaw\") action_type(\"stir together\") action_type(\"combine then roast\") action_type(\"rinse and drain\") action_type(\"pour\") action_type(\"spread\") action_type(\"infuse in hot oil\") action_type(\"fry onion\") action_type(\"fry for 4 min\") action_type(\"blend until uniform\") action_type(\"blend together\") action_type(\"pulse in blender\") action_type(\"mix\") action_type(\"finely chop\") action_type(\"chop carrot\") action_type(\"chop onion\") action_type(\"dice\") action_type(\"bake at 180C for 45min\") action_type(\"finely chop onion\") action_type(\"blend together until smooth\") action_type(\"fry onion for 4 min\") action_type(\"spread on toast\") action_type(\"pour onto toast\") action_type(\"stir together vigorously\") well_typed_a_node(rg_hummus,tf_hummus,a(0)) well_typed_a_node(rg_hummus,tf_hummus,a(1)) well_typed_a_node(rg_hummus,tf_hummus,a(2)) well_typed_a_node(rg_hummus,tf_hummus,a(3)) well_typed_c_node(rg_hummus,tf_hummus,c(0)) well_typed_c_node(rg_hummus,tf_hummus,c(1)) well_typed_c_node(rg_hummus,tf_hummus,c(2)) well_typed_c_node(rg_hummus,tf_hummus,c(3)) well_typed_c_node(rg_hummus,tf_hummus,c(4)) well_typed_c_node(rg_hummus,tf_hummus,c(5)) well_typed_c_node(rg_hummus,tf_hummus,c(6)) well_typed_c_node(rg_hummus,tf_hummus,c(7)) well_typed_c_node(rg_hummus,tf_hummus,c(8)) well_typed_c_node(rg_hummus,tf_hummus,c(9)) well_typed_c_node(rg_hummus,tf_hummus,c(10)) has_untyped_node(rg_hummus,tf_hummus)']"
      ]
     },
     "execution_count": 12,
     "metadata": {},
     "output_type": "execute_result"
    }
   ],
   "source": [
    "fpaths =[]\n",
    "fpaths.append('../asp_recipe_graphs/asp/recipes/hummus_graph.lp')\n",
    "fpaths.append('../asp_recipe_graphs/asp/recipes/hummus_types.lp')\n",
    "# fpaths.append('../asp_recipe_graphs/asp/recipes/cannellini_hummus_graph.lp')\n",
    "# fpaths.append('../asp_recipe_graphs/asp/recipes/cannellini_hummus_types.lp')\n",
    "# fpaths.append('../asp_recipe_graphs/asp/recipes/edamame_hummus_graph.lp')\n",
    "# fpaths.append('../asp_recipe_graphs/asp/recipes/edamame_hummus_types.lp')\n",
    "# fpaths.append('../asp_recipe_graphs/asp/recipes/baba_ganoush_graph.lp')\n",
    "# fpaths.append('../asp_recipe_graphs/asp/recipes/baba_ganoush_types.lp')\n",
    "#models = load_and_solve('connected', fpaths)    \n",
    "#models = load_and_solve('cyclic', fpaths)    \n",
    "#models = load_and_solve('arcs',fpaths)       \n",
    "#models = load_and_solve('types',fpaths)\n",
    "#models = load_and_solve('arcs and types',fpaths)          \n",
    "# models = load_and_solve('recipe_graph',fpaths[:1], additional_asp=\"\"\"\n",
    "#     -recipe_graph(rg_cannellini_hummus).\n",
    "#     \"\"\")          \n",
    "# models = load_and_solve('recipe_graph',fpaths[:1], additional_asp=\"\"\"\n",
    "#     -recipe_graph(rg_cannellini_hummus).\n",
    "#     \"\"\")          \n",
    "# models = load_and_solve('recipe_graph',fpaths[:1])\n",
    "#models = load_and_solve('explain not recipe_graph',fpaths[:1])          \n",
    "# models = load_and_solve('explain not recipe',fpaths[:1])          \n",
    "# models = load_and_solve('recipes',fpaths)\n",
    "# models = load_and_solve('conflicting types',fpaths)\n",
    "# models = load_and_solve('is recipe',fpaths)\n",
    "models = load_and_solve('untyped nodes',fpaths)          \n",
    "models"
   ]
  },
  {
   "cell_type": "code",
   "execution_count": 13,
   "metadata": {
    "scrolled": false
   },
   "outputs": [
    {
     "name": "stdout",
     "output_type": "stream",
     "text": [
      "loading...\n",
      "fpath =../asp_recipe_graphs/asp/domain_independent/universal_types.lp\n",
      "fpath =../asp_recipe_graphs/asp/domain_independent/graph_properties.lp\n",
      "fpath =../asp_recipe_graphs/asp/domain_independent/recipe_graphs.lp\n",
      "fpath =../asp_recipe_graphs/asp/domain_independent/type_hierarchies.lp\n",
      "fpath =../asp_recipe_graphs/asp/domain_independent/debug_recipes.lp\n",
      "fpath =../asp_recipe_graphs/asp/recipes/hummus_graph.lp\n",
      "fpath =../asp_recipe_graphs/asp/recipes/hummus_types.lp\n",
      "in:\n",
      "\tin(arcs(rg_hummus),arc(c(0),a(0)))\n",
      "\tin(arcs(rg_hummus),arc(a(0),c(6)))\n",
      "\tin(arcs(rg_hummus),arc(c(1),a(1)))\n",
      "\tin(arcs(rg_hummus),arc(c(2),a(1)))\n",
      "\tin(arcs(rg_hummus),arc(c(3),a(1)))\n",
      "\tin(arcs(rg_hummus),arc(c(4),a(1)))\n",
      "\tin(arcs(rg_hummus),arc(c(5),a(1)))\n",
      "\tin(arcs(rg_hummus),arc(c(6),a(1)))\n",
      "\tin(arcs(rg_hummus),arc(a(1),c(8)))\n",
      "\tin(arcs(rg_hummus),arc(c(7),a(2)))\n",
      "\tin(arcs(rg_hummus),arc(a(2),c(9)))\n",
      "\tin(arcs(rg_hummus),arc(c(8),a(3)))\n",
      "\tin(arcs(rg_hummus),arc(c(9),a(3)))\n",
      "\tin(arcs(rg_hummus),arc(a(3),c(10)))\n",
      "\tin(a_nodes(rg_hummus),a(0))\n",
      "\tin(a_nodes(rg_hummus),a(1))\n",
      "\tin(a_nodes(rg_hummus),a(2))\n",
      "\tin(a_nodes(rg_hummus),a(3))\n",
      "\tin(nodes(rg_hummus),a(0))\n",
      "\tin(nodes(rg_hummus),a(1))\n",
      "\tin(nodes(rg_hummus),a(2))\n",
      "\tin(nodes(rg_hummus),a(3))\n",
      "\tin(c_nodes(rg_hummus),c(0))\n",
      "\tin(c_nodes(rg_hummus),c(1))\n",
      "\tin(c_nodes(rg_hummus),c(2))\n",
      "\tin(c_nodes(rg_hummus),c(3))\n",
      "\tin(c_nodes(rg_hummus),c(4))\n",
      "\tin(c_nodes(rg_hummus),c(5))\n",
      "\tin(c_nodes(rg_hummus),c(6))\n",
      "\tin(c_nodes(rg_hummus),c(7))\n",
      "\tin(c_nodes(rg_hummus),c(8))\n",
      "\tin(c_nodes(rg_hummus),c(9))\n",
      "\tin(c_nodes(rg_hummus),c(10))\n",
      "\tin(nodes(rg_hummus),c(0))\n",
      "\tin(nodes(rg_hummus),c(1))\n",
      "\tin(nodes(rg_hummus),c(2))\n",
      "\tin(nodes(rg_hummus),c(3))\n",
      "\tin(nodes(rg_hummus),c(4))\n",
      "\tin(nodes(rg_hummus),c(5))\n",
      "\tin(nodes(rg_hummus),c(6))\n",
      "\tin(nodes(rg_hummus),c(7))\n",
      "\tin(nodes(rg_hummus),c(8))\n",
      "\tin(nodes(rg_hummus),c(9))\n",
      "\tin(nodes(rg_hummus),c(10))\n",
      "\tin(acts(rg_hummus),a(0))\n",
      "\tin(acts(rg_hummus),a(1))\n",
      "\tin(acts(rg_hummus),a(2))\n",
      "\tin(acts(rg_hummus),a(3))\n",
      "\tin(mid(rg_hummus),c(6))\n",
      "\tin(mid(rg_hummus),c(8))\n",
      "\tin(mid(rg_hummus),c(9))\n",
      "\tin(out(rg_hummus),c(10))\n",
      "\tin(in(rg_hummus),c(0))\n",
      "\tin(in(rg_hummus),c(1))\n",
      "\tin(in(rg_hummus),c(2))\n",
      "\tin(in(rg_hummus),c(3))\n",
      "\tin(in(rg_hummus),c(4))\n",
      "\tin(in(rg_hummus),c(5))\n",
      "\tin(in(rg_hummus),c(7))\n",
      "typed_graph:\n",
      "\ttyped_graph(rg_hummus,tf_hummus)\n",
      "comestible_type:\n",
      "\tcomestible_type(\"comestible\")\n",
      "\tcomestible_type(\"bread\")\n",
      "\tcomestible_type(\"fish\")\n",
      "\tcomestible_type(\"water\")\n",
      "\tcomestible_type(\"pasta\")\n",
      "\tcomestible_type(\"pulses\")\n",
      "\tcomestible_type(\"vegetable\")\n",
      "\tcomestible_type(\"fruit\")\n",
      "\tcomestible_type(\"dairy\")\n",
      "\tcomestible_type(\"dips\")\n",
      "\tcomestible_type(\"pastes\")\n",
      "\tcomestible_type(\"oil\")\n",
      "\tcomestible_type(\"flavourings\")\n",
      "\tcomestible_type(\"mixture\")\n",
      "\tcomestible_type(\"spreads\")\n",
      "\tcomestible_type(\"complex comestible\")\n",
      "\tcomestible_type(\"beans on toast\")\n",
      "\tcomestible_type(\"butter\")\n",
      "\tcomestible_type(\"infusion\")\n",
      "\tcomestible_type(\"blended mixture\")\n",
      "\tcomestible_type(\"mixture of garlic, tahini, salt, lemon juice, olive oil and water\")\n",
      "\tcomestible_type(\"salt\")\n",
      "\tcomestible_type(\"spices\")\n",
      "\tcomestible_type(\"herbs\")\n",
      "\tcomestible_type(\"olive oil\")\n",
      "\tcomestible_type(\"tahini\")\n",
      "\tcomestible_type(\"hummus\")\n",
      "\tcomestible_type(\"milk\")\n",
      "\tcomestible_type(\"lemon juice\")\n",
      "\tcomestible_type(\"preserved vegetable\")\n",
      "\tcomestible_type(\"aubergine\")\n",
      "\tcomestible_type(\"carrot\")\n",
      "\tcomestible_type(\"garlic\")\n",
      "\tcomestible_type(\"onion\")\n",
      "\tcomestible_type(\"radish\")\n",
      "\tcomestible_type(\"tomato\")\n",
      "\tcomestible_type(\"chick peas\")\n",
      "\tcomestible_type(\"cannellini beans\")\n",
      "\tcomestible_type(\"edamame beans\")\n",
      "\tcomestible_type(\"baked beans\")\n",
      "\tcomestible_type(\"spaghetti\")\n",
      "\tcomestible_type(\"fusilli\")\n",
      "\tcomestible_type(\"toast\")\n",
      "\tcomestible_type(\"plain toast\")\n",
      "\tcomestible_type(\"buttered toast\")\n",
      "\tcomestible_type(\"heated beans\")\n",
      "\tcomestible_type(\"frozen shelled edamame beans\")\n",
      "\tcomestible_type(\"thawed shelled edamame beans\")\n",
      "\tcomestible_type(\"thawed hulled edamame beans\")\n",
      "\tcomestible_type(\"tinned cannellini beans\")\n",
      "\tcomestible_type(\"drained cannellini beans\")\n",
      "\tcomestible_type(\"blended cannellini beans\")\n",
      "\tcomestible_type(\"tinned chick peas\")\n",
      "\tcomestible_type(\"rinsed chick peas\")\n",
      "\tcomestible_type(\"sun-dried tomato\")\n",
      "\tcomestible_type(\"sliced radish\")\n",
      "\tcomestible_type(\"thinly sliced radish\")\n",
      "\tcomestible_type(\"raw onion\")\n",
      "\tcomestible_type(\"fried onion\")\n",
      "\tcomestible_type(\"sliced onion\")\n",
      "\tcomestible_type(\"diced garlic\")\n",
      "\tcomestible_type(\"whole garlic\")\n",
      "\tcomestible_type(\"minced garlic\")\n",
      "\tcomestible_type(\"roasted peeled garlic\")\n",
      "\tcomestible_type(\"oiled aubergine halves\")\n",
      "\tcomestible_type(\"roasted aubergine\")\n",
      "\tcomestible_type(\"aubergine drippings\")\n",
      "\tcomestible_type(\"extra-virgin olive oil\")\n",
      "\tcomestible_type(\"parsley\")\n",
      "\tcomestible_type(\"thyme\")\n",
      "\tcomestible_type(\"rosemary\")\n",
      "\tcomestible_type(\"sage\")\n",
      "\tcomestible_type(\"shisho leaves\")\n",
      "\tcomestible_type(\"cumin\")\n",
      "\tcomestible_type(\"paprika\")\n",
      "\tcomestible_type(\"kosher salt\")\n",
      "\tcomestible_type(\"smoked paprika\")\n",
      "\tcomestible_type(\"ground cumin\")\n",
      "\tcomestible_type(\"chopped shisho leaves\")\n",
      "\tcomestible_type(\"fresh sage leaves\")\n",
      "\tcomestible_type(\"chopped fresh sage\")\n",
      "\tcomestible_type(\"fresh rosemary sprigs\")\n",
      "\tcomestible_type(\"chopped fresh rosemary\")\n",
      "\tcomestible_type(\"fresh thyme sprigs\")\n",
      "\tcomestible_type(\"chopped fresh thyme\")\n",
      "\tcomestible_type(\"chopped parsley\")\n",
      "\tcomestible_type(\"fresh flat-leaf parsley\")\n",
      "\tcomestible_type(\"roasted aubergine halves\")\n",
      "\tcomestible_type(\"roasted aubergine flesh\")\n",
      "\tcomestible_type(\"strained aubergine flesh\")\n",
      "\tcomestible_type(\"roasted aubergine skin\")\n",
      "\tcomestible_type(\"frozen minced garlic\")\n",
      "\tcomestible_type(\"sun-dried tomato halves\")\n",
      "\tcomestible_type(\"chopped sun-dried tomatoes\")\n",
      "\tcomestible_type(\"chopped fresh flat-leaf parsley\")\n",
      "type_of:\n",
      "\ttype_of(tf_hummus,c(0),\"whole garlic\")\n",
      "\ttype_of(tf_hummus,c(1),\"tahini\")\n",
      "\ttype_of(tf_hummus,c(2),\"salt\")\n",
      "\ttype_of(tf_hummus,c(3),\"lemon juice\")\n",
      "\ttype_of(tf_hummus,c(4),\"olive oil\")\n",
      "\ttype_of(tf_hummus,c(5),\"water\")\n",
      "\ttype_of(tf_hummus,c(6),\"diced garlic\")\n",
      "\ttype_of(tf_hummus,c(7),\"tinned chick peas\")\n",
      "\ttype_of(tf_hummus,c(8),\"mixture of garlic, tahini, salt, lemon juice, olive oil and water\")\n",
      "\ttype_of(tf_hummus,c(9),\"rinsed chick peas\")\n",
      "\ttype_of(tf_hummus,c(10),\"hummus\")\n",
      "\ttype_of(tf_hummus,a(0),\"dice\")\n",
      "\ttype_of(tf_hummus,a(1),\"blend until uniform\")\n",
      "\ttype_of(tf_hummus,a(2),\"rinse and drain\")\n",
      "\ttype_of(tf_hummus,a(3),\"blend together\")\n",
      "action_type:\n",
      "\taction_type(\"action\")\n",
      "\taction_type(\"bake\")\n",
      "\taction_type(\"boil\")\n",
      "\taction_type(\"chop\")\n",
      "\taction_type(\"combine\")\n",
      "\taction_type(\"blend\")\n",
      "\taction_type(\"drain\")\n",
      "\taction_type(\"fry\")\n",
      "\taction_type(\"hull\")\n",
      "\taction_type(\"infuse\")\n",
      "\taction_type(\"put\")\n",
      "\taction_type(\"rinse\")\n",
      "\taction_type(\"roast\")\n",
      "\taction_type(\"shell\")\n",
      "\taction_type(\"stir\")\n",
      "\taction_type(\"thaw\")\n",
      "\taction_type(\"stir together\")\n",
      "\taction_type(\"combine then roast\")\n",
      "\taction_type(\"rinse and drain\")\n",
      "\taction_type(\"pour\")\n",
      "\taction_type(\"spread\")\n",
      "\taction_type(\"infuse in hot oil\")\n",
      "\taction_type(\"fry onion\")\n",
      "\taction_type(\"fry for 4 min\")\n",
      "\taction_type(\"blend until uniform\")\n",
      "\taction_type(\"blend together\")\n",
      "\taction_type(\"pulse in blender\")\n",
      "\taction_type(\"mix\")\n",
      "\taction_type(\"finely chop\")\n",
      "\taction_type(\"chop carrot\")\n",
      "\taction_type(\"chop onion\")\n",
      "\taction_type(\"dice\")\n",
      "\taction_type(\"bake at 180C for 45min\")\n",
      "\taction_type(\"finely chop onion\")\n",
      "\taction_type(\"blend together until smooth\")\n",
      "\taction_type(\"fry onion for 4 min\")\n",
      "\taction_type(\"spread on toast\")\n",
      "\taction_type(\"pour onto toast\")\n",
      "\taction_type(\"stir together vigorously\")\n",
      "well_typed_a_node:\n",
      "\twell_typed_a_node(rg_hummus,tf_hummus,a(0))\n",
      "\twell_typed_a_node(rg_hummus,tf_hummus,a(1))\n",
      "\twell_typed_a_node(rg_hummus,tf_hummus,a(2))\n",
      "\twell_typed_a_node(rg_hummus,tf_hummus,a(3))\n",
      "well_typed_c_node:\n",
      "\twell_typed_c_node(rg_hummus,tf_hummus,c(0))\n",
      "\twell_typed_c_node(rg_hummus,tf_hummus,c(1))\n",
      "\twell_typed_c_node(rg_hummus,tf_hummus,c(2))\n",
      "\twell_typed_c_node(rg_hummus,tf_hummus,c(3))\n",
      "\twell_typed_c_node(rg_hummus,tf_hummus,c(4))\n",
      "\twell_typed_c_node(rg_hummus,tf_hummus,c(5))\n",
      "\twell_typed_c_node(rg_hummus,tf_hummus,c(6))\n",
      "\twell_typed_c_node(rg_hummus,tf_hummus,c(7))\n",
      "\twell_typed_c_node(rg_hummus,tf_hummus,c(8))\n",
      "\twell_typed_c_node(rg_hummus,tf_hummus,c(9))\n",
      "\twell_typed_c_node(rg_hummus,tf_hummus,c(10))\n",
      "has_untyped_node:\n",
      "\thas_untyped_node(rg_hummus,tf_hummus))\n"
     ]
    }
   ],
   "source": [
    "models = load_and_solve('untyped nodes', fpaths)\n",
    "\n",
    "facts ={}\n",
    "pold = None\n",
    "for t in models[0].split(') '):    \n",
    "    p = t.split('(')[0]\n",
    "    if p != pold:\n",
    "        print(p+':')\n",
    "        pold = p\n",
    "        facts[p] = []\n",
    "    facts[p].append(t)\n",
    "    print(f\"\\t{t})\")"
   ]
  },
  {
   "cell_type": "code",
   "execution_count": 14,
   "metadata": {},
   "outputs": [
    {
     "name": "stdout",
     "output_type": "stream",
     "text": [
      "facts.get('-well_typed_a_node') = None\n",
      "\n",
      "facts.get('-well_typed_c_node') = None\n",
      "\n",
      "facts.get('type_of') = ['type_of(tf_hummus,c(0),\"whole garlic\"', 'type_of(tf_hummus,c(1),\"tahini\"', 'type_of(tf_hummus,c(2),\"salt\"', 'type_of(tf_hummus,c(3),\"lemon juice\"', 'type_of(tf_hummus,c(4),\"olive oil\"', 'type_of(tf_hummus,c(5),\"water\"', 'type_of(tf_hummus,c(6),\"diced garlic\"', 'type_of(tf_hummus,c(7),\"tinned chick peas\"', 'type_of(tf_hummus,c(8),\"mixture of garlic, tahini, salt, lemon juice, olive oil and water\"', 'type_of(tf_hummus,c(9),\"rinsed chick peas\"', 'type_of(tf_hummus,c(10),\"hummus\"', 'type_of(tf_hummus,a(0),\"dice\"', 'type_of(tf_hummus,a(1),\"blend until uniform\"', 'type_of(tf_hummus,a(2),\"rinse and drain\"', 'type_of(tf_hummus,a(3),\"blend together\"']\n",
      "\n",
      "facts.get('conflicting_types') = None\n",
      "\n"
     ]
    }
   ],
   "source": [
    "print(f\"facts.get('-well_typed_a_node') = {facts.get('-well_typed_a_node')}\", end='\\n\\n')\n",
    "print(f\"facts.get('-well_typed_c_node') = {facts.get('-well_typed_c_node')}\", end='\\n\\n')\n",
    "print(f\"facts.get('type_of') = {facts.get('type_of')}\", end='\\n\\n')\n",
    "print(f\"facts.get('conflicting_types') = {facts.get('conflicting_types')}\", end='\\n\\n')\n",
    "# print(f\"facts['comestible_type'] ={facts['comestible_type']}\", end='\\n\\n')"
   ]
  },
  {
   "cell_type": "code",
   "execution_count": 15,
   "metadata": {},
   "outputs": [
    {
     "ename": "ValueError",
     "evalue": "Stop!",
     "output_type": "error",
     "traceback": [
      "\u001b[0;31m---------------------------------------------------------------------------\u001b[0m",
      "\u001b[0;31mValueError\u001b[0m                                Traceback (most recent call last)",
      "Input \u001b[0;32mIn [15]\u001b[0m, in \u001b[0;36m<cell line: 1>\u001b[0;34m()\u001b[0m\n\u001b[0;32m----> 1\u001b[0m \u001b[38;5;28;01mraise\u001b[39;00m \u001b[38;5;167;01mValueError\u001b[39;00m(\u001b[38;5;124m'\u001b[39m\u001b[38;5;124mStop!\u001b[39m\u001b[38;5;124m'\u001b[39m)\n",
      "\u001b[0;31mValueError\u001b[0m: Stop!"
     ]
    }
   ],
   "source": [
    "raise ValueError('Stop!')"
   ]
  },
  {
   "cell_type": "markdown",
   "metadata": {},
   "source": [
    "## Older code"
   ]
  },
  {
   "cell_type": "code",
   "execution_count": null,
   "metadata": {},
   "outputs": [],
   "source": [
    "\n",
    "lp_fnames = [\"GraphRecipes.lp\",\"ScratchExample.lp\"]\n",
    "lp_fnames = [\"GraphRecipes.lp\",\"SnacksOnToastExample.lp\"]"
   ]
  },
  {
   "cell_type": "code",
   "execution_count": null,
   "metadata": {},
   "outputs": [],
   "source": [
    "ctl = clingo.Control()\n",
    "for lp_fname in lp_fnames:\n",
    "    ctl.load(lp_fname)\n",
    "ctl.ground([(\"base\", [])])\n",
    "#answer_sets = []\n",
    "result = ctl.solve(on_model=lambda m: print(\"Answer: {}\".format(m)))"
   ]
  },
  {
   "cell_type": "code",
   "execution_count": null,
   "metadata": {},
   "outputs": [],
   "source": [
    "ctl = clingo.Control()\n",
    "for lp_fname in lp_fnames:\n",
    "    ctl.load(lp_fname)\n",
    "ctl.ground([(\"base\", [])])\n",
    "models = []\n",
    "with ctl.solve(yield_=True) as handle:\n",
    "    for model in handle:\n",
    "        models.append(model.symbols(shown=True))\n",
    "models"
   ]
  },
  {
   "cell_type": "code",
   "execution_count": null,
   "metadata": {},
   "outputs": [],
   "source": [
    "for atom in models[0]:\n",
    "    print(f\"atom.type = {atom.type}\")\n",
    "    if atom.type == symbol.SymbolType.Function:\n",
    "        print(f\"atom.name = {atom.name}\")\n",
    "        print(f\"atom.arguments = {atom.arguments}\")\n",
    "        print(f\"str(atom) = {str(atom)}\")\n",
    "        #print(f\"atom.negative = {atom.negative}\")\n",
    "        #print(f\"atom.number = {atom.number}\")\n",
    "        #print(f\"atom.positive = {atom.positive}\")\n",
    "        #print(f\"atom.string = {atom.string}\")\n"
   ]
  },
  {
   "cell_type": "markdown",
   "metadata": {},
   "source": []
  }
 ],
 "metadata": {
  "kernelspec": {
   "display_name": "Python 3 (ipykernel)",
   "language": "python",
   "name": "python3"
  },
  "language_info": {
   "codemirror_mode": {
    "name": "ipython",
    "version": 3
   },
   "file_extension": ".py",
   "mimetype": "text/x-python",
   "name": "python",
   "nbconvert_exporter": "python",
   "pygments_lexer": "ipython3",
   "version": "3.10.6"
  }
 },
 "nbformat": 4,
 "nbformat_minor": 2
}
