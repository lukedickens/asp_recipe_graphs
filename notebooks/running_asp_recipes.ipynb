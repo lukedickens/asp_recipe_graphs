{
 "cells": [
  {
   "cell_type": "code",
   "execution_count": 1,
   "metadata": {},
   "outputs": [],
   "source": [
    "import json\n",
    "import re \n",
    "import copy\n",
    "from importlib import reload"
   ]
  },
  {
   "cell_type": "code",
   "execution_count": 2,
   "metadata": {},
   "outputs": [],
   "source": [
    "import sys\n",
    "import clingo\n",
    "import clingo.symbol as symbol"
   ]
  },
  {
   "cell_type": "code",
   "execution_count": 3,
   "metadata": {},
   "outputs": [
    {
     "name": "stdout",
     "output_type": "stream",
     "text": [
      "thisdir = /home/luke/git/external/asp_recipe_graphs/notebooks\n",
      "Adding parent directory to python path\n",
      "sys.path =\n",
      "['/home/luke/git/external/asp_recipe_graphs/notebooks', '/home/luke/git/external/asp_recipe_graphs', '/usr/lib/python310.zip', '/usr/lib/python3.10', '/usr/lib/python3.10/lib-dynload', '', '/home/luke/.local/lib/python3.10/site-packages', '/usr/local/lib/python3.10/dist-packages', '/usr/lib/python3/dist-packages', '/usr/lib/python3.10/dist-packages']\n"
     ]
    }
   ],
   "source": [
    "# This is a hack to make the library in the parent folder available for imoprts\n",
    "# A better solution is by np8 here:\n",
    "# https://stackoverflow.com/questions/714063/importing-modules-from-parent-folder\n",
    "import sys\n",
    "import os\n",
    "import inspect\n",
    "\n",
    "thisdir = sys.path[0]\n",
    "print(f\"thisdir = {thisdir}\")\n",
    "parentdir = os.path.dirname(thisdir)\n",
    "#print(f\"parentdir = {parentdir}\")\n",
    "if not parentdir in sys.path:\n",
    "    print(\"Adding parent directory to python path\")\n",
    "    sys.path.insert(1, parentdir)\n",
    "else:\n",
    "    print(\"Skipping adding parent direct to path (there already)\")\n",
    "\n",
    "print(f\"sys.path =\\n{sys.path}\")\n"
   ]
  },
  {
   "cell_type": "code",
   "execution_count": 4,
   "metadata": {},
   "outputs": [],
   "source": [
    "## local modules\n",
    "import asp_recipe_graphs.api.modules\n",
    "reload(asp_recipe_graphs.api.modules)\n",
    "\n",
    "from asp_recipe_graphs.api.modules import RE_FIND_TERMS\n",
    "from asp_recipe_graphs.api.modules import RE_IS_DEFINITION\n",
    "from asp_recipe_graphs.api.modules import ASP_MODULE_DEFINES\n",
    "from asp_recipe_graphs.api.modules import ASP_MODULE_USES\n",
    "from asp_recipe_graphs.api.modules import DEPENDENCY_MAP\n",
    "from asp_recipe_graphs.api.modules import ALL_DEFINED\n",
    "from asp_recipe_graphs.api.modules import ALL_USES\n",
    "from asp_recipe_graphs.api.modules import UNDEFINED_TERMS\n",
    "from asp_recipe_graphs.api.modules import get_dependencies\n",
    "from asp_recipe_graphs.api.modules import what_defines\n",
    "from asp_recipe_graphs.api.modules import what_uses"
   ]
  },
  {
   "cell_type": "code",
   "execution_count": 5,
   "metadata": {},
   "outputs": [
    {
     "name": "stdout",
     "output_type": "stream",
     "text": [
      "asp_module_defines = {'acceptability': {'acceptable_recipe'}, 'composition': {'composable', 'incompatible_node_types', 'empty_intersection'}, 'equivalence': {'equivalent'}, 'granularity': {'mapped_to_by_g_function', 'finer_grained', 'path_or_equal', 'more_specific', 'not_same_recipe'}, 'graph_properties': {'is_node', 'cyclic', 'has_outgoing_arc', 'has_incoming_arc', 'graph', 'path', 'connected_in'}, 'in_out_aligned': {'in_out_aligned'}, 'isomorphisms': {'isomorphic'}, 'recipe_graphs': {'given_recipe_graph', 'atomic_recipe_graph', 'recipe_graph', 'subrecipe_graph_of', 'high_indexes_allowed', 'graph', 'recipe', 'strict_subrecipe_graph'}, 'subrecipes': {'subrecipe_of', 'subrecipe_graph_of', 'strict_subrecipe_graph'}, 'type_hierarchies': {'same_type_path', 'subtype', 'subtype_or_equal', 'action_type', 'comestible_type'}}\n",
      "\n",
      "Uses\n",
      "\tacceptability uses {'arc', 'type_of', 'acceptability_tuple', 'in', 'a', 'arcs', 'c', 'recipe'}\n",
      "\tcomposition uses {'out', 'same_type_path', 'recipe_graph', 'in', 'mid', 'acts', 'arcs', 'c', 'type_of', 'set_of', 'c_nodes', 'join_types_match', 'nodes', 'composition', 'recipe'}\n",
      "\tequivalence uses {'isomorphic', 'type_of', 'bijection', 'a', 'c', 'recipe'}\n",
      "\tgranularity uses {'number_of_action_nodes', 'g_function', 'out', 'path_with_half_length', 'arc', 'recipe_graph', 'in', 'bijection', 'arcs', 'c', 'isomorphic', 'type_of', 'subtype_or_equal', 'a_nodes', 'a', 'one_path_longer', 'in_out_aligned', 'nodes', 'path', 'recipe'}\n",
      "\tgraph_properties uses {'arc', 'is_c_node', 'in', 'arcs', 'is_a_node', 'c', 'c_node_index', 'a_node_properly_connected', 'a_node_index', 'a_nodes', 'a', 'c_nodes', 'nodes', 'is_arc', 'empty', 'connected'}\n",
      "\tin_out_aligned uses {'out', 'type_of', 'in', 'out_types', 'in_types', 'c', 'recipe'}\n",
      "\tisomorphisms uses {'arc', 'recipe_graph', 'a_nodes', 'in', 'bijection', 'a', 'c_nodes', 'arcs', 'c'}\n",
      "\trecipe_graphs uses {'same_type_path', 'is_c_node', 'connected', 'mid', 'is_a_node', 'action_type', 'c', 'a', 'c_nodes', 'given_recipe', 'nodes', 'is_arc', 'empty', 'cyclic', 'arc', 'out', 'in', 'arcs', 'acts', 'a_node_properly_connected', 'comestible_type', 'c_node_index', 'type_of', 'a_node_index', 'a_nodes', 'path'}\n",
      "\tsubrecipes uses {'type_of', 'recipe_graph', 'in', 'arcs', 'recipe'}\n",
      "\ttype_hierarchies uses {'child'}\n",
      "\n",
      "undefined_terms = {'path_with_half_length', 'g_function', 'is_c_node', 'bijection', 'in_types', 'mid', 'is_a_node', 'c', 'a', 'c_nodes', 'join_types_match', 'nodes', 'composition', 'empty', 'is_arc', 'given_recipe', 'number_of_action_nodes', 'acceptability_tuple', 'arc', 'out', 'in', 'out_types', 'child', 'arcs', 'acts', 'a_node_properly_connected', 'c_node_index', 'type_of', 'a_node_index', 'a_nodes', 'one_path_longer', 'set_of', 'connected'}\n",
      "\n"
     ]
    }
   ],
   "source": [
    "print(f\"asp_module_defines = {ASP_MODULE_DEFINES}\")\n",
    "print()\n",
    "print(\"Uses\")\n",
    "for m, uses in ASP_MODULE_USES.items():\n",
    "    print(f\"\\t{m} uses {uses}\")\n",
    "print()\n",
    "print(f\"undefined_terms = {UNDEFINED_TERMS}\")\n",
    "print()"
   ]
  },
  {
   "cell_type": "code",
   "execution_count": 6,
   "metadata": {},
   "outputs": [
    {
     "data": {
      "text/plain": [
       "['subrecipe_of']"
      ]
     },
     "execution_count": 6,
     "metadata": {},
     "output_type": "execute_result"
    }
   ],
   "source": [
    "RE_IS_DEFINITION = re.compile('^[a-z_]*\\([a-zA-Z_,]*\\) :-')\n",
    "RE_IS_DEFINITION = re.compile('^([a-z][a-z_]*)\\([a-zA-Z0-9_,]*\\) :-')\n",
    "\n",
    "line = 'subrecipe_of(RG1,TF1,RG2,TF2) :- '\n",
    "#line = 'strict_subrecipe_graph(RG) :-              % need this for the '\n",
    "RE_IS_DEFINITION.findall(line)\n"
   ]
  },
  {
   "cell_type": "markdown",
   "metadata": {},
   "source": [
    "## Running ASP recipes"
   ]
  },
  {
   "cell_type": "code",
   "execution_count": 7,
   "metadata": {
    "scrolled": true
   },
   "outputs": [
    {
     "name": "stdout",
     "output_type": "stream",
     "text": [
      "dependency_map = {'acceptability': {'recipe_graphs'}, 'composition': {'type_hierarchies', 'recipe_graphs'}, 'equivalence': {'isomorphisms', 'recipe_graphs'}, 'granularity': {'recipe_graphs', 'type_hierarchies', 'in_out_aligned', 'graph_properties', 'isomorphisms'}, 'graph_properties': set(), 'in_out_aligned': {'recipe_graphs'}, 'isomorphisms': {'recipe_graphs'}, 'recipe_graphs': {'type_hierarchies', 'graph_properties'}, 'subrecipes': {'recipe_graphs'}, 'type_hierarchies': set()}\n"
     ]
    }
   ],
   "source": [
    "\n",
    "print(f\"dependency_map = {DEPENDENCY_MAP}\")"
   ]
  },
  {
   "cell_type": "code",
   "execution_count": 8,
   "metadata": {},
   "outputs": [
    {
     "name": "stdout",
     "output_type": "stream",
     "text": [
      "to_load = ['acceptability']\n",
      "specified = ['acceptability']\n",
      "to_load = ['recipe_graphs']\n",
      "specified = ['acceptability']\n",
      "to_load = ['type_hierarchies', 'graph_properties']\n",
      "specified = ['acceptability']\n",
      "to_load = ['graph_properties']\n",
      "specified = ['acceptability']\n"
     ]
    },
    {
     "data": {
      "text/plain": [
       "{'acceptability', 'graph_properties', 'recipe_graphs', 'type_hierarchies'}"
      ]
     },
     "execution_count": 8,
     "metadata": {},
     "output_type": "execute_result"
    }
   ],
   "source": [
    "specified = ['acceptability']\n",
    "get_dependencies(specified)\n"
   ]
  },
  {
   "cell_type": "code",
   "execution_count": 9,
   "metadata": {},
   "outputs": [
    {
     "ename": "NameError",
     "evalue": "name 'asp_module_defines' is not defined",
     "output_type": "error",
     "traceback": [
      "\u001b[0;31m---------------------------------------------------------------------------\u001b[0m",
      "\u001b[0;31mNameError\u001b[0m                                 Traceback (most recent call last)",
      "Input \u001b[0;32mIn [9]\u001b[0m, in \u001b[0;36m<cell line: 1>\u001b[0;34m()\u001b[0m\n\u001b[0;32m----> 1\u001b[0m what_defines(\u001b[38;5;124m'\u001b[39m\u001b[38;5;124mrecipe\u001b[39m\u001b[38;5;124m'\u001b[39m, \u001b[43masp_module_defines\u001b[49m)\n",
      "\u001b[0;31mNameError\u001b[0m: name 'asp_module_defines' is not defined"
     ]
    }
   ],
   "source": [
    "what_defines('recipe', asp_module_defines)"
   ]
  },
  {
   "cell_type": "code",
   "execution_count": null,
   "metadata": {},
   "outputs": [],
   "source": [
    "what_uses('recipe', asp_module_uses)"
   ]
  },
  {
   "cell_type": "code",
   "execution_count": null,
   "metadata": {},
   "outputs": [],
   "source": [
    "'recipe' in asp_module_uses['acceptability']"
   ]
  },
  {
   "cell_type": "markdown",
   "metadata": {},
   "source": [
    "## Older code"
   ]
  },
  {
   "cell_type": "code",
   "execution_count": null,
   "metadata": {},
   "outputs": [],
   "source": [
    "graph = 'atomic_recipe_graph(rg2) atomic_recipe_graph(rg3) rg3_arc((a(1),\"pour onto toast\"),(c(4),\"beans on toast\")) rg3_arc((c(0),\"heated beans\"),(a(1),\"pour onto toast\")) rg3_arc((c(3),\"buttered toast\"),(a(1),\"pour onto toast\")) rg2_arc((a(0),\"spread on toast\"),(c(3),\"buttered toast\")) rg2_arc((c(1),\"plain toast\"),(a(0),\"spread on toast\")) rg2_arc((c(2),\"butter\"),(a(0),\"spread on toast\"))'"
   ]
  },
  {
   "cell_type": "code",
   "execution_count": null,
   "metadata": {},
   "outputs": [],
   "source": [
    "def getatoms(graph):\n",
    "    atoms = [e+\")\" for e in graph.split(\") \")]\n",
    "    atoms[-1] = atoms[-1][:-1]\n",
    "    return atoms\n",
    "    \n",
    "        \n",
    "atoms = getatoms(graph)\n",
    "\n",
    "    \n",
    "for x in atoms:\n",
    "    print(x)\n",
    "\n"
   ]
  },
  {
   "cell_type": "code",
   "execution_count": null,
   "metadata": {},
   "outputs": [],
   "source": [
    "\n",
    "def isarc(x):\n",
    "    return \"_arc\" in x\n",
    "\n",
    "def getsource(p):\n",
    "    r = p[0]\n",
    "    q = r.split(\"((\")\n",
    "    q2 = q[1]\n",
    "    q3 = q2.split(\"(\")\n",
    "    q4 = q3[0]\n",
    "    q5 = q3[1]\n",
    "    q6 = q5[:-1]\n",
    "    return q4+q6\n",
    "\n",
    "\n",
    "def getsourcetxt(p):\n",
    "    z = p[1]\n",
    "    return z[:-1]\n",
    "\n",
    "\n",
    "def gettarget(p):\n",
    "    z = p[2]\n",
    "    q2 = z.split(\"(\")\n",
    "    q3 = q2[1]\n",
    "    q4 = q2[2]\n",
    "    q5 = q4[:-1]\n",
    "    return q3+q5\n",
    "\n",
    "\n",
    "def gettargettxt(p):\n",
    "    z = p[3]\n",
    "    if z.endswith(\"))\"):\n",
    "        a = z[:-2]\n",
    "    else:\n",
    "        a = z[:-1]\n",
    "    return a\n",
    "\n",
    "\n",
    "\n",
    "def builddotstring(atoms):\n",
    "    mystring = \"digraph G {\\n\"\n",
    "    for x in atoms:\n",
    "        if isarc(x):\n",
    "            p = x.split(\",\")\n",
    "            #print(str(p))\n",
    "            s1 = getsource(p)\n",
    "            #print(s1)\n",
    "            s2 = getsourcetxt(p)\n",
    "            #print(s2)\n",
    "            t1 = gettarget(p)\n",
    "            #print(t1)\n",
    "            t2 = gettargettxt(p)\n",
    "            #print(t2)\n",
    "            if \"a\" in s1:\n",
    "                n1 = s1 + \" [label= \" + s2 + \", style=filled, color = yellow, shape=box];\\n\"\n",
    "                n2 = t1 + \" [label= \" + t2 + \", style=filled, color = gray, shape=box];\\n\"\n",
    "            else:\n",
    "                n1 = s1 + \" [label= \" + s2 + \", style=filled, color = gray, shape=box];\\n\"\n",
    "                n2 = t1 + \" [label= \" + t2 + \", style=filled, color = yellow, shape=box];\\n\"\n",
    "            e = s1 + \" -> \" + t1\n",
    "            mystring = mystring + n1 + n2 + e + \";\\n\"\n",
    "    mystring = mystring + \"}\\n\"\n",
    "    print(mystring)\n",
    "\n",
    "\n",
    "builddotstring(atoms)"
   ]
  },
  {
   "cell_type": "code",
   "execution_count": null,
   "metadata": {},
   "outputs": [],
   "source": [
    "answer_sets_str = \"\"\"\n",
    "Answer: 1\n",
    "atomic_recipe_graph(rg2) atomic_recipe_graph(rg3) rg3_arc((a(1),\"pour onto toast\"),(c(4),\"beans on toast\")) rg3_arc((c(0),\"heated beans\"),(a(1),\"pour onto toast\")) rg3_arc((c(3),\"buttered toast\"),(a(1),\"pour onto toast\")) rg2_arc((a(0),\"spread on toast\"),(c(3),\"buttered toast\")) rg2_arc((c(1),\"plain toast\"),(a(0),\"spread on toast\")) rg2_arc((c(2),\"butter\"),(a(0),\"spread on toast\"))\n",
    "Answer: 2\n",
    "atomic_recipe_graph(rg2) atomic_recipe_graph(rg3) rg3_arc((a(1),\"pour onto toast\"),(c(4),\"beans on toast\")) rg3_arc((c(0),\"heated beans\"),(a(1),\"pour onto toast\")) rg3_arc((c(3),\"buttered toast\"),(a(1),\"pour onto toast\")) rg2_arc((a(0),\"spread on toast\"),(c(3),\"buttered toast\")) rg2_arc((c(1),\"plain toast\"),(a(0),\"spread on toast\")) rg2_arc((c(2),\"butter\"),(a(0),\"spread on toast\"))\n",
    "Answer: 3\n",
    "atomic_recipe_graph(rg2) atomic_recipe_graph(rg3) rg3_arc((a(1),\"pour onto toast\"),(c(4),\"beans on toast\")) rg3_arc((c(0),\"heated beans\"),(a(1),\"pour onto toast\")) rg3_arc((c(3),\"buttered toast\"),(a(1),\"pour onto toast\")) rg2_arc((a(0),\"spread on toast\"),(c(3),\"buttered toast\")) rg2_arc((c(1),\"plain toast\"),(a(0),\"spread on toast\")) rg2_arc((c(2),\"butter\"),(a(0),\"spread on toast\"))\n",
    "Answer: 4\n",
    "atomic_recipe_graph(rg2) atomic_recipe_graph(rg3) rg3_arc((a(1),\"pour onto toast\"),(c(4),\"beans on toast\")) rg3_arc((c(0),\"heated beans\"),(a(1),\"pour onto toast\")) rg3_arc((c(3),\"buttered toast\"),(a(1),\"pour onto toast\")) rg2_arc((a(0),\"spread on toast\"),(c(3),\"buttered toast\")) rg2_arc((c(1),\"plain toast\"),(a(0),\"spread on toast\")) rg2_arc((c(2),\"butter\"),(a(0),\"spread on toast\"))\n",
    "Answer: 5\n",
    "atomic_recipe_graph(rg2) atomic_recipe_graph(rg3) rg3_arc((a(1),\"pour onto toast\"),(c(4),\"beans on toast\")) rg3_arc((c(0),\"heated beans\"),(a(1),\"pour onto toast\")) rg3_arc((c(3),\"buttered toast\"),(a(1),\"pour onto toast\")) rg2_arc((a(0),\"spread on toast\"),(c(3),\"buttered toast\")) rg2_arc((c(1),\"plain toast\"),(a(0),\"spread on toast\")) rg2_arc((c(2),\"butter\"),(a(0),\"spread on toast\"))\n",
    "\"\"\"\n",
    "\n",
    "digraphs = []\n",
    "for line in answer_sets_str.split(\"\\n\"):\n",
    "    if line.startswith(\"Answer:\") or (len(line)==0):\n",
    "        continue\n",
    "    atoms = getatoms(line)\n",
    "    digraph = builddotstring(atoms)\n",
    "    digraphs.append(digraph)\n",
    "digraphs"
   ]
  },
  {
   "cell_type": "code",
   "execution_count": null,
   "metadata": {},
   "outputs": [],
   "source": [
    "import graphviz\n",
    "dot = graphviz.Digraph()\n",
    "dot.node('A', 'King Arthur')  # doctest: +NO_EXE\n",
    "dot.node('B', 'Sir Bedevere the Wise')\n",
    "dot.node('L', 'Sir Lancelot the Brave')\n",
    "\n",
    "dot.edges(['AB', 'AL'])\n",
    "dot.edge('B', 'L', constraint='false')\n",
    "dot"
   ]
  },
  {
   "cell_type": "code",
   "execution_count": null,
   "metadata": {},
   "outputs": [],
   "source": [
    "help(dot.node)"
   ]
  },
  {
   "cell_type": "code",
   "execution_count": null,
   "metadata": {},
   "outputs": [],
   "source": [
    "def builddot(atoms):\n",
    "    dot = graphviz.Digraph()\n",
    "    for x in atoms:\n",
    "        if isarc(x):\n",
    "            p = x.split(\",\")\n",
    "            s1 = getsource(p)\n",
    "            s2 = getsourcetxt(p)\n",
    "            t1 = gettarget(p)\n",
    "            t2 = gettargettxt(p)\n",
    "            #print(t2)\n",
    "            if \"a\" in s1:\n",
    "                dot.node(s1, label=s2, style='filled', color='yellow', shape='box')\n",
    "#                 n1 = s1 + \" [label= \" + s2 + \", style=filled, color = yellow, shape=box];\\n\"\n",
    "                dot.node(t1, label=t2, style='filled', color='gray', shape='oval')\n",
    "#                 n2 = t1 + \" [label= \" + t2 + \", style=filled, color = gray, shape=box];\\n\"\n",
    "            else:\n",
    "                dot.node(s1, label=s2, style='filled', color='gray', shape='oval')\n",
    "#                 n1 = s1 + \" [label= \" + s2 + \", style=filled, color = gray, shape=box];\\n\"\n",
    "                dot.node(t1, label=t2, style='filled', color='yellow', shape='box')\n",
    "#                 n2 = t1 + \" [label= \" + t2 + \", style=filled, color = yellow, shape=box];\\n\"\n",
    "#             e = s1 + \" -> \" + t1\n",
    "            dot.edge(s1, t1)\n",
    "#             mystring = mystring + n1 + n2 + e + \";\\n\"\n",
    "#     mystring = mystring + \"}\\n\"\n",
    "    return dot\n"
   ]
  },
  {
   "cell_type": "code",
   "execution_count": null,
   "metadata": {},
   "outputs": [],
   "source": [
    "dot = builddot(atoms)\n",
    "dot"
   ]
  },
  {
   "cell_type": "code",
   "execution_count": null,
   "metadata": {},
   "outputs": [],
   "source": [
    "\n",
    "lp_fnames = [\"GraphRecipes.lp\",\"ScratchExample.lp\"]\n",
    "lp_fnames = [\"GraphRecipes.lp\",\"SnacksOnToastExample.lp\"]"
   ]
  },
  {
   "cell_type": "code",
   "execution_count": null,
   "metadata": {},
   "outputs": [],
   "source": [
    "ctl = clingo.Control()\n",
    "for lp_fname in lp_fnames:\n",
    "    ctl.load(lp_fname)\n",
    "ctl.ground([(\"base\", [])])\n",
    "#answer_sets = []\n",
    "result = ctl.solve(on_model=lambda m: print(\"Answer: {}\".format(m)))"
   ]
  },
  {
   "cell_type": "code",
   "execution_count": null,
   "metadata": {},
   "outputs": [],
   "source": [
    "ctl = clingo.Control()\n",
    "for lp_fname in lp_fnames:\n",
    "    ctl.load(lp_fname)\n",
    "ctl.ground([(\"base\", [])])\n",
    "models = []\n",
    "with ctl.solve(yield_=True) as handle:\n",
    "    for model in handle:\n",
    "        models.append(model.symbols(shown=True))\n",
    "models"
   ]
  },
  {
   "cell_type": "code",
   "execution_count": null,
   "metadata": {},
   "outputs": [],
   "source": [
    "for atom in models[0]:\n",
    "    print(f\"atom.type = {atom.type}\")\n",
    "    if atom.type == symbol.SymbolType.Function:\n",
    "        print(f\"atom.name = {atom.name}\")\n",
    "        print(f\"atom.arguments = {atom.arguments}\")\n",
    "        print(f\"str(atom) = {str(atom)}\")\n",
    "        #print(f\"atom.negative = {atom.negative}\")\n",
    "        #print(f\"atom.number = {atom.number}\")\n",
    "        #print(f\"atom.positive = {atom.positive}\")\n",
    "        #print(f\"atom.string = {atom.string}\")\n"
   ]
  },
  {
   "cell_type": "code",
   "execution_count": null,
   "metadata": {},
   "outputs": [],
   "source": [
    "help(models[0][0])"
   ]
  },
  {
   "cell_type": "code",
   "execution_count": null,
   "metadata": {},
   "outputs": [],
   "source": [
    "answer_sets[0].symbols(shown=True)"
   ]
  },
  {
   "cell_type": "code",
   "execution_count": null,
   "metadata": {},
   "outputs": [],
   "source": [
    "help(answer_sets[0])"
   ]
  },
  {
   "cell_type": "code",
   "execution_count": null,
   "metadata": {},
   "outputs": [],
   "source": [
    "help(result)"
   ]
  },
  {
   "cell_type": "code",
   "execution_count": null,
   "metadata": {},
   "outputs": [],
   "source": [
    "help(ctl)"
   ]
  },
  {
   "cell_type": "code",
   "execution_count": null,
   "metadata": {},
   "outputs": [],
   "source": [
    "# TO reproduce default clingo do this:\n",
    "class Application:\n",
    "    def __init__(self, name):\n",
    "        self.program_name = name\n",
    "\n",
    "    def main(self, ctl, files):\n",
    "        if len(files) > 0:\n",
    "            for f in files:\n",
    "                ctl.load(f)\n",
    "        else:\n",
    "            ctl.load(\"-\")\n",
    "        ctl.solve()\n",
    "\n",
    "        \n",
    "        \n",
    "clingo.clingo_main(Application(sys.argv[0]), sys.argv[1:])"
   ]
  }
 ],
 "metadata": {
  "kernelspec": {
   "display_name": "Python 3 (ipykernel)",
   "language": "python",
   "name": "python3"
  },
  "language_info": {
   "codemirror_mode": {
    "name": "ipython",
    "version": 3
   },
   "file_extension": ".py",
   "mimetype": "text/x-python",
   "name": "python",
   "nbconvert_exporter": "python",
   "pygments_lexer": "ipython3",
   "version": "3.10.6"
  }
 },
 "nbformat": 4,
 "nbformat_minor": 2
}
