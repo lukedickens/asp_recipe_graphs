{
 "cells": [
  {
   "cell_type": "code",
   "execution_count": 1,
   "metadata": {},
   "outputs": [],
   "source": [
    "import json\n",
    "import re \n",
    "import copy\n",
    "from importlib import reload"
   ]
  },
  {
   "cell_type": "code",
   "execution_count": 3,
   "metadata": {},
   "outputs": [],
   "source": [
    "import sys\n",
    "import clingo\n",
    "import clingo.symbol as symbol"
   ]
  },
  {
   "cell_type": "code",
   "execution_count": 2,
   "metadata": {},
   "outputs": [
    {
     "name": "stdout",
     "output_type": "stream",
     "text": [
      "thisdir = /home/luke/git/external/asp_recipe_graphs/notebooks\n",
      "Adding parent directory to python path\n",
      "sys.path =\n",
      "['/home/luke/git/external/asp_recipe_graphs/notebooks', '/home/luke/git/external/asp_recipe_graphs', '/usr/lib/python310.zip', '/usr/lib/python3.10', '/usr/lib/python3.10/lib-dynload', '', '/home/luke/.local/lib/python3.10/site-packages', '/usr/local/lib/python3.10/dist-packages', '/usr/lib/python3/dist-packages', '/usr/lib/python3.10/dist-packages']\n"
     ]
    }
   ],
   "source": [
    "# This is a hack to make the library in the parent folder available for imoprts\n",
    "# A better solution is by np8 here:\n",
    "# https://stackoverflow.com/questions/714063/importing-modules-from-parent-folder\n",
    "import sys\n",
    "import os\n",
    "import inspect\n",
    "\n",
    "thisdir = sys.path[0]\n",
    "print(f\"thisdir = {thisdir}\")\n",
    "parentdir = os.path.dirname(thisdir)\n",
    "#print(f\"parentdir = {parentdir}\")\n",
    "if not parentdir in sys.path:\n",
    "    print(\"Adding parent directory to python path\")\n",
    "    sys.path.insert(1, parentdir)\n",
    "else:\n",
    "    print(\"Skipping adding parent direct to path (there already)\")\n",
    "\n",
    "print(f\"sys.path =\\n{sys.path}\")\n"
   ]
  },
  {
   "cell_type": "code",
   "execution_count": 98,
   "metadata": {},
   "outputs": [],
   "source": [
    "## local modules\n",
    "import asp_recipe_graphs.api.modules\n",
    "reload(asp_recipe_graphs.api.modules)\n",
    "\n",
    "from asp_recipe_graphs.api.modules import re_find_terms\n",
    "from asp_recipe_graphs.api.modules import re_is_definition\n",
    "from asp_recipe_graphs.api.modules import asp_module_defines\n",
    "from asp_recipe_graphs.api.modules import asp_module_uses\n",
    "from asp_recipe_graphs.api.modules import dependency_map\n",
    "from asp_recipe_graphs.api.modules import all_defined\n",
    "from asp_recipe_graphs.api.modules import all_uses\n",
    "from asp_recipe_graphs.api.modules import undefined_terms\n"
   ]
  },
  {
   "cell_type": "code",
   "execution_count": 103,
   "metadata": {},
   "outputs": [
    {
     "name": "stdout",
     "output_type": "stream",
     "text": [
      "asp_module_defines = {'acceptability': {'acceptable_recipe'}, 'composition': set(), 'equivalence': {'equivalent'}, 'granularity': {'more_specific', 'finer_grained', 'path_or_equal'}, 'graph_properties': {'has_incoming_arc', 'is_node', 'has_outgoing_arc', 'graph', 'cyclic', 'connected_in'}, 'in_out_aligned': set(), 'isomorphisms': {'isomorphic'}, 'recipe_graphs': {'atomic_recipe_graph', 'given_recipe_graph', 'graph', 'high_indexes_allowed', 'recipe', 'recipe_graph'}, 'subrecipes': {'strict_subrecipe_graph'}, 'type_hierarchies': {'subtype', 'subtype_or_equal', 'action_type', 'comestible_type'}}\n",
      "\n",
      "asp_module_uses = {'acceptability': {'c', 'arcs', 'acceptability_tuple', 'arc', 'in', 'recipe', 'a', 'type_of'}, 'composition': {'c', 'out', 'join_types_match', 'mid', 'recipe_graph', 'type_of', 'composable', 'same_type_path', 'composition', 'empty_intersection', 'arcs', 'c_nodes', 'incompatible_node_types', 'in', 'nodes', 'recipe', 'acts', 'set_of'}, 'equivalence': {'c', 'isomorphic', 'bijection', 'recipe', 'a', 'type_of'}, 'granularity': {'c', 'out', 'in_out_aligned', 'recipe_graph', 'type_of', 'path', 'a_nodes', 'arcs', 'g_function', 'number_of_action_nodes', 'not_same_recipe', 'subtype_or_equal', 'mapped_to_by_g_function', 'one_path_longer', 'bijection', 'in', 'arc', 'nodes', 'recipe', 'a', 'path_with_half_length', 'isomorphic'}, 'graph_properties': {'c', 'c_node_index', 'is_arc', 'empty', 'connected', 'is_a_node', 'path', 'a_nodes', 'arcs', 'a_node_properly_connected', 'is_c_node', 'c_nodes', 'arc', 'in', 'nodes', 'a', 'a_node_index'}, 'in_out_aligned': {'c', 'out_types', 'out', 'in_out_aligned', 'in', 'recipe', 'type_of', 'in_types'}, 'isomorphisms': {'c', 'a_nodes', 'arcs', 'a', 'c_nodes', 'bijection', 'in', 'arc', 'recipe_graph'}, 'recipe_graphs': {'out', 'is_arc', 'same_type_path', 'is_a_node', 'path', 'arcs', 'a', 'in', 'arc', 'nodes', 'a_node_index', 'c', 'strict_subrecipe_graph', 'empty', 'c_node_index', 'mid', 'connected', 'given_recipe', 'type_of', 'a_nodes', 'action_type', 'comestible_type', 'a_node_properly_connected', 'is_c_node', 'c_nodes', 'cyclic', 'acts'}, 'subrecipes': {'arcs', 'in', 'subrecipe_graph_of', 'subrecipe_of', 'recipe', 'recipe_graph', 'type_of'}, 'type_hierarchies': {'same_type_path', 'child'}}\n",
      "\n",
      "undefined_terms = {'out_types', 'out', 'child', 'is_arc', 'subrecipe_graph_of', 'same_type_path', 'is_a_node', 'path', 'composition', 'empty_intersection', 'arcs', 'number_of_action_nodes', 'a', 'incompatible_node_types', 'acceptability_tuple', 'bijection', 'in', 'arc', 'nodes', 'a_node_index', 'c', 'in_out_aligned', 'c_node_index', 'empty', 'join_types_match', 'mid', 'connected', 'type_of', 'composable', 'given_recipe', 'a_nodes', 'g_function', 'a_node_properly_connected', 'not_same_recipe', 'is_c_node', 'c_nodes', 'mapped_to_by_g_function', 'one_path_longer', 'subrecipe_of', 'acts', 'set_of', 'in_types', 'path_with_half_length'}\n",
      "\n"
     ]
    }
   ],
   "source": [
    "print(f\"asp_module_defines = {asp_module_defines}\")\n",
    "print()\n",
    "print(f\"asp_module_uses = {asp_module_uses}\")\n",
    "print()\n",
    "print(f\"undefined_terms = {undefined_terms}\")\n",
    "print()"
   ]
  },
  {
   "cell_type": "markdown",
   "metadata": {},
   "source": [
    "## Running ASP recipes"
   ]
  },
  {
   "cell_type": "code",
   "execution_count": 104,
   "metadata": {},
   "outputs": [
    {
     "name": "stdout",
     "output_type": "stream",
     "text": [
      "dependency_map = {'acceptability': {'recipe_graphs'}, 'composition': {'recipe_graphs'}, 'equivalence': {'isomorphisms', 'recipe_graphs'}, 'granularity': {'type_hierarchies', 'isomorphisms', 'recipe_graphs'}, 'graph_properties': set(), 'in_out_aligned': {'recipe_graphs'}, 'isomorphisms': {'recipe_graphs'}, 'recipe_graphs': {'type_hierarchies', 'subrecipes', 'graph_properties'}, 'subrecipes': {'recipe_graphs'}, 'type_hierarchies': set()}\n"
     ]
    }
   ],
   "source": [
    "\n",
    "print(f\"dependency_map = {dependency_map}\")"
   ]
  },
  {
   "cell_type": "code",
   "execution_count": 63,
   "metadata": {},
   "outputs": [
    {
     "data": {
      "text/plain": [
       "{'acceptability'}"
      ]
     },
     "execution_count": 63,
     "metadata": {},
     "output_type": "execute_result"
    }
   ],
   "source": [
    "mapping = {'a':['b','c'],'b':[],'c':['d'],'d':'e'}\n",
    "specified = ['acceptability']\n",
    "loaded = []\n",
    "\n",
    "def get_all_dependencies(specified, dependency_map):\n",
    "    to_load = specified\n",
    "    required = set()\n",
    "    while len(specified) > 0:\n",
    "#         print(f\"specified = {specified}\")\n",
    "        loading = to_load.pop(0)\n",
    "        to_load.extend(mapping.get(loading,[]))\n",
    "        required.add(loading)\n",
    "    return required\n",
    "\n",
    "def what_defines(term, asp_module_defines):\n",
    "    for m, defines in asp_module_defines.items():\n",
    "        if term in defines:\n",
    "            return m\n",
    "    return None\n",
    "\n",
    "\n",
    "def what_uses(term, asp_module_uses):\n",
    "    modules = []\n",
    "    for m, uses in asp_module_uses.items():\n",
    "#         print(f\"checking {m}\")\n",
    "#         print(f\"uses = {uses}\")\n",
    "        if term in uses:\n",
    "#             print(f\"{m} uses {term}\")\n",
    "            modules.append(m)\n",
    "    return modules\n",
    "\n",
    "\n",
    "get_all_dependencies(specified, dependency_map)\n"
   ]
  },
  {
   "cell_type": "code",
   "execution_count": 65,
   "metadata": {},
   "outputs": [],
   "source": [
    "what_defines('recipe', asp_module_defines)"
   ]
  },
  {
   "cell_type": "code",
   "execution_count": 64,
   "metadata": {},
   "outputs": [
    {
     "data": {
      "text/plain": [
       "['acceptability', 'equivalence', 'granularity', 'in_out_aligned']"
      ]
     },
     "execution_count": 64,
     "metadata": {},
     "output_type": "execute_result"
    }
   ],
   "source": [
    "what_uses('recipe', asp_module_uses)"
   ]
  },
  {
   "cell_type": "code",
   "execution_count": 53,
   "metadata": {},
   "outputs": [
    {
     "data": {
      "text/plain": [
       "True"
      ]
     },
     "execution_count": 53,
     "metadata": {},
     "output_type": "execute_result"
    }
   ],
   "source": [
    "'recipe' in asp_module_uses['acceptability']"
   ]
  },
  {
   "cell_type": "markdown",
   "metadata": {},
   "source": [
    "## Older code"
   ]
  },
  {
   "cell_type": "code",
   "execution_count": 1,
   "metadata": {},
   "outputs": [],
   "source": [
    "graph = 'atomic_recipe_graph(rg2) atomic_recipe_graph(rg3) rg3_arc((a(1),\"pour onto toast\"),(c(4),\"beans on toast\")) rg3_arc((c(0),\"heated beans\"),(a(1),\"pour onto toast\")) rg3_arc((c(3),\"buttered toast\"),(a(1),\"pour onto toast\")) rg2_arc((a(0),\"spread on toast\"),(c(3),\"buttered toast\")) rg2_arc((c(1),\"plain toast\"),(a(0),\"spread on toast\")) rg2_arc((c(2),\"butter\"),(a(0),\"spread on toast\"))'"
   ]
  },
  {
   "cell_type": "code",
   "execution_count": 2,
   "metadata": {},
   "outputs": [
    {
     "name": "stdout",
     "output_type": "stream",
     "text": [
      "atomic_recipe_graph(rg2)\n",
      "atomic_recipe_graph(rg3)\n",
      "rg3_arc((a(1),\"pour onto toast\"),(c(4),\"beans on toast\"))\n",
      "rg3_arc((c(0),\"heated beans\"),(a(1),\"pour onto toast\"))\n",
      "rg3_arc((c(3),\"buttered toast\"),(a(1),\"pour onto toast\"))\n",
      "rg2_arc((a(0),\"spread on toast\"),(c(3),\"buttered toast\"))\n",
      "rg2_arc((c(1),\"plain toast\"),(a(0),\"spread on toast\"))\n",
      "rg2_arc((c(2),\"butter\"),(a(0),\"spread on toast\"))\n"
     ]
    }
   ],
   "source": [
    "def getatoms(graph):\n",
    "    atoms = [e+\")\" for e in graph.split(\") \")]\n",
    "    atoms[-1] = atoms[-1][:-1]\n",
    "    return atoms\n",
    "    \n",
    "        \n",
    "atoms = getatoms(graph)\n",
    "\n",
    "    \n",
    "for x in atoms:\n",
    "    print(x)\n",
    "\n"
   ]
  },
  {
   "cell_type": "code",
   "execution_count": 3,
   "metadata": {},
   "outputs": [
    {
     "name": "stdout",
     "output_type": "stream",
     "text": [
      "digraph G {\n",
      "a1 [label= \"pour onto toast\", style=filled, color = yellow, shape=box];\n",
      "c4 [label= \"beans on toast\", style=filled, color = gray, shape=box];\n",
      "a1 -> c4;\n",
      "c0 [label= \"heated beans\", style=filled, color = gray, shape=box];\n",
      "a1 [label= \"pour onto toast\", style=filled, color = yellow, shape=box];\n",
      "c0 -> a1;\n",
      "c3 [label= \"buttered toast\", style=filled, color = gray, shape=box];\n",
      "a1 [label= \"pour onto toast\", style=filled, color = yellow, shape=box];\n",
      "c3 -> a1;\n",
      "a0 [label= \"spread on toast\", style=filled, color = yellow, shape=box];\n",
      "c3 [label= \"buttered toast\", style=filled, color = gray, shape=box];\n",
      "a0 -> c3;\n",
      "c1 [label= \"plain toast\", style=filled, color = gray, shape=box];\n",
      "a0 [label= \"spread on toast\", style=filled, color = yellow, shape=box];\n",
      "c1 -> a0;\n",
      "c2 [label= \"butter\", style=filled, color = gray, shape=box];\n",
      "a0 [label= \"spread on toast\", style=filled, color = yellow, shape=box];\n",
      "c2 -> a0;\n",
      "}\n",
      "\n"
     ]
    }
   ],
   "source": [
    "\n",
    "def isarc(x):\n",
    "    return \"_arc\" in x\n",
    "\n",
    "def getsource(p):\n",
    "    r = p[0]\n",
    "    q = r.split(\"((\")\n",
    "    q2 = q[1]\n",
    "    q3 = q2.split(\"(\")\n",
    "    q4 = q3[0]\n",
    "    q5 = q3[1]\n",
    "    q6 = q5[:-1]\n",
    "    return q4+q6\n",
    "\n",
    "\n",
    "def getsourcetxt(p):\n",
    "    z = p[1]\n",
    "    return z[:-1]\n",
    "\n",
    "\n",
    "def gettarget(p):\n",
    "    z = p[2]\n",
    "    q2 = z.split(\"(\")\n",
    "    q3 = q2[1]\n",
    "    q4 = q2[2]\n",
    "    q5 = q4[:-1]\n",
    "    return q3+q5\n",
    "\n",
    "\n",
    "def gettargettxt(p):\n",
    "    z = p[3]\n",
    "    if z.endswith(\"))\"):\n",
    "        a = z[:-2]\n",
    "    else:\n",
    "        a = z[:-1]\n",
    "    return a\n",
    "\n",
    "\n",
    "\n",
    "def builddotstring(atoms):\n",
    "    mystring = \"digraph G {\\n\"\n",
    "    for x in atoms:\n",
    "        if isarc(x):\n",
    "            p = x.split(\",\")\n",
    "            #print(str(p))\n",
    "            s1 = getsource(p)\n",
    "            #print(s1)\n",
    "            s2 = getsourcetxt(p)\n",
    "            #print(s2)\n",
    "            t1 = gettarget(p)\n",
    "            #print(t1)\n",
    "            t2 = gettargettxt(p)\n",
    "            #print(t2)\n",
    "            if \"a\" in s1:\n",
    "                n1 = s1 + \" [label= \" + s2 + \", style=filled, color = yellow, shape=box];\\n\"\n",
    "                n2 = t1 + \" [label= \" + t2 + \", style=filled, color = gray, shape=box];\\n\"\n",
    "            else:\n",
    "                n1 = s1 + \" [label= \" + s2 + \", style=filled, color = gray, shape=box];\\n\"\n",
    "                n2 = t1 + \" [label= \" + t2 + \", style=filled, color = yellow, shape=box];\\n\"\n",
    "            e = s1 + \" -> \" + t1\n",
    "            mystring = mystring + n1 + n2 + e + \";\\n\"\n",
    "    mystring = mystring + \"}\\n\"\n",
    "    print(mystring)\n",
    "\n",
    "\n",
    "builddotstring(atoms)"
   ]
  },
  {
   "cell_type": "code",
   "execution_count": 4,
   "metadata": {},
   "outputs": [
    {
     "name": "stdout",
     "output_type": "stream",
     "text": [
      "digraph G {\n",
      "a1 [label= \"pour onto toast\", style=filled, color = yellow, shape=box];\n",
      "c4 [label= \"beans on toast\", style=filled, color = gray, shape=box];\n",
      "a1 -> c4;\n",
      "c0 [label= \"heated beans\", style=filled, color = gray, shape=box];\n",
      "a1 [label= \"pour onto toast\", style=filled, color = yellow, shape=box];\n",
      "c0 -> a1;\n",
      "c3 [label= \"buttered toast\", style=filled, color = gray, shape=box];\n",
      "a1 [label= \"pour onto toast\", style=filled, color = yellow, shape=box];\n",
      "c3 -> a1;\n",
      "a0 [label= \"spread on toast\", style=filled, color = yellow, shape=box];\n",
      "c3 [label= \"buttered toast\", style=filled, color = gray, shape=box];\n",
      "a0 -> c3;\n",
      "c1 [label= \"plain toast\", style=filled, color = gray, shape=box];\n",
      "a0 [label= \"spread on toast\", style=filled, color = yellow, shape=box];\n",
      "c1 -> a0;\n",
      "c2 [label= \"butter\", style=filled, color = gray, shape=box];\n",
      "a0 [label= \"spread on toast\", style=filled, color = yellow, shape=box];\n",
      "c2 -> a0;\n",
      "}\n",
      "\n",
      "digraph G {\n",
      "a1 [label= \"pour onto toast\", style=filled, color = yellow, shape=box];\n",
      "c4 [label= \"beans on toast\", style=filled, color = gray, shape=box];\n",
      "a1 -> c4;\n",
      "c0 [label= \"heated beans\", style=filled, color = gray, shape=box];\n",
      "a1 [label= \"pour onto toast\", style=filled, color = yellow, shape=box];\n",
      "c0 -> a1;\n",
      "c3 [label= \"buttered toast\", style=filled, color = gray, shape=box];\n",
      "a1 [label= \"pour onto toast\", style=filled, color = yellow, shape=box];\n",
      "c3 -> a1;\n",
      "a0 [label= \"spread on toast\", style=filled, color = yellow, shape=box];\n",
      "c3 [label= \"buttered toast\", style=filled, color = gray, shape=box];\n",
      "a0 -> c3;\n",
      "c1 [label= \"plain toast\", style=filled, color = gray, shape=box];\n",
      "a0 [label= \"spread on toast\", style=filled, color = yellow, shape=box];\n",
      "c1 -> a0;\n",
      "c2 [label= \"butter\", style=filled, color = gray, shape=box];\n",
      "a0 [label= \"spread on toast\", style=filled, color = yellow, shape=box];\n",
      "c2 -> a0;\n",
      "}\n",
      "\n",
      "digraph G {\n",
      "a1 [label= \"pour onto toast\", style=filled, color = yellow, shape=box];\n",
      "c4 [label= \"beans on toast\", style=filled, color = gray, shape=box];\n",
      "a1 -> c4;\n",
      "c0 [label= \"heated beans\", style=filled, color = gray, shape=box];\n",
      "a1 [label= \"pour onto toast\", style=filled, color = yellow, shape=box];\n",
      "c0 -> a1;\n",
      "c3 [label= \"buttered toast\", style=filled, color = gray, shape=box];\n",
      "a1 [label= \"pour onto toast\", style=filled, color = yellow, shape=box];\n",
      "c3 -> a1;\n",
      "a0 [label= \"spread on toast\", style=filled, color = yellow, shape=box];\n",
      "c3 [label= \"buttered toast\", style=filled, color = gray, shape=box];\n",
      "a0 -> c3;\n",
      "c1 [label= \"plain toast\", style=filled, color = gray, shape=box];\n",
      "a0 [label= \"spread on toast\", style=filled, color = yellow, shape=box];\n",
      "c1 -> a0;\n",
      "c2 [label= \"butter\", style=filled, color = gray, shape=box];\n",
      "a0 [label= \"spread on toast\", style=filled, color = yellow, shape=box];\n",
      "c2 -> a0;\n",
      "}\n",
      "\n",
      "digraph G {\n",
      "a1 [label= \"pour onto toast\", style=filled, color = yellow, shape=box];\n",
      "c4 [label= \"beans on toast\", style=filled, color = gray, shape=box];\n",
      "a1 -> c4;\n",
      "c0 [label= \"heated beans\", style=filled, color = gray, shape=box];\n",
      "a1 [label= \"pour onto toast\", style=filled, color = yellow, shape=box];\n",
      "c0 -> a1;\n",
      "c3 [label= \"buttered toast\", style=filled, color = gray, shape=box];\n",
      "a1 [label= \"pour onto toast\", style=filled, color = yellow, shape=box];\n",
      "c3 -> a1;\n",
      "a0 [label= \"spread on toast\", style=filled, color = yellow, shape=box];\n",
      "c3 [label= \"buttered toast\", style=filled, color = gray, shape=box];\n",
      "a0 -> c3;\n",
      "c1 [label= \"plain toast\", style=filled, color = gray, shape=box];\n",
      "a0 [label= \"spread on toast\", style=filled, color = yellow, shape=box];\n",
      "c1 -> a0;\n",
      "c2 [label= \"butter\", style=filled, color = gray, shape=box];\n",
      "a0 [label= \"spread on toast\", style=filled, color = yellow, shape=box];\n",
      "c2 -> a0;\n",
      "}\n",
      "\n",
      "digraph G {\n",
      "a1 [label= \"pour onto toast\", style=filled, color = yellow, shape=box];\n",
      "c4 [label= \"beans on toast\", style=filled, color = gray, shape=box];\n",
      "a1 -> c4;\n",
      "c0 [label= \"heated beans\", style=filled, color = gray, shape=box];\n",
      "a1 [label= \"pour onto toast\", style=filled, color = yellow, shape=box];\n",
      "c0 -> a1;\n",
      "c3 [label= \"buttered toast\", style=filled, color = gray, shape=box];\n",
      "a1 [label= \"pour onto toast\", style=filled, color = yellow, shape=box];\n",
      "c3 -> a1;\n",
      "a0 [label= \"spread on toast\", style=filled, color = yellow, shape=box];\n",
      "c3 [label= \"buttered toast\", style=filled, color = gray, shape=box];\n",
      "a0 -> c3;\n",
      "c1 [label= \"plain toast\", style=filled, color = gray, shape=box];\n",
      "a0 [label= \"spread on toast\", style=filled, color = yellow, shape=box];\n",
      "c1 -> a0;\n",
      "c2 [label= \"butter\", style=filled, color = gray, shape=box];\n",
      "a0 [label= \"spread on toast\", style=filled, color = yellow, shape=box];\n",
      "c2 -> a0;\n",
      "}\n",
      "\n"
     ]
    },
    {
     "data": {
      "text/plain": [
       "[None, None, None, None, None]"
      ]
     },
     "execution_count": 4,
     "metadata": {},
     "output_type": "execute_result"
    }
   ],
   "source": [
    "answer_sets_str = \"\"\"\n",
    "Answer: 1\n",
    "atomic_recipe_graph(rg2) atomic_recipe_graph(rg3) rg3_arc((a(1),\"pour onto toast\"),(c(4),\"beans on toast\")) rg3_arc((c(0),\"heated beans\"),(a(1),\"pour onto toast\")) rg3_arc((c(3),\"buttered toast\"),(a(1),\"pour onto toast\")) rg2_arc((a(0),\"spread on toast\"),(c(3),\"buttered toast\")) rg2_arc((c(1),\"plain toast\"),(a(0),\"spread on toast\")) rg2_arc((c(2),\"butter\"),(a(0),\"spread on toast\"))\n",
    "Answer: 2\n",
    "atomic_recipe_graph(rg2) atomic_recipe_graph(rg3) rg3_arc((a(1),\"pour onto toast\"),(c(4),\"beans on toast\")) rg3_arc((c(0),\"heated beans\"),(a(1),\"pour onto toast\")) rg3_arc((c(3),\"buttered toast\"),(a(1),\"pour onto toast\")) rg2_arc((a(0),\"spread on toast\"),(c(3),\"buttered toast\")) rg2_arc((c(1),\"plain toast\"),(a(0),\"spread on toast\")) rg2_arc((c(2),\"butter\"),(a(0),\"spread on toast\"))\n",
    "Answer: 3\n",
    "atomic_recipe_graph(rg2) atomic_recipe_graph(rg3) rg3_arc((a(1),\"pour onto toast\"),(c(4),\"beans on toast\")) rg3_arc((c(0),\"heated beans\"),(a(1),\"pour onto toast\")) rg3_arc((c(3),\"buttered toast\"),(a(1),\"pour onto toast\")) rg2_arc((a(0),\"spread on toast\"),(c(3),\"buttered toast\")) rg2_arc((c(1),\"plain toast\"),(a(0),\"spread on toast\")) rg2_arc((c(2),\"butter\"),(a(0),\"spread on toast\"))\n",
    "Answer: 4\n",
    "atomic_recipe_graph(rg2) atomic_recipe_graph(rg3) rg3_arc((a(1),\"pour onto toast\"),(c(4),\"beans on toast\")) rg3_arc((c(0),\"heated beans\"),(a(1),\"pour onto toast\")) rg3_arc((c(3),\"buttered toast\"),(a(1),\"pour onto toast\")) rg2_arc((a(0),\"spread on toast\"),(c(3),\"buttered toast\")) rg2_arc((c(1),\"plain toast\"),(a(0),\"spread on toast\")) rg2_arc((c(2),\"butter\"),(a(0),\"spread on toast\"))\n",
    "Answer: 5\n",
    "atomic_recipe_graph(rg2) atomic_recipe_graph(rg3) rg3_arc((a(1),\"pour onto toast\"),(c(4),\"beans on toast\")) rg3_arc((c(0),\"heated beans\"),(a(1),\"pour onto toast\")) rg3_arc((c(3),\"buttered toast\"),(a(1),\"pour onto toast\")) rg2_arc((a(0),\"spread on toast\"),(c(3),\"buttered toast\")) rg2_arc((c(1),\"plain toast\"),(a(0),\"spread on toast\")) rg2_arc((c(2),\"butter\"),(a(0),\"spread on toast\"))\n",
    "\"\"\"\n",
    "\n",
    "digraphs = []\n",
    "for line in answer_sets_str.split(\"\\n\"):\n",
    "    if line.startswith(\"Answer:\") or (len(line)==0):\n",
    "        continue\n",
    "    atoms = getatoms(line)\n",
    "    digraph = builddotstring(atoms)\n",
    "    digraphs.append(digraph)\n",
    "digraphs"
   ]
  },
  {
   "cell_type": "code",
   "execution_count": 5,
   "metadata": {},
   "outputs": [
    {
     "data": {
      "image/svg+xml": [
       "<?xml version=\"1.0\" encoding=\"UTF-8\" standalone=\"no\"?>\n",
       "<!DOCTYPE svg PUBLIC \"-//W3C//DTD SVG 1.1//EN\"\n",
       " \"http://www.w3.org/Graphics/SVG/1.1/DTD/svg11.dtd\">\n",
       "<!-- Generated by graphviz version 2.43.0 (0)\n",
       " -->\n",
       "<!-- Title: %3 Pages: 1 -->\n",
       "<svg width=\"484pt\" height=\"116pt\"\n",
       " viewBox=\"0.00 0.00 484.43 116.00\" xmlns=\"http://www.w3.org/2000/svg\" xmlns:xlink=\"http://www.w3.org/1999/xlink\">\n",
       "<g id=\"graph0\" class=\"graph\" transform=\"scale(1 1) rotate(0) translate(4 112)\">\n",
       "<title>%3</title>\n",
       "<polygon fill=\"white\" stroke=\"transparent\" points=\"-4,4 -4,-112 480.43,-112 480.43,4 -4,4\"/>\n",
       "<!-- A -->\n",
       "<g id=\"node1\" class=\"node\">\n",
       "<title>A</title>\n",
       "<ellipse fill=\"none\" stroke=\"black\" cx=\"237.39\" cy=\"-90\" rx=\"65.79\" ry=\"18\"/>\n",
       "<text text-anchor=\"middle\" x=\"237.39\" y=\"-86.3\" font-family=\"Times,serif\" font-size=\"14.00\">King Arthur</text>\n",
       "</g>\n",
       "<!-- B -->\n",
       "<g id=\"node2\" class=\"node\">\n",
       "<title>B</title>\n",
       "<ellipse fill=\"none\" stroke=\"black\" cx=\"114.39\" cy=\"-18\" rx=\"114.28\" ry=\"18\"/>\n",
       "<text text-anchor=\"middle\" x=\"114.39\" y=\"-14.3\" font-family=\"Times,serif\" font-size=\"14.00\">Sir Bedevere the Wise</text>\n",
       "</g>\n",
       "<!-- A&#45;&gt;B -->\n",
       "<g id=\"edge1\" class=\"edge\">\n",
       "<title>A&#45;&gt;B</title>\n",
       "<path fill=\"none\" stroke=\"black\" d=\"M210.09,-73.46C193.06,-63.77 170.9,-51.16 152.19,-40.51\"/>\n",
       "<polygon fill=\"black\" stroke=\"black\" points=\"153.75,-37.37 143.33,-35.47 150.28,-43.46 153.75,-37.37\"/>\n",
       "</g>\n",
       "<!-- L -->\n",
       "<g id=\"node3\" class=\"node\">\n",
       "<title>L</title>\n",
       "<ellipse fill=\"none\" stroke=\"black\" cx=\"361.39\" cy=\"-18\" rx=\"115.08\" ry=\"18\"/>\n",
       "<text text-anchor=\"middle\" x=\"361.39\" y=\"-14.3\" font-family=\"Times,serif\" font-size=\"14.00\">Sir Lancelot the Brave</text>\n",
       "</g>\n",
       "<!-- A&#45;&gt;L -->\n",
       "<g id=\"edge2\" class=\"edge\">\n",
       "<title>A&#45;&gt;L</title>\n",
       "<path fill=\"none\" stroke=\"black\" d=\"M264.91,-73.46C282.08,-63.77 304.42,-51.16 323.28,-40.51\"/>\n",
       "<polygon fill=\"black\" stroke=\"black\" points=\"325.23,-43.43 332.22,-35.47 321.79,-37.34 325.23,-43.43\"/>\n",
       "</g>\n",
       "<!-- B&#45;&gt;L -->\n",
       "<g id=\"edge3\" class=\"edge\">\n",
       "<title>B&#45;&gt;L</title>\n",
       "<path fill=\"none\" stroke=\"black\" d=\"M229.21,-18C231.51,-18 233.82,-18 236.13,-18\"/>\n",
       "<polygon fill=\"black\" stroke=\"black\" points=\"236.25,-21.5 246.25,-18 236.25,-14.5 236.25,-21.5\"/>\n",
       "</g>\n",
       "</g>\n",
       "</svg>\n"
      ],
      "text/plain": [
       "<graphviz.graphs.Digraph at 0x7f191d298a90>"
      ]
     },
     "execution_count": 5,
     "metadata": {},
     "output_type": "execute_result"
    }
   ],
   "source": [
    "import graphviz\n",
    "dot = graphviz.Digraph()\n",
    "dot.node('A', 'King Arthur')  # doctest: +NO_EXE\n",
    "dot.node('B', 'Sir Bedevere the Wise')\n",
    "dot.node('L', 'Sir Lancelot the Brave')\n",
    "\n",
    "dot.edges(['AB', 'AL'])\n",
    "dot.edge('B', 'L', constraint='false')\n",
    "dot"
   ]
  },
  {
   "cell_type": "code",
   "execution_count": 6,
   "metadata": {},
   "outputs": [
    {
     "name": "stdout",
     "output_type": "stream",
     "text": [
      "Help on method node in module graphviz.dot:\n",
      "\n",
      "node(name: str, label: Optional[str] = None, _attributes=None, **attrs) -> None method of graphviz.graphs.Digraph instance\n",
      "    Create a node.\n",
      "    \n",
      "    Args:\n",
      "        name: Unique identifier for the node inside the source.\n",
      "        label: Caption to be displayed (defaults to the node ``name``).\n",
      "        attrs: Any additional node attributes (must be strings).\n",
      "\n"
     ]
    }
   ],
   "source": [
    "help(dot.node)"
   ]
  },
  {
   "cell_type": "code",
   "execution_count": 7,
   "metadata": {},
   "outputs": [],
   "source": [
    "def builddot(atoms):\n",
    "    dot = graphviz.Digraph()\n",
    "    for x in atoms:\n",
    "        if isarc(x):\n",
    "            p = x.split(\",\")\n",
    "            s1 = getsource(p)\n",
    "            s2 = getsourcetxt(p)\n",
    "            t1 = gettarget(p)\n",
    "            t2 = gettargettxt(p)\n",
    "            #print(t2)\n",
    "            if \"a\" in s1:\n",
    "                dot.node(s1, label=s2, style='filled', color='yellow', shape='box')\n",
    "#                 n1 = s1 + \" [label= \" + s2 + \", style=filled, color = yellow, shape=box];\\n\"\n",
    "                dot.node(t1, label=t2, style='filled', color='gray', shape='oval')\n",
    "#                 n2 = t1 + \" [label= \" + t2 + \", style=filled, color = gray, shape=box];\\n\"\n",
    "            else:\n",
    "                dot.node(s1, label=s2, style='filled', color='gray', shape='oval')\n",
    "#                 n1 = s1 + \" [label= \" + s2 + \", style=filled, color = gray, shape=box];\\n\"\n",
    "                dot.node(t1, label=t2, style='filled', color='yellow', shape='box')\n",
    "#                 n2 = t1 + \" [label= \" + t2 + \", style=filled, color = yellow, shape=box];\\n\"\n",
    "#             e = s1 + \" -> \" + t1\n",
    "            dot.edge(s1, t1)\n",
    "#             mystring = mystring + n1 + n2 + e + \";\\n\"\n",
    "#     mystring = mystring + \"}\\n\"\n",
    "    return dot\n"
   ]
  },
  {
   "cell_type": "code",
   "execution_count": 8,
   "metadata": {},
   "outputs": [
    {
     "data": {
      "image/svg+xml": [
       "<?xml version=\"1.0\" encoding=\"UTF-8\" standalone=\"no\"?>\n",
       "<!DOCTYPE svg PUBLIC \"-//W3C//DTD SVG 1.1//EN\"\n",
       " \"http://www.w3.org/Graphics/SVG/1.1/DTD/svg11.dtd\">\n",
       "<!-- Generated by graphviz version 2.43.0 (0)\n",
       " -->\n",
       "<!-- Title: %3 Pages: 1 -->\n",
       "<svg width=\"392pt\" height=\"332pt\"\n",
       " viewBox=\"0.00 0.00 391.99 332.00\" xmlns=\"http://www.w3.org/2000/svg\" xmlns:xlink=\"http://www.w3.org/1999/xlink\">\n",
       "<g id=\"graph0\" class=\"graph\" transform=\"scale(1 1) rotate(0) translate(4 328)\">\n",
       "<title>%3</title>\n",
       "<polygon fill=\"white\" stroke=\"transparent\" points=\"-4,4 -4,-328 387.99,-328 387.99,4 -4,4\"/>\n",
       "<!-- a1 -->\n",
       "<g id=\"node1\" class=\"node\">\n",
       "<title>a1</title>\n",
       "<polygon fill=\"yellow\" stroke=\"yellow\" points=\"244.24,-108 104.24,-108 104.24,-72 244.24,-72 244.24,-108\"/>\n",
       "<text text-anchor=\"middle\" x=\"174.24\" y=\"-86.3\" font-family=\"Times,serif\" font-size=\"14.00\">&quot;pour onto toast&quot;</text>\n",
       "</g>\n",
       "<!-- c4 -->\n",
       "<g id=\"node2\" class=\"node\">\n",
       "<title>c4</title>\n",
       "<ellipse fill=\"gray\" stroke=\"gray\" cx=\"174.24\" cy=\"-18\" rx=\"87.18\" ry=\"18\"/>\n",
       "<text text-anchor=\"middle\" x=\"174.24\" y=\"-14.3\" font-family=\"Times,serif\" font-size=\"14.00\">&quot;beans on toast&quot;</text>\n",
       "</g>\n",
       "<!-- a1&#45;&gt;c4 -->\n",
       "<g id=\"edge1\" class=\"edge\">\n",
       "<title>a1&#45;&gt;c4</title>\n",
       "<path fill=\"none\" stroke=\"black\" d=\"M174.24,-71.7C174.24,-63.98 174.24,-54.71 174.24,-46.11\"/>\n",
       "<polygon fill=\"black\" stroke=\"black\" points=\"177.74,-46.1 174.24,-36.1 170.74,-46.1 177.74,-46.1\"/>\n",
       "</g>\n",
       "<!-- c0 -->\n",
       "<g id=\"node3\" class=\"node\">\n",
       "<title>c0</title>\n",
       "<ellipse fill=\"gray\" stroke=\"gray\" cx=\"81.24\" cy=\"-162\" rx=\"81.49\" ry=\"18\"/>\n",
       "<text text-anchor=\"middle\" x=\"81.24\" y=\"-158.3\" font-family=\"Times,serif\" font-size=\"14.00\">&quot;heated beans&quot;</text>\n",
       "</g>\n",
       "<!-- c0&#45;&gt;a1 -->\n",
       "<g id=\"edge2\" class=\"edge\">\n",
       "<title>c0&#45;&gt;a1</title>\n",
       "<path fill=\"none\" stroke=\"black\" d=\"M103.28,-144.41C115.18,-135.46 130.06,-124.25 143.12,-114.42\"/>\n",
       "<polygon fill=\"black\" stroke=\"black\" points=\"145.51,-117.01 151.39,-108.2 141.3,-111.42 145.51,-117.01\"/>\n",
       "</g>\n",
       "<!-- c3 -->\n",
       "<g id=\"node4\" class=\"node\">\n",
       "<title>c3</title>\n",
       "<ellipse fill=\"gray\" stroke=\"gray\" cx=\"267.24\" cy=\"-162\" rx=\"86.38\" ry=\"18\"/>\n",
       "<text text-anchor=\"middle\" x=\"267.24\" y=\"-158.3\" font-family=\"Times,serif\" font-size=\"14.00\">&quot;buttered toast&quot;</text>\n",
       "</g>\n",
       "<!-- c3&#45;&gt;a1 -->\n",
       "<g id=\"edge3\" class=\"edge\">\n",
       "<title>c3&#45;&gt;a1</title>\n",
       "<path fill=\"none\" stroke=\"black\" d=\"M245.2,-144.41C233.31,-135.46 218.42,-124.25 205.36,-114.42\"/>\n",
       "<polygon fill=\"black\" stroke=\"black\" points=\"207.19,-111.42 197.1,-108.2 202.98,-117.01 207.19,-111.42\"/>\n",
       "</g>\n",
       "<!-- a0 -->\n",
       "<g id=\"node5\" class=\"node\">\n",
       "<title>a0</title>\n",
       "<polygon fill=\"yellow\" stroke=\"yellow\" points=\"337.74,-252 196.74,-252 196.74,-216 337.74,-216 337.74,-252\"/>\n",
       "<text text-anchor=\"middle\" x=\"267.24\" y=\"-230.3\" font-family=\"Times,serif\" font-size=\"14.00\">&quot;spread on toast&quot;</text>\n",
       "</g>\n",
       "<!-- a0&#45;&gt;c3 -->\n",
       "<g id=\"edge4\" class=\"edge\">\n",
       "<title>a0&#45;&gt;c3</title>\n",
       "<path fill=\"none\" stroke=\"black\" d=\"M267.24,-215.7C267.24,-207.98 267.24,-198.71 267.24,-190.11\"/>\n",
       "<polygon fill=\"black\" stroke=\"black\" points=\"270.74,-190.1 267.24,-180.1 263.74,-190.1 270.74,-190.1\"/>\n",
       "</g>\n",
       "<!-- c1 -->\n",
       "<g id=\"node6\" class=\"node\">\n",
       "<title>c1</title>\n",
       "<ellipse fill=\"gray\" stroke=\"gray\" cx=\"199.24\" cy=\"-306\" rx=\"68.79\" ry=\"18\"/>\n",
       "<text text-anchor=\"middle\" x=\"199.24\" y=\"-302.3\" font-family=\"Times,serif\" font-size=\"14.00\">&quot;plain toast&quot;</text>\n",
       "</g>\n",
       "<!-- c1&#45;&gt;a0 -->\n",
       "<g id=\"edge5\" class=\"edge\">\n",
       "<title>c1&#45;&gt;a0</title>\n",
       "<path fill=\"none\" stroke=\"black\" d=\"M215.36,-288.41C223.66,-279.86 233.96,-269.26 243.18,-259.77\"/>\n",
       "<polygon fill=\"black\" stroke=\"black\" points=\"245.84,-262.06 250.29,-252.45 240.82,-257.18 245.84,-262.06\"/>\n",
       "</g>\n",
       "<!-- c2 -->\n",
       "<g id=\"node7\" class=\"node\">\n",
       "<title>c2</title>\n",
       "<ellipse fill=\"gray\" stroke=\"gray\" cx=\"335.24\" cy=\"-306\" rx=\"48.99\" ry=\"18\"/>\n",
       "<text text-anchor=\"middle\" x=\"335.24\" y=\"-302.3\" font-family=\"Times,serif\" font-size=\"14.00\">&quot;butter&quot;</text>\n",
       "</g>\n",
       "<!-- c2&#45;&gt;a0 -->\n",
       "<g id=\"edge6\" class=\"edge\">\n",
       "<title>c2&#45;&gt;a0</title>\n",
       "<path fill=\"none\" stroke=\"black\" d=\"M319.47,-288.76C311.05,-280.1 300.51,-269.25 291.11,-259.57\"/>\n",
       "<polygon fill=\"black\" stroke=\"black\" points=\"293.36,-256.86 283.88,-252.12 288.33,-261.74 293.36,-256.86\"/>\n",
       "</g>\n",
       "</g>\n",
       "</svg>\n"
      ],
      "text/plain": [
       "<graphviz.graphs.Digraph at 0x7f191c14b0d0>"
      ]
     },
     "execution_count": 8,
     "metadata": {},
     "output_type": "execute_result"
    }
   ],
   "source": [
    "dot = builddot(atoms)\n",
    "dot"
   ]
  },
  {
   "cell_type": "code",
   "execution_count": 35,
   "metadata": {},
   "outputs": [],
   "source": [
    "\n",
    "lp_fnames = [\"GraphRecipes.lp\",\"ScratchExample.lp\"]\n",
    "lp_fnames = [\"GraphRecipes.lp\",\"SnacksOnToastExample.lp\"]"
   ]
  },
  {
   "cell_type": "code",
   "execution_count": 36,
   "metadata": {},
   "outputs": [
    {
     "name": "stdout",
     "output_type": "stream",
     "text": [
      "Answer: atomic_recipe_graph(rg2) atomic_recipe_graph(rg3) rg2_arc((a(0),\"spread on toast\"),(c(3),\"buttered toast\")) rg2_arc((c(1),\"plain toast\"),(a(0),\"spread on toast\")) rg2_arc((c(2),\"butter\"),(a(0),\"spread on toast\")) rg3_arc((a(1),\"pour onto toast\"),(c(4),\"beans on toast\")) rg3_arc((c(0),\"heated beans\"),(a(1),\"pour onto toast\")) rg3_arc((c(3),\"buttered toast\"),(a(1),\"pour onto toast\"))\n"
     ]
    }
   ],
   "source": [
    "ctl = clingo.Control()\n",
    "for lp_fname in lp_fnames:\n",
    "    ctl.load(lp_fname)\n",
    "ctl.ground([(\"base\", [])])\n",
    "#answer_sets = []\n",
    "result = ctl.solve(on_model=lambda m: print(\"Answer: {}\".format(m)))"
   ]
  },
  {
   "cell_type": "code",
   "execution_count": 37,
   "metadata": {},
   "outputs": [
    {
     "data": {
      "text/plain": [
       "[[Function('atomic_recipe_graph', [Function('rg2', [], True)], True), Function('atomic_recipe_graph', [Function('rg3', [], True)], True), Function('rg2_arc', [Function('', [Function('a', [Number(0)], True), String('spread on toast')], True), Function('', [Function('c', [Number(3)], True), String('buttered toast')], True)], True), Function('rg2_arc', [Function('', [Function('c', [Number(1)], True), String('plain toast')], True), Function('', [Function('a', [Number(0)], True), String('spread on toast')], True)], True), Function('rg2_arc', [Function('', [Function('c', [Number(2)], True), String('butter')], True), Function('', [Function('a', [Number(0)], True), String('spread on toast')], True)], True), Function('rg3_arc', [Function('', [Function('a', [Number(1)], True), String('pour onto toast')], True), Function('', [Function('c', [Number(4)], True), String('beans on toast')], True)], True), Function('rg3_arc', [Function('', [Function('c', [Number(0)], True), String('heated beans')], True), Function('', [Function('a', [Number(1)], True), String('pour onto toast')], True)], True), Function('rg3_arc', [Function('', [Function('c', [Number(3)], True), String('buttered toast')], True), Function('', [Function('a', [Number(1)], True), String('pour onto toast')], True)], True)]]"
      ]
     },
     "execution_count": 37,
     "metadata": {},
     "output_type": "execute_result"
    }
   ],
   "source": [
    "ctl = clingo.Control()\n",
    "for lp_fname in lp_fnames:\n",
    "    ctl.load(lp_fname)\n",
    "ctl.ground([(\"base\", [])])\n",
    "models = []\n",
    "with ctl.solve(yield_=True) as handle:\n",
    "    for model in handle:\n",
    "        models.append(model.symbols(shown=True))\n",
    "models"
   ]
  },
  {
   "cell_type": "code",
   "execution_count": 41,
   "metadata": {},
   "outputs": [
    {
     "name": "stdout",
     "output_type": "stream",
     "text": [
      "atom.type = SymbolType.Function\n",
      "atom.name = atomic_recipe_graph\n",
      "atom.arguments = [Function('rg2', [], True)]\n",
      "str(atom) = atomic_recipe_graph(rg2)\n",
      "atom.type = SymbolType.Function\n",
      "atom.name = atomic_recipe_graph\n",
      "atom.arguments = [Function('rg3', [], True)]\n",
      "str(atom) = atomic_recipe_graph(rg3)\n",
      "atom.type = SymbolType.Function\n",
      "atom.name = rg2_arc\n",
      "atom.arguments = [Function('', [Function('a', [Number(0)], True), String('spread on toast')], True), Function('', [Function('c', [Number(3)], True), String('buttered toast')], True)]\n",
      "str(atom) = rg2_arc((a(0),\"spread on toast\"),(c(3),\"buttered toast\"))\n",
      "atom.type = SymbolType.Function\n",
      "atom.name = rg2_arc\n",
      "atom.arguments = [Function('', [Function('c', [Number(1)], True), String('plain toast')], True), Function('', [Function('a', [Number(0)], True), String('spread on toast')], True)]\n",
      "str(atom) = rg2_arc((c(1),\"plain toast\"),(a(0),\"spread on toast\"))\n",
      "atom.type = SymbolType.Function\n",
      "atom.name = rg2_arc\n",
      "atom.arguments = [Function('', [Function('c', [Number(2)], True), String('butter')], True), Function('', [Function('a', [Number(0)], True), String('spread on toast')], True)]\n",
      "str(atom) = rg2_arc((c(2),\"butter\"),(a(0),\"spread on toast\"))\n",
      "atom.type = SymbolType.Function\n",
      "atom.name = rg3_arc\n",
      "atom.arguments = [Function('', [Function('a', [Number(1)], True), String('pour onto toast')], True), Function('', [Function('c', [Number(4)], True), String('beans on toast')], True)]\n",
      "str(atom) = rg3_arc((a(1),\"pour onto toast\"),(c(4),\"beans on toast\"))\n",
      "atom.type = SymbolType.Function\n",
      "atom.name = rg3_arc\n",
      "atom.arguments = [Function('', [Function('c', [Number(0)], True), String('heated beans')], True), Function('', [Function('a', [Number(1)], True), String('pour onto toast')], True)]\n",
      "str(atom) = rg3_arc((c(0),\"heated beans\"),(a(1),\"pour onto toast\"))\n",
      "atom.type = SymbolType.Function\n",
      "atom.name = rg3_arc\n",
      "atom.arguments = [Function('', [Function('c', [Number(3)], True), String('buttered toast')], True), Function('', [Function('a', [Number(1)], True), String('pour onto toast')], True)]\n",
      "str(atom) = rg3_arc((c(3),\"buttered toast\"),(a(1),\"pour onto toast\"))\n"
     ]
    }
   ],
   "source": [
    "for atom in models[0]:\n",
    "    print(f\"atom.type = {atom.type}\")\n",
    "    if atom.type == symbol.SymbolType.Function:\n",
    "        print(f\"atom.name = {atom.name}\")\n",
    "        print(f\"atom.arguments = {atom.arguments}\")\n",
    "        print(f\"str(atom) = {str(atom)}\")\n",
    "        #print(f\"atom.negative = {atom.negative}\")\n",
    "        #print(f\"atom.number = {atom.number}\")\n",
    "        #print(f\"atom.positive = {atom.positive}\")\n",
    "        #print(f\"atom.string = {atom.string}\")\n"
   ]
  },
  {
   "cell_type": "code",
   "execution_count": 27,
   "metadata": {},
   "outputs": [
    {
     "name": "stdout",
     "output_type": "stream",
     "text": [
      "Help on Symbol in module clingo.symbol object:\n",
      "\n",
      "class Symbol(builtins.object)\n",
      " |  Symbol(rep)\n",
      " |  \n",
      " |  Represents a gringo symbol.\n",
      " |  \n",
      " |  This includes numbers, strings, functions (including constants with\n",
      " |  `len(arguments) == 0` and tuples with `len(name) == 0`), `#inf` and `#sup`.\n",
      " |  \n",
      " |  Symbol objects implement Python's rich comparison operators and are ordered\n",
      " |  like in gringo. They can also be used as keys in dictionaries. Their string\n",
      " |  representation corresponds to their gringo representation.\n",
      " |  \n",
      " |  Notes\n",
      " |  -----\n",
      " |  Note that this class does not have a constructor. Instead there are the\n",
      " |  functions `Number`, `String`, `Tuple_`, and `Function` to construct symbol\n",
      " |  objects or the preconstructed symbols `Infimum` and `Supremum`.\n",
      " |  \n",
      " |  Methods defined here:\n",
      " |  \n",
      " |  __eq__(self, other: object) -> bool\n",
      " |      Return self==value.\n",
      " |  \n",
      " |  __ge__(self, other, NotImplemented=NotImplemented)\n",
      " |      Return a >= b.  Computed by @total_ordering from (not a < b).\n",
      " |  \n",
      " |  __gt__(self, other, NotImplemented=NotImplemented)\n",
      " |      Return a > b.  Computed by @total_ordering from (not a < b) and (a != b).\n",
      " |  \n",
      " |  __hash__(self) -> int\n",
      " |      Return hash(self).\n",
      " |  \n",
      " |  __init__(self, rep)\n",
      " |      Initialize self.  See help(type(self)) for accurate signature.\n",
      " |  \n",
      " |  __le__(self, other, NotImplemented=NotImplemented)\n",
      " |      Return a <= b.  Computed by @total_ordering from (a < b) or (a == b).\n",
      " |  \n",
      " |  __lt__(self, other: object) -> bool\n",
      " |      Return self<value.\n",
      " |  \n",
      " |  __repr__(self) -> str\n",
      " |      Return repr(self).\n",
      " |  \n",
      " |  __str__(self) -> str\n",
      " |      Return str(self).\n",
      " |  \n",
      " |  match(self, name: str, arity: int, positive: bool = True) -> bool\n",
      " |      Check if this is a function symbol with the given signature.\n",
      " |      \n",
      " |      Parameters\n",
      " |      ----------\n",
      " |      name\n",
      " |          The name of the function.\n",
      " |      \n",
      " |      arity\n",
      " |          The arity of the function.\n",
      " |      \n",
      " |      positive\n",
      " |          Whether to match positive or negative signatures.\n",
      " |      \n",
      " |      Returns\n",
      " |      -------\n",
      " |      Whether the function matches.\n",
      " |  \n",
      " |  ----------------------------------------------------------------------\n",
      " |  Readonly properties defined here:\n",
      " |  \n",
      " |  arguments\n",
      " |      The arguments of a function.\n",
      " |  \n",
      " |  name\n",
      " |      The name of a function.\n",
      " |  \n",
      " |  negative\n",
      " |      The inverted sign of a function.\n",
      " |  \n",
      " |  number\n",
      " |      The value of a number.\n",
      " |  \n",
      " |  positive\n",
      " |      The sign of a function.\n",
      " |  \n",
      " |  string\n",
      " |      The value of a string.\n",
      " |  \n",
      " |  type\n",
      " |      The type of the symbol.\n",
      "\n"
     ]
    }
   ],
   "source": [
    "help(models[0][0])"
   ]
  },
  {
   "cell_type": "code",
   "execution_count": 11,
   "metadata": {},
   "outputs": [
    {
     "ename": "NameError",
     "evalue": "name 'answer_sets' is not defined",
     "output_type": "error",
     "traceback": [
      "\u001b[0;31m---------------------------------------------------------------------------\u001b[0m",
      "\u001b[0;31mNameError\u001b[0m                                 Traceback (most recent call last)",
      "Input \u001b[0;32mIn [11]\u001b[0m, in \u001b[0;36m<cell line: 1>\u001b[0;34m()\u001b[0m\n\u001b[0;32m----> 1\u001b[0m \u001b[43manswer_sets\u001b[49m[\u001b[38;5;241m0\u001b[39m]\u001b[38;5;241m.\u001b[39msymbols(shown\u001b[38;5;241m=\u001b[39m\u001b[38;5;28;01mTrue\u001b[39;00m)\n",
      "\u001b[0;31mNameError\u001b[0m: name 'answer_sets' is not defined"
     ]
    }
   ],
   "source": [
    "answer_sets[0].symbols(shown=True)"
   ]
  },
  {
   "cell_type": "code",
   "execution_count": 12,
   "metadata": {},
   "outputs": [
    {
     "ename": "NameError",
     "evalue": "name 'answer_sets' is not defined",
     "output_type": "error",
     "traceback": [
      "\u001b[0;31m---------------------------------------------------------------------------\u001b[0m",
      "\u001b[0;31mNameError\u001b[0m                                 Traceback (most recent call last)",
      "Input \u001b[0;32mIn [12]\u001b[0m, in \u001b[0;36m<cell line: 1>\u001b[0;34m()\u001b[0m\n\u001b[0;32m----> 1\u001b[0m help(\u001b[43manswer_sets\u001b[49m[\u001b[38;5;241m0\u001b[39m])\n",
      "\u001b[0;31mNameError\u001b[0m: name 'answer_sets' is not defined"
     ]
    }
   ],
   "source": [
    "help(answer_sets[0])"
   ]
  },
  {
   "cell_type": "code",
   "execution_count": null,
   "metadata": {},
   "outputs": [],
   "source": [
    "help(result)"
   ]
  },
  {
   "cell_type": "code",
   "execution_count": null,
   "metadata": {},
   "outputs": [],
   "source": [
    "help(ctl)"
   ]
  },
  {
   "cell_type": "code",
   "execution_count": null,
   "metadata": {},
   "outputs": [],
   "source": [
    "# TO reproduce default clingo do this:\n",
    "class Application:\n",
    "    def __init__(self, name):\n",
    "        self.program_name = name\n",
    "\n",
    "    def main(self, ctl, files):\n",
    "        if len(files) > 0:\n",
    "            for f in files:\n",
    "                ctl.load(f)\n",
    "        else:\n",
    "            ctl.load(\"-\")\n",
    "        ctl.solve()\n",
    "\n",
    "        \n",
    "        \n",
    "clingo.clingo_main(Application(sys.argv[0]), sys.argv[1:])"
   ]
  }
 ],
 "metadata": {
  "kernelspec": {
   "display_name": "Python 3 (ipykernel)",
   "language": "python",
   "name": "python3"
  },
  "language_info": {
   "codemirror_mode": {
    "name": "ipython",
    "version": 3
   },
   "file_extension": ".py",
   "mimetype": "text/x-python",
   "name": "python",
   "nbconvert_exporter": "python",
   "pygments_lexer": "ipython3",
   "version": "3.10.6"
  }
 },
 "nbformat": 4,
 "nbformat_minor": 2
}
