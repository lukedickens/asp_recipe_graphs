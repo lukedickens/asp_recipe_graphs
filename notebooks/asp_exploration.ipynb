{
 "cells": [
  {
   "cell_type": "code",
   "execution_count": 1,
   "metadata": {},
   "outputs": [],
   "source": [
    "import json\n",
    "import re \n",
    "import copy\n",
    "import graphviz\n",
    "import sys\n",
    "import clingo\n",
    "import clingo.symbol as symbol\n",
    "from importlib import reload"
   ]
  },
  {
   "cell_type": "code",
   "execution_count": 2,
   "metadata": {},
   "outputs": [
    {
     "name": "stdout",
     "output_type": "stream",
     "text": [
      "thisdir = /home/luke/git/external/asp_recipe_graphs/notebooks\n",
      "Adding parent directory to python path\n",
      "sys.path =\n",
      "['/home/luke/git/external/asp_recipe_graphs/notebooks', '/home/luke/git/external/asp_recipe_graphs', '/usr/lib/python310.zip', '/usr/lib/python3.10', '/usr/lib/python3.10/lib-dynload', '', '/home/luke/.local/lib/python3.10/site-packages', '/usr/local/lib/python3.10/dist-packages', '/usr/lib/python3/dist-packages', '/usr/lib/python3.10/dist-packages']\n"
     ]
    }
   ],
   "source": [
    "# This is a hack to make the library in the parent folder available for imoprts\n",
    "# A better solution is by np8 here:\n",
    "# https://stackoverflow.com/questions/714063/importing-modules-from-parent-folder\n",
    "import sys\n",
    "import os\n",
    "import inspect\n",
    "\n",
    "thisdir = sys.path[0]\n",
    "print(f\"thisdir = {thisdir}\")\n",
    "parentdir = os.path.dirname(thisdir)\n",
    "#print(f\"parentdir = {parentdir}\")\n",
    "if not parentdir in sys.path:\n",
    "    print(\"Adding parent directory to python path\")\n",
    "    sys.path.insert(1, parentdir)\n",
    "else:\n",
    "    print(\"Skipping adding parent direct to path (there already)\")\n",
    "\n",
    "print(f\"sys.path =\\n{sys.path}\")\n"
   ]
  },
  {
   "cell_type": "code",
   "execution_count": 3,
   "metadata": {},
   "outputs": [],
   "source": [
    "## local modules\n",
    "os.environ[\"GRASP_SRC_DIR\"] = '..'\n",
    "\n",
    "import asp_recipe_graphs.api.modules\n",
    "reload(asp_recipe_graphs.api.modules)\n",
    "\n",
    "from asp_recipe_graphs.api.modules import MODULES\n",
    "from asp_recipe_graphs.api.modules import RE_FIND_TERMS\n",
    "from asp_recipe_graphs.api.modules import RE_IS_DEFINITION\n",
    "from asp_recipe_graphs.api.modules import ASP_MODULE_DEFINES\n",
    "from asp_recipe_graphs.api.modules import ASP_MODULE_USES\n",
    "from asp_recipe_graphs.api.modules import DEPENDENCY_MAP\n",
    "from asp_recipe_graphs.api.modules import ALL_DEFINED\n",
    "from asp_recipe_graphs.api.modules import ALL_USES\n",
    "from asp_recipe_graphs.api.modules import UNDEFINED_TERMS\n",
    "from asp_recipe_graphs.api.modules import get_dependencies\n",
    "from asp_recipe_graphs.api.modules import what_defines\n",
    "from asp_recipe_graphs.api.modules import what_uses\n",
    "\n",
    "import asp_recipe_graphs.api.asp2graph\n",
    "reload(asp_recipe_graphs.api.asp2graph)\n",
    "from asp_recipe_graphs.api.asp2graph import create_dependency_graph\n",
    "\n",
    "import asp_recipe_graphs.api.solver\n",
    "reload(asp_recipe_graphs.api.solver)\n",
    "from asp_recipe_graphs.api.solver import load_and_solve\n"
   ]
  },
  {
   "cell_type": "markdown",
   "metadata": {},
   "source": [
    "## Modules\n",
    "\n",
    "There are a number of asp modules, which define and use terms, and these are subject to change. The python module `asp_recipe_graphs.asp.modules` provides functionality that interrogates these modules and gives information on this. In particular, there is information on which modules define and use which terms, which modules directly depend on other modules, and getting a full dependency chain for a given module or set of modules.\n",
    "\n",
    "Note that this is not precise. There will be errors in this but at the time of writing there were none detected that interfere with the logic of the solver (see below)."
   ]
  },
  {
   "cell_type": "code",
   "execution_count": 4,
   "metadata": {},
   "outputs": [
    {
     "data": {
      "text/plain": [
       "['acceptability.lp',\n",
       " 'recipe_graphs.lp',\n",
       " 'subrecipes.lp',\n",
       " 'in_out_aligned.lp',\n",
       " 'universal_types.lp',\n",
       " 'composition.lp',\n",
       " 'graph_properties.lp',\n",
       " 'atomic_recipes.lp',\n",
       " 'recipe.lp',\n",
       " 'equivalence.lp',\n",
       " 'isomorphisms.lp',\n",
       " 'type_hierarchies.lp',\n",
       " 'granularity.lp']"
      ]
     },
     "execution_count": 4,
     "metadata": {},
     "output_type": "execute_result"
    }
   ],
   "source": [
    "mypath = '../asp_recipe_graphs/asp/domain_independent'\n",
    "\n",
    "onlyfiles = [f for f in os.listdir(mypath) if os.path.isfile(os.path.join(mypath, f))]\n",
    "onlyfiles"
   ]
  },
  {
   "cell_type": "code",
   "execution_count": 5,
   "metadata": {},
   "outputs": [
    {
     "name": "stdout",
     "output_type": "stream",
     "text": [
      "Defines:\n",
      "\tacceptability defines {'acceptable_recipe', 'acceptability_tuple'}\n",
      "\trecipe_graphs defines {'graph', 'recipe_graph', 'high_indexes_allowed', 'given_recipe_graph'}\n",
      "\tsubrecipes defines {'high_indexes_allowed', 'subrecipe_of', 'subrecipe_graph_of', 'strict_subrecipe_graph'}\n",
      "\tin_out_aligned defines {'in_out_aligned'}\n",
      "\tuniversal_types defines {'child'}\n",
      "\tcomposition defines {'composable', 'incompatible_node_types', 'empty_intersection'}\n",
      "\tgraph_properties defines {'connected', 'a_node_index', 'graph', 'has_incoming_arc', 'is_node', 'path', 'c_node_index', 'connected_in', 'has_outgoing_arc', 'cyclic'}\n",
      "\tatomic_recipes defines {'atomic_recipe_graph', 'atomic_recipe'}\n",
      "\trecipe defines {'recipe', 'recipe_graph', 'has_given_type'}\n",
      "\tequivalence defines {'equivalent'}\n",
      "\tisomorphisms defines {'isomorphic'}\n",
      "\ttype_hierarchies defines {'action_or_comestible_type', 'comestible_type', 'subtype', 'same_type_path', 'action_type', 'subtype_or_equal', 'type_of'}\n",
      "\tgranularity defines {'path_or_equal', 'mapped_to_by_g_function', 'not_same_recipe', 'finer_grained', 'more_specific'}\n",
      "\n",
      "Uses\n",
      "\tacceptability uses {'partial_inset', 'exists_lexically_bigger_output_type_than', 'partial_inset_with_size', 'arcs', 'type_of', 'acts', 'input_set', 'c', 'exists_input_type_lexically_inbetween', 'acceptable_action_node', 'partial_outset_with_size', 'exists_output_type_lexically_inbetween', 'partial_outset', 'given_recipe', 's_', 'a', 'recipe', 'output_set', 'exists_lexically_bigger_input_type_than', 'in_partial_outset', 'in', 'in_partial_inset', 'arc'}\n",
      "\trecipe_graphs uses {'a_node_index', 'c_nodes', 'empty', 'out', 'c_node_index', 'arcs', 'acts', 'cyclic', 'is_c_node', 'a_nodes', 'c', 'given_recipe', 'in', 'is_a_node', 'a', 'a_node_properly_connected', 'path', 'is_arc', 'mid', 'connected', 'arc'}\n",
      "\tsubrecipes uses {'recipe', 'recipe_graph', 'arcs', 'type_of', 'in'}\n",
      "\tin_out_aligned uses {'out_types', 'recipe', 'out', 'type_of', 'in_types', 'c', 'in'}\n",
      "\tuniversal_types uses {'numbered_mixture', 'int'}\n",
      "\tcomposition uses {'join_types_match', 'c_nodes', 'nodes', 'composition', 'recipe_graph', 'out', 'set_of', 'type_of', 'acts', 'arcs', 'c', 'same_type_path', 'recipe', 'mid', 'in'}\n",
      "\tgraph_properties uses {'c_nodes', 'nodes', 'empty', 'given_recipe_graph', 'arcs', 'is_c_node', 'c', 'a_nodes', 'in', 'is_a_node', 'a_node_properly_connected', 'is_arc', 'a', 'arc'}\n",
      "\tatomic_recipes uses {'in', 'a_nodes', 'a', 'recipe_graph'}\n",
      "\trecipe uses {'given_recipe', 'action_or_comestible_type', 'comestible_type', 'same_type_path', 'nodes', 'c_nodes', 'a', 'graph', 'action_type', 'a_nodes', 'type_of', 'c', 'in', 'type_function'}\n",
      "\tequivalence uses {'recipe', 'type_of', 'isomorphic', 'c', 'a', 'bijection'}\n",
      "\tisomorphisms uses {'arc', 'c_nodes', 'a', 'recipe_graph', 'a_nodes', 'arcs', 'c', 'in', 'bijection'}\n",
      "\ttype_hierarchies uses {'child'}\n",
      "\tgranularity uses {'nodes', 'g_function', 'recipe_graph', 'out', 'type_of', 'arcs', 'c', 'a_nodes', 'one_path_longer', 'arc', 'number_of_action_nodes', 'path_with_half_length', 'a', 'recipe', 'bijection', 'subtype_or_equal', 'in_out_aligned', 'path', 'isomorphic', 'in'}\n",
      "\n",
      "undefined_terms = {'join_types_match', 'exists_lexically_bigger_output_type_than', 'empty', 'g_function', 'partial_inset_with_size', 'arcs', 'input_set', 'c', 'exists_input_type_lexically_inbetween', 'one_path_longer', 'partial_outset_with_size', 'arc', 'given_recipe', 's_', 'number_of_action_nodes', 'path_with_half_length', 'output_set', 'numbered_mixture', 'exists_lexically_bigger_input_type_than', 'in_types', 'in_partial_outset', 'a', 'in', 'in_partial_inset', 'bijection', 'partial_inset', 'c_nodes', 'nodes', 'composition', 'out', 'set_of', 'acts', 'is_c_node', 'a_nodes', 'acceptable_action_node', 'int', 'partial_outset', 'exists_output_type_lexically_inbetween', 'out_types', 'is_a_node', 'a_node_properly_connected', 'is_arc', 'mid', 'type_function'}\n",
      "\n"
     ]
    }
   ],
   "source": [
    "print(\"Defines:\")\n",
    "for m, defines in ASP_MODULE_DEFINES.items():\n",
    "    print(f\"\\t{m} defines {defines}\")\n",
    "# print(f\"asp_module_defines = {ASP_MODULE_DEFINES}\")\n",
    "print()\n",
    "print(\"Uses\")\n",
    "for m, uses in ASP_MODULE_USES.items():\n",
    "    print(f\"\\t{m} uses {uses}\")\n",
    "print()\n",
    "print(f\"undefined_terms = {UNDEFINED_TERMS}\")\n",
    "print()"
   ]
  },
  {
   "cell_type": "code",
   "execution_count": 16,
   "metadata": {},
   "outputs": [
    {
     "data": {
      "text/plain": [
       "{'given_recipe_graph', 'graph', 'high_indexes_allowed', 'recipe_graph'}"
      ]
     },
     "execution_count": 16,
     "metadata": {},
     "output_type": "execute_result"
    }
   ],
   "source": [
    "ASP_MODULE_DEFINES['recipe_graphs']\n"
   ]
  },
  {
   "cell_type": "code",
   "execution_count": 17,
   "metadata": {},
   "outputs": [
    {
     "data": {
      "text/plain": [
       "{'a',\n",
       " 'a_node_properly_connected',\n",
       " 'a_nodes',\n",
       " 'arc',\n",
       " 'arcs',\n",
       " 'c',\n",
       " 'c_nodes',\n",
       " 'empty',\n",
       " 'given_recipe_graph',\n",
       " 'in',\n",
       " 'is_a_node',\n",
       " 'is_arc',\n",
       " 'is_c_node',\n",
       " 'nodes'}"
      ]
     },
     "execution_count": 17,
     "metadata": {},
     "output_type": "execute_result"
    }
   ],
   "source": [
    "ASP_MODULE_USES['graph_properties']\n"
   ]
  },
  {
   "cell_type": "code",
   "execution_count": 6,
   "metadata": {},
   "outputs": [
    {
     "name": "stdout",
     "output_type": "stream",
     "text": [
      "module: recipe_graphs\n",
      "\tuses {'a_node_index', 'c_nodes', 'empty', 'out', 'c_node_index', 'arcs', 'acts', 'cyclic', 'is_c_node', 'a_nodes', 'c', 'given_recipe', 'in', 'is_a_node', 'a', 'a_node_properly_connected', 'path', 'is_arc', 'mid', 'connected', 'arc'}\n",
      "\tdefines {'graph', 'recipe_graph', 'high_indexes_allowed', 'given_recipe_graph'}\n",
      "module: recipe\n",
      "\tuses {'given_recipe', 'action_or_comestible_type', 'comestible_type', 'same_type_path', 'nodes', 'c_nodes', 'a', 'graph', 'action_type', 'a_nodes', 'type_of', 'c', 'in', 'type_function'}\n",
      "\tdefines {'recipe', 'recipe_graph', 'has_given_type'}\n",
      "recipe uses graph and recipe_graphs defines it\n"
     ]
    }
   ],
   "source": [
    "# probing circular dependency\n",
    "conflicting_modules = ['recipe_graphs', 'recipe']\n",
    "uses = []\n",
    "defines = []\n",
    "for m in conflicting_modules:\n",
    "    print(f\"module: {m}\")\n",
    "    m_uses = ASP_MODULE_USES[m]\n",
    "    uses.append(m_uses)\n",
    "    m_defines = ASP_MODULE_DEFINES[m]\n",
    "    defines.append(m_defines)\n",
    "    print(f\"\\tuses {m_uses}\")\n",
    "    print(f\"\\tdefines {m_defines}\")\n",
    "    \n",
    "for i, m in enumerate(conflicting_modules):\n",
    "    m_uses = uses[i]\n",
    "    for j, m_prime in enumerate(conflicting_modules):\n",
    "        if i == j:\n",
    "            continue\n",
    "        for term in m_uses:\n",
    "            if term in defines[j]:\n",
    "                print(f\"{m} uses {term} and {m_prime} defines it\")"
   ]
  },
  {
   "cell_type": "code",
   "execution_count": 7,
   "metadata": {},
   "outputs": [
    {
     "data": {
      "text/plain": [
       "['acceptability',\n",
       " 'recipe_graphs',\n",
       " 'subrecipes',\n",
       " 'in_out_aligned',\n",
       " 'universal_types',\n",
       " 'composition',\n",
       " 'graph_properties',\n",
       " 'atomic_recipes',\n",
       " 'recipe',\n",
       " 'equivalence',\n",
       " 'isomorphisms',\n",
       " 'type_hierarchies',\n",
       " 'granularity']"
      ]
     },
     "execution_count": 7,
     "metadata": {},
     "output_type": "execute_result"
    }
   ],
   "source": [
    "# MODULES tells us what modules are defined (domain independent)\n",
    "MODULES"
   ]
  },
  {
   "cell_type": "code",
   "execution_count": 8,
   "metadata": {},
   "outputs": [
    {
     "name": "stdout",
     "output_type": "stream",
     "text": [
      "ALL_DEFINED = {'action_or_comestible_type', 'high_indexes_allowed', 'child', 'has_incoming_arc', 'recipe_graph', 'given_recipe_graph', 'is_node', 'not_same_recipe', 'type_of', 'incompatible_node_types', 'mapped_to_by_g_function', 'has_outgoing_arc', 'empty_intersection', 'connected', 'cyclic', 'subrecipe_of', 'acceptability_tuple', 'acceptable_recipe', 'path_or_equal', 'atomic_recipe_graph', 'a_node_index', 'comestible_type', 'strict_subrecipe_graph', 'graph', 'action_type', 'c_node_index', 'connected_in', 'subrecipe_graph_of', 'composable', 'has_given_type', 'equivalent', 'subtype', 'same_type_path', 'recipe', 'subtype_or_equal', 'in_out_aligned', 'path', 'atomic_recipe', 'isomorphic', 'finer_grained', 'more_specific'}\n",
      "\n",
      "ALL_USES = {'join_types_match', 'action_or_comestible_type', 'child', 'exists_lexically_bigger_output_type_than', 'empty', 'g_function', 'partial_inset_with_size', 'recipe_graph', 'given_recipe_graph', 'type_of', 'arcs', 'input_set', 'c', 'exists_input_type_lexically_inbetween', 'one_path_longer', 'partial_outset_with_size', 'type_function', 'given_recipe', 's_', 'number_of_action_nodes', 'path_with_half_length', 'output_set', 'numbered_mixture', 'exists_lexically_bigger_input_type_than', 'in_types', 'in_partial_outset', 'a', 'in', 'cyclic', 'in_partial_inset', 'connected', 'bijection', 'partial_inset', 'a_node_index', 'comestible_type', 'c_nodes', 'nodes', 'composition', 'graph', 'action_type', 'out', 'c_node_index', 'set_of', 'acts', 'is_c_node', 'a_nodes', 'acceptable_action_node', 'int', 'partial_outset', 'exists_output_type_lexically_inbetween', 'out_types', 'is_a_node', 'same_type_path', 'recipe', 'a_node_properly_connected', 'subtype_or_equal', 'in_out_aligned', 'path', 'is_arc', 'isomorphic', 'mid', 'arc'}\n",
      "\n",
      "UNDEFINED_TERMS = {'join_types_match', 'exists_lexically_bigger_output_type_than', 'empty', 'g_function', 'partial_inset_with_size', 'arcs', 'input_set', 'c', 'exists_input_type_lexically_inbetween', 'one_path_longer', 'partial_outset_with_size', 'arc', 'given_recipe', 's_', 'number_of_action_nodes', 'path_with_half_length', 'output_set', 'numbered_mixture', 'exists_lexically_bigger_input_type_than', 'in_types', 'in_partial_outset', 'a', 'in', 'in_partial_inset', 'bijection', 'partial_inset', 'c_nodes', 'nodes', 'composition', 'out', 'set_of', 'acts', 'is_c_node', 'a_nodes', 'acceptable_action_node', 'int', 'partial_outset', 'exists_output_type_lexically_inbetween', 'out_types', 'is_a_node', 'a_node_properly_connected', 'is_arc', 'mid', 'type_function'}\n"
     ]
    }
   ],
   "source": [
    "# all terms that have been defined in at least one module,\n",
    "print(f\"ALL_DEFINED = {ALL_DEFINED}\", end='\\n\\n')\n",
    "# all terms that are used in at least one module\n",
    "print(f\"ALL_USES = {ALL_USES}\", end='\\n\\n')\n",
    "# all terms that are used but not defined\n",
    "print(f\"UNDEFINED_TERMS = {UNDEFINED_TERMS}\")\n"
   ]
  },
  {
   "cell_type": "code",
   "execution_count": 9,
   "metadata": {},
   "outputs": [
    {
     "data": {
      "text/plain": [
       "'recipe_graphs'"
      ]
     },
     "execution_count": 9,
     "metadata": {},
     "output_type": "execute_result"
    }
   ],
   "source": [
    "# what_defines(...) asks what module defines a given term \n",
    "# (if more than one module defines a term it returns the first module detected)\n",
    "what_defines('high_indexes_allowed')"
   ]
  },
  {
   "cell_type": "code",
   "execution_count": 10,
   "metadata": {},
   "outputs": [
    {
     "data": {
      "text/plain": [
       "[]"
      ]
     },
     "execution_count": 10,
     "metadata": {},
     "output_type": "execute_result"
    }
   ],
   "source": [
    "# what_uses(...) asks what modules use a given term.\n",
    "what_uses('high_indexes_allowed')"
   ]
  },
  {
   "cell_type": "code",
   "execution_count": 11,
   "metadata": {
    "scrolled": true
   },
   "outputs": [
    {
     "name": "stdout",
     "output_type": "stream",
     "text": [
      "dependency_map = {'acceptability': {'type_hierarchies', 'recipe'}, 'recipe_graphs': {'graph_properties'}, 'subrecipes': {'type_hierarchies', 'recipe', 'recipe_graphs'}, 'in_out_aligned': {'type_hierarchies', 'recipe'}, 'universal_types': set(), 'composition': {'type_hierarchies', 'recipe', 'recipe_graphs'}, 'graph_properties': {'recipe_graphs'}, 'atomic_recipes': {'recipe', 'recipe_graphs'}, 'recipe': {'type_hierarchies', 'recipe_graphs', 'graph_properties'}, 'equivalence': {'type_hierarchies', 'recipe', 'isomorphisms'}, 'isomorphisms': {'recipe', 'recipe_graphs'}, 'type_hierarchies': {'universal_types'}, 'granularity': {'isomorphisms', 'recipe_graphs', 'type_hierarchies', 'recipe', 'graph_properties', 'in_out_aligned'}}\n"
     ]
    }
   ],
   "source": [
    "# DEPENDENCY_MAP map shows the direct dependencies between modules. \n",
    "print(f\"dependency_map = {DEPENDENCY_MAP}\")"
   ]
  },
  {
   "cell_type": "code",
   "execution_count": 12,
   "metadata": {},
   "outputs": [
    {
     "data": {
      "image/svg+xml": [
       "<?xml version=\"1.0\" encoding=\"UTF-8\" standalone=\"no\"?>\n",
       "<!DOCTYPE svg PUBLIC \"-//W3C//DTD SVG 1.1//EN\"\n",
       " \"http://www.w3.org/Graphics/SVG/1.1/DTD/svg11.dtd\">\n",
       "<!-- Generated by graphviz version 2.43.0 (0)\n",
       " -->\n",
       "<!-- Title: %3 Pages: 1 -->\n",
       "<svg width=\"1152pt\" height=\"332pt\"\n",
       " viewBox=\"0.00 0.00 1151.76 332.00\" xmlns=\"http://www.w3.org/2000/svg\" xmlns:xlink=\"http://www.w3.org/1999/xlink\">\n",
       "<g id=\"graph0\" class=\"graph\" transform=\"scale(1 1) rotate(0) translate(4 328)\">\n",
       "<title>%3</title>\n",
       "<polygon fill=\"white\" stroke=\"transparent\" points=\"-4,4 -4,-328 1147.76,-328 1147.76,4 -4,4\"/>\n",
       "<!-- acceptability -->\n",
       "<g id=\"node1\" class=\"node\">\n",
       "<title>acceptability</title>\n",
       "<ellipse fill=\"none\" stroke=\"black\" cx=\"135.36\" cy=\"-234\" rx=\"70.39\" ry=\"18\"/>\n",
       "<text text-anchor=\"middle\" x=\"135.36\" y=\"-230.3\" font-family=\"Times,serif\" font-size=\"14.00\">acceptability</text>\n",
       "</g>\n",
       "<!-- recipe -->\n",
       "<g id=\"node9\" class=\"node\">\n",
       "<title>recipe</title>\n",
       "<ellipse fill=\"none\" stroke=\"black\" cx=\"573.36\" cy=\"-162\" rx=\"39.79\" ry=\"18\"/>\n",
       "<text text-anchor=\"middle\" x=\"573.36\" y=\"-158.3\" font-family=\"Times,serif\" font-size=\"14.00\">recipe</text>\n",
       "</g>\n",
       "<!-- acceptability&#45;&gt;recipe -->\n",
       "<g id=\"edge2\" class=\"edge\">\n",
       "<title>acceptability&#45;&gt;recipe</title>\n",
       "<path fill=\"none\" stroke=\"black\" d=\"M186.48,-221.64C196.05,-219.65 205.99,-217.69 215.36,-216 325.93,-196.09 456.71,-178.13 525.51,-169.12\"/>\n",
       "<polygon fill=\"black\" stroke=\"black\" points=\"526.14,-172.56 535.6,-167.8 525.24,-165.62 526.14,-172.56\"/>\n",
       "</g>\n",
       "<!-- type_hierarchies -->\n",
       "<g id=\"node12\" class=\"node\">\n",
       "<title>type_hierarchies</title>\n",
       "<ellipse fill=\"none\" stroke=\"black\" cx=\"301.36\" cy=\"-90\" rx=\"87.99\" ry=\"18\"/>\n",
       "<text text-anchor=\"middle\" x=\"301.36\" y=\"-86.3\" font-family=\"Times,serif\" font-size=\"14.00\">type_hierarchies</text>\n",
       "</g>\n",
       "<!-- acceptability&#45;&gt;type_hierarchies -->\n",
       "<g id=\"edge1\" class=\"edge\">\n",
       "<title>acceptability&#45;&gt;type_hierarchies</title>\n",
       "<path fill=\"none\" stroke=\"black\" d=\"M154.72,-216.43C184.26,-191.17 240.65,-142.93 274.24,-114.19\"/>\n",
       "<polygon fill=\"black\" stroke=\"black\" points=\"276.53,-116.84 281.86,-107.68 271.98,-111.52 276.53,-116.84\"/>\n",
       "</g>\n",
       "<!-- recipe_graphs -->\n",
       "<g id=\"node2\" class=\"node\">\n",
       "<title>recipe_graphs</title>\n",
       "<ellipse fill=\"none\" stroke=\"black\" cx=\"788.36\" cy=\"-90\" rx=\"76.09\" ry=\"18\"/>\n",
       "<text text-anchor=\"middle\" x=\"788.36\" y=\"-86.3\" font-family=\"Times,serif\" font-size=\"14.00\">recipe_graphs</text>\n",
       "</g>\n",
       "<!-- graph_properties -->\n",
       "<g id=\"node7\" class=\"node\">\n",
       "<title>graph_properties</title>\n",
       "<ellipse fill=\"none\" stroke=\"black\" cx=\"788.36\" cy=\"-18\" rx=\"90.98\" ry=\"18\"/>\n",
       "<text text-anchor=\"middle\" x=\"788.36\" y=\"-14.3\" font-family=\"Times,serif\" font-size=\"14.00\">graph_properties</text>\n",
       "</g>\n",
       "<!-- recipe_graphs&#45;&gt;graph_properties -->\n",
       "<g id=\"edge3\" class=\"edge\">\n",
       "<title>recipe_graphs&#45;&gt;graph_properties</title>\n",
       "<path fill=\"none\" stroke=\"black\" d=\"M782.44,-71.7C781.64,-63.98 781.42,-54.71 781.76,-46.11\"/>\n",
       "<polygon fill=\"black\" stroke=\"black\" points=\"785.25,-46.32 782.46,-36.1 778.27,-45.84 785.25,-46.32\"/>\n",
       "</g>\n",
       "<!-- subrecipes -->\n",
       "<g id=\"node3\" class=\"node\">\n",
       "<title>subrecipes</title>\n",
       "<ellipse fill=\"none\" stroke=\"black\" cx=\"495.36\" cy=\"-234\" rx=\"61.19\" ry=\"18\"/>\n",
       "<text text-anchor=\"middle\" x=\"495.36\" y=\"-230.3\" font-family=\"Times,serif\" font-size=\"14.00\">subrecipes</text>\n",
       "</g>\n",
       "<!-- subrecipes&#45;&gt;recipe_graphs -->\n",
       "<g id=\"edge6\" class=\"edge\">\n",
       "<title>subrecipes&#45;&gt;recipe_graphs</title>\n",
       "<path fill=\"none\" stroke=\"black\" d=\"M530.8,-219.28C556.49,-209.07 591.93,-194.46 622.36,-180 667.84,-158.38 718.68,-130.56 751.97,-111.82\"/>\n",
       "<polygon fill=\"black\" stroke=\"black\" points=\"753.89,-114.76 760.87,-106.79 750.45,-108.67 753.89,-114.76\"/>\n",
       "</g>\n",
       "<!-- subrecipes&#45;&gt;recipe -->\n",
       "<g id=\"edge5\" class=\"edge\">\n",
       "<title>subrecipes&#45;&gt;recipe</title>\n",
       "<path fill=\"none\" stroke=\"black\" d=\"M513.45,-216.76C523.9,-207.38 537.21,-195.44 548.62,-185.2\"/>\n",
       "<polygon fill=\"black\" stroke=\"black\" points=\"551.06,-187.71 556.17,-178.43 546.39,-182.5 551.06,-187.71\"/>\n",
       "</g>\n",
       "<!-- subrecipes&#45;&gt;type_hierarchies -->\n",
       "<g id=\"edge4\" class=\"edge\">\n",
       "<title>subrecipes&#45;&gt;type_hierarchies</title>\n",
       "<path fill=\"none\" stroke=\"black\" d=\"M473.48,-216.99C439.02,-191.77 371.99,-142.7 332.51,-113.8\"/>\n",
       "<polygon fill=\"black\" stroke=\"black\" points=\"334.19,-110.69 324.05,-107.61 330.05,-116.34 334.19,-110.69\"/>\n",
       "</g>\n",
       "<!-- in_out_aligned -->\n",
       "<g id=\"node4\" class=\"node\">\n",
       "<title>in_out_aligned</title>\n",
       "<ellipse fill=\"none\" stroke=\"black\" cx=\"301.36\" cy=\"-234\" rx=\"77.19\" ry=\"18\"/>\n",
       "<text text-anchor=\"middle\" x=\"301.36\" y=\"-230.3\" font-family=\"Times,serif\" font-size=\"14.00\">in_out_aligned</text>\n",
       "</g>\n",
       "<!-- in_out_aligned&#45;&gt;recipe -->\n",
       "<g id=\"edge8\" class=\"edge\">\n",
       "<title>in_out_aligned&#45;&gt;recipe</title>\n",
       "<path fill=\"none\" stroke=\"black\" d=\"M351.24,-220.16C402.36,-207.01 481.05,-186.76 529.75,-174.22\"/>\n",
       "<polygon fill=\"black\" stroke=\"black\" points=\"530.85,-177.55 539.67,-171.67 529.11,-170.77 530.85,-177.55\"/>\n",
       "</g>\n",
       "<!-- in_out_aligned&#45;&gt;type_hierarchies -->\n",
       "<g id=\"edge7\" class=\"edge\">\n",
       "<title>in_out_aligned&#45;&gt;type_hierarchies</title>\n",
       "<path fill=\"none\" stroke=\"black\" d=\"M301.36,-215.87C301.36,-191.67 301.36,-147.21 301.36,-118.39\"/>\n",
       "<polygon fill=\"black\" stroke=\"black\" points=\"304.86,-118.19 301.36,-108.19 297.86,-118.19 304.86,-118.19\"/>\n",
       "</g>\n",
       "<!-- universal_types -->\n",
       "<g id=\"node5\" class=\"node\">\n",
       "<title>universal_types</title>\n",
       "<ellipse fill=\"none\" stroke=\"black\" cx=\"301.36\" cy=\"-18\" rx=\"83.39\" ry=\"18\"/>\n",
       "<text text-anchor=\"middle\" x=\"301.36\" y=\"-14.3\" font-family=\"Times,serif\" font-size=\"14.00\">universal_types</text>\n",
       "</g>\n",
       "<!-- composition -->\n",
       "<g id=\"node6\" class=\"node\">\n",
       "<title>composition</title>\n",
       "<ellipse fill=\"none\" stroke=\"black\" cx=\"679.36\" cy=\"-234\" rx=\"66.89\" ry=\"18\"/>\n",
       "<text text-anchor=\"middle\" x=\"679.36\" y=\"-230.3\" font-family=\"Times,serif\" font-size=\"14.00\">composition</text>\n",
       "</g>\n",
       "<!-- composition&#45;&gt;recipe_graphs -->\n",
       "<g id=\"edge11\" class=\"edge\">\n",
       "<title>composition&#45;&gt;recipe_graphs</title>\n",
       "<path fill=\"none\" stroke=\"black\" d=\"M692.29,-216.15C711.38,-191.28 747.23,-144.57 769.33,-115.79\"/>\n",
       "<polygon fill=\"black\" stroke=\"black\" points=\"772.13,-117.89 775.44,-107.82 766.58,-113.63 772.13,-117.89\"/>\n",
       "</g>\n",
       "<!-- composition&#45;&gt;recipe -->\n",
       "<g id=\"edge10\" class=\"edge\">\n",
       "<title>composition&#45;&gt;recipe</title>\n",
       "<path fill=\"none\" stroke=\"black\" d=\"M655.3,-217.12C639.94,-206.97 619.91,-193.74 603.49,-182.9\"/>\n",
       "<polygon fill=\"black\" stroke=\"black\" points=\"605.07,-179.75 594.8,-177.16 601.21,-185.59 605.07,-179.75\"/>\n",
       "</g>\n",
       "<!-- composition&#45;&gt;type_hierarchies -->\n",
       "<g id=\"edge9\" class=\"edge\">\n",
       "<title>composition&#45;&gt;type_hierarchies</title>\n",
       "<path fill=\"none\" stroke=\"black\" d=\"M673.34,-215.79C665.19,-195.17 648.56,-161.26 622.36,-144 585.49,-119.72 473.96,-105.33 392.7,-97.81\"/>\n",
       "<polygon fill=\"black\" stroke=\"black\" points=\"392.72,-94.29 382.45,-96.88 392.09,-101.26 392.72,-94.29\"/>\n",
       "</g>\n",
       "<!-- graph_properties&#45;&gt;recipe_graphs -->\n",
       "<g id=\"edge12\" class=\"edge\">\n",
       "<title>graph_properties&#45;&gt;recipe_graphs</title>\n",
       "<path fill=\"none\" stroke=\"black\" d=\"M794.25,-36.1C795.06,-43.79 795.29,-53.05 794.96,-61.67\"/>\n",
       "<polygon fill=\"black\" stroke=\"black\" points=\"791.46,-61.48 794.27,-71.7 798.45,-61.96 791.46,-61.48\"/>\n",
       "</g>\n",
       "<!-- atomic_recipes -->\n",
       "<g id=\"node8\" class=\"node\">\n",
       "<title>atomic_recipes</title>\n",
       "<ellipse fill=\"none\" stroke=\"black\" cx=\"1012.36\" cy=\"-234\" rx=\"79.89\" ry=\"18\"/>\n",
       "<text text-anchor=\"middle\" x=\"1012.36\" y=\"-230.3\" font-family=\"Times,serif\" font-size=\"14.00\">atomic_recipes</text>\n",
       "</g>\n",
       "<!-- atomic_recipes&#45;&gt;recipe_graphs -->\n",
       "<g id=\"edge14\" class=\"edge\">\n",
       "<title>atomic_recipes&#45;&gt;recipe_graphs</title>\n",
       "<path fill=\"none\" stroke=\"black\" d=\"M986.66,-216.71C946.15,-191.03 867.43,-141.12 822.31,-112.52\"/>\n",
       "<polygon fill=\"black\" stroke=\"black\" points=\"824.07,-109.5 813.75,-107.1 820.32,-115.41 824.07,-109.5\"/>\n",
       "</g>\n",
       "<!-- atomic_recipes&#45;&gt;recipe -->\n",
       "<g id=\"edge13\" class=\"edge\">\n",
       "<title>atomic_recipes&#45;&gt;recipe</title>\n",
       "<path fill=\"none\" stroke=\"black\" d=\"M954.01,-221.52C943.8,-219.61 933.28,-217.7 923.36,-216 815.54,-197.55 688.47,-179.14 621.03,-169.63\"/>\n",
       "<polygon fill=\"black\" stroke=\"black\" points=\"621.12,-166.1 610.73,-168.18 620.14,-173.04 621.12,-166.1\"/>\n",
       "</g>\n",
       "<!-- recipe&#45;&gt;recipe_graphs -->\n",
       "<g id=\"edge16\" class=\"edge\">\n",
       "<title>recipe&#45;&gt;recipe_graphs</title>\n",
       "<path fill=\"none\" stroke=\"black\" d=\"M604.62,-150.82C639.01,-139.62 694.86,-121.44 735.97,-108.06\"/>\n",
       "<polygon fill=\"black\" stroke=\"black\" points=\"737.13,-111.36 745.55,-104.94 734.96,-104.7 737.13,-111.36\"/>\n",
       "</g>\n",
       "<!-- recipe&#45;&gt;graph_properties -->\n",
       "<g id=\"edge17\" class=\"edge\">\n",
       "<title>recipe&#45;&gt;graph_properties</title>\n",
       "<path fill=\"none\" stroke=\"black\" d=\"M593.89,-146.54C619.35,-128.7 664.21,-97.59 703.36,-72 719.42,-61.5 737.43,-50.21 752.72,-40.75\"/>\n",
       "<polygon fill=\"black\" stroke=\"black\" points=\"754.7,-43.64 761.37,-35.42 751.02,-37.69 754.7,-43.64\"/>\n",
       "</g>\n",
       "<!-- recipe&#45;&gt;type_hierarchies -->\n",
       "<g id=\"edge15\" class=\"edge\">\n",
       "<title>recipe&#45;&gt;type_hierarchies</title>\n",
       "<path fill=\"none\" stroke=\"black\" d=\"M539.73,-152.35C495.91,-141.07 418.43,-121.13 363.71,-107.05\"/>\n",
       "<polygon fill=\"black\" stroke=\"black\" points=\"364.33,-103.59 353.77,-104.49 362.59,-110.37 364.33,-103.59\"/>\n",
       "</g>\n",
       "<!-- equivalence -->\n",
       "<g id=\"node10\" class=\"node\">\n",
       "<title>equivalence</title>\n",
       "<ellipse fill=\"none\" stroke=\"black\" cx=\"406.36\" cy=\"-306\" rx=\"65.79\" ry=\"18\"/>\n",
       "<text text-anchor=\"middle\" x=\"406.36\" y=\"-302.3\" font-family=\"Times,serif\" font-size=\"14.00\">equivalence</text>\n",
       "</g>\n",
       "<!-- equivalence&#45;&gt;recipe -->\n",
       "<g id=\"edge19\" class=\"edge\">\n",
       "<title>equivalence&#45;&gt;recipe</title>\n",
       "<path fill=\"none\" stroke=\"black\" d=\"M405.35,-287.76C405.16,-268.07 407.88,-235.98 425.36,-216 450.32,-187.45 491.79,-174.28 524.49,-168.2\"/>\n",
       "<polygon fill=\"black\" stroke=\"black\" points=\"525.49,-171.58 534.77,-166.47 524.33,-164.68 525.49,-171.58\"/>\n",
       "</g>\n",
       "<!-- isomorphisms -->\n",
       "<g id=\"node11\" class=\"node\">\n",
       "<title>isomorphisms</title>\n",
       "<ellipse fill=\"none\" stroke=\"black\" cx=\"839.36\" cy=\"-234\" rx=\"75.29\" ry=\"18\"/>\n",
       "<text text-anchor=\"middle\" x=\"839.36\" y=\"-230.3\" font-family=\"Times,serif\" font-size=\"14.00\">isomorphisms</text>\n",
       "</g>\n",
       "<!-- equivalence&#45;&gt;isomorphisms -->\n",
       "<g id=\"edge20\" class=\"edge\">\n",
       "<title>equivalence&#45;&gt;isomorphisms</title>\n",
       "<path fill=\"none\" stroke=\"black\" d=\"M463.62,-297.18C532.88,-287.52 652.92,-270.13 755.36,-252 761.61,-250.89 768.1,-249.68 774.6,-248.44\"/>\n",
       "<polygon fill=\"black\" stroke=\"black\" points=\"775.61,-251.8 784.76,-246.45 774.27,-244.93 775.61,-251.8\"/>\n",
       "</g>\n",
       "<!-- equivalence&#45;&gt;type_hierarchies -->\n",
       "<g id=\"edge18\" class=\"edge\">\n",
       "<title>equivalence&#45;&gt;type_hierarchies</title>\n",
       "<path fill=\"none\" stroke=\"black\" d=\"M340.53,-305.83C242.08,-305.5 63.7,-298.31 23.36,-252 -8.17,-215.81 -7.24,-180.98 23.36,-144 46.57,-115.95 136.08,-102.61 207.35,-96.36\"/>\n",
       "<polygon fill=\"black\" stroke=\"black\" points=\"208.05,-99.81 217.72,-95.48 207.46,-92.83 208.05,-99.81\"/>\n",
       "</g>\n",
       "<!-- isomorphisms&#45;&gt;recipe_graphs -->\n",
       "<g id=\"edge22\" class=\"edge\">\n",
       "<title>isomorphisms&#45;&gt;recipe_graphs</title>\n",
       "<path fill=\"none\" stroke=\"black\" d=\"M833.2,-215.87C824.44,-191.46 808.26,-146.43 797.92,-117.64\"/>\n",
       "<polygon fill=\"black\" stroke=\"black\" points=\"801.2,-116.42 794.53,-108.19 794.62,-118.78 801.2,-116.42\"/>\n",
       "</g>\n",
       "<!-- isomorphisms&#45;&gt;recipe -->\n",
       "<g id=\"edge21\" class=\"edge\">\n",
       "<title>isomorphisms&#45;&gt;recipe</title>\n",
       "<path fill=\"none\" stroke=\"black\" d=\"M790.57,-220.16C740.72,-207.04 664.06,-186.87 616.4,-174.33\"/>\n",
       "<polygon fill=\"black\" stroke=\"black\" points=\"617.25,-170.93 606.69,-171.77 615.47,-177.7 617.25,-170.93\"/>\n",
       "</g>\n",
       "<!-- type_hierarchies&#45;&gt;universal_types -->\n",
       "<g id=\"edge23\" class=\"edge\">\n",
       "<title>type_hierarchies&#45;&gt;universal_types</title>\n",
       "<path fill=\"none\" stroke=\"black\" d=\"M301.36,-71.7C301.36,-63.98 301.36,-54.71 301.36,-46.11\"/>\n",
       "<polygon fill=\"black\" stroke=\"black\" points=\"304.86,-46.1 301.36,-36.1 297.86,-46.1 304.86,-46.1\"/>\n",
       "</g>\n",
       "<!-- granularity -->\n",
       "<g id=\"node13\" class=\"node\">\n",
       "<title>granularity</title>\n",
       "<ellipse fill=\"none\" stroke=\"black\" cx=\"711.36\" cy=\"-306\" rx=\"63.09\" ry=\"18\"/>\n",
       "<text text-anchor=\"middle\" x=\"711.36\" y=\"-302.3\" font-family=\"Times,serif\" font-size=\"14.00\">granularity</text>\n",
       "</g>\n",
       "<!-- granularity&#45;&gt;recipe_graphs -->\n",
       "<g id=\"edge25\" class=\"edge\">\n",
       "<title>granularity&#45;&gt;recipe_graphs</title>\n",
       "<path fill=\"none\" stroke=\"black\" d=\"M772.32,-301.06C876.59,-293.71 1080.06,-276.38 1101.36,-252 1176.07,-166.44 977.25,-120.25 862.74,-101.36\"/>\n",
       "<polygon fill=\"black\" stroke=\"black\" points=\"863.04,-97.86 852.61,-99.73 861.92,-104.77 863.04,-97.86\"/>\n",
       "</g>\n",
       "<!-- granularity&#45;&gt;in_out_aligned -->\n",
       "<g id=\"edge29\" class=\"edge\">\n",
       "<title>granularity&#45;&gt;in_out_aligned</title>\n",
       "<path fill=\"none\" stroke=\"black\" d=\"M658.6,-295.99C585.59,-283.53 453.56,-260.99 372.08,-247.07\"/>\n",
       "<polygon fill=\"black\" stroke=\"black\" points=\"372.35,-243.57 361.91,-245.34 371.18,-250.47 372.35,-243.57\"/>\n",
       "</g>\n",
       "<!-- granularity&#45;&gt;graph_properties -->\n",
       "<g id=\"edge28\" class=\"edge\">\n",
       "<title>granularity&#45;&gt;graph_properties</title>\n",
       "<path fill=\"none\" stroke=\"black\" d=\"M772.72,-301.51C881.89,-294.68 1100.58,-277.89 1123.36,-252 1214.26,-148.65 974.23,-67.97 853.22,-35.07\"/>\n",
       "<polygon fill=\"black\" stroke=\"black\" points=\"853.87,-31.63 843.31,-32.41 852.06,-38.39 853.87,-31.63\"/>\n",
       "</g>\n",
       "<!-- granularity&#45;&gt;recipe -->\n",
       "<g id=\"edge27\" class=\"edge\">\n",
       "<title>granularity&#45;&gt;recipe</title>\n",
       "<path fill=\"none\" stroke=\"black\" d=\"M668.44,-292.79C646.3,-284.52 620.43,-271.47 603.36,-252 588.12,-234.62 580.56,-209.2 576.84,-189.97\"/>\n",
       "<polygon fill=\"black\" stroke=\"black\" points=\"580.28,-189.29 575.15,-180.02 573.38,-190.46 580.28,-189.29\"/>\n",
       "</g>\n",
       "<!-- granularity&#45;&gt;isomorphisms -->\n",
       "<g id=\"edge24\" class=\"edge\">\n",
       "<title>granularity&#45;&gt;isomorphisms</title>\n",
       "<path fill=\"none\" stroke=\"black\" d=\"M739.13,-289.81C757.37,-279.84 781.45,-266.67 801.44,-255.73\"/>\n",
       "<polygon fill=\"black\" stroke=\"black\" points=\"803.21,-258.76 810.3,-250.89 799.85,-252.62 803.21,-258.76\"/>\n",
       "</g>\n",
       "<!-- granularity&#45;&gt;type_hierarchies -->\n",
       "<g id=\"edge26\" class=\"edge\">\n",
       "<title>granularity&#45;&gt;type_hierarchies</title>\n",
       "<path fill=\"none\" stroke=\"black\" d=\"M651.17,-300.4C489.7,-288.01 58.87,-254.73 56.36,-252 -6.4,-183.96 143.67,-131.33 235.84,-106.56\"/>\n",
       "<polygon fill=\"black\" stroke=\"black\" points=\"236.9,-109.91 245.67,-103.97 235.11,-103.14 236.9,-109.91\"/>\n",
       "</g>\n",
       "</g>\n",
       "</svg>\n"
      ],
      "text/plain": [
       "<graphviz.graphs.Digraph at 0x7f9e50767370>"
      ]
     },
     "execution_count": 12,
     "metadata": {},
     "output_type": "execute_result"
    }
   ],
   "source": [
    "# def create_dependency_graph(dependency_map):\n",
    "#     dot = graphviz.Digraph()\n",
    "#     node_ids = {}\n",
    "#     for i,k in enumerate(dependency_map.keys()):\n",
    "#         print(f\"i,k : {i,k}\")\n",
    "#         node_ids[k] = 'n'+str(i)\n",
    "# #         dot.node(i, label=k, style='filled', color='yellow', shape='box')\n",
    "#         dot.node(k, label=k)\n",
    "#     for source, targets in dependency_map.items():\n",
    "# #         sid = node_ids[source]\n",
    "#         for target in targets:\n",
    "# #             tid = node_ids[target]\n",
    "#             dot.edge(source,target)\n",
    "#     return dot\n",
    "# create_dependency_graph creates a graph of the module dependencies\n",
    "create_dependency_graph(DEPENDENCY_MAP)"
   ]
  },
  {
   "cell_type": "code",
   "execution_count": 13,
   "metadata": {
    "scrolled": false
   },
   "outputs": [
    {
     "ename": "KeyboardInterrupt",
     "evalue": "",
     "output_type": "error",
     "traceback": [
      "\u001b[0;31m---------------------------------------------------------------------------\u001b[0m",
      "\u001b[0;31mKeyboardInterrupt\u001b[0m                         Traceback (most recent call last)",
      "Input \u001b[0;32mIn [13]\u001b[0m, in \u001b[0;36m<cell line: 3>\u001b[0;34m()\u001b[0m\n\u001b[1;32m      1\u001b[0m \u001b[38;5;66;03m# get_dependencies(...) resolves the full chain of dependencies for one or more modules.\u001b[39;00m\n\u001b[1;32m      2\u001b[0m specified \u001b[38;5;241m=\u001b[39m [\u001b[38;5;124m'\u001b[39m\u001b[38;5;124macceptability\u001b[39m\u001b[38;5;124m'\u001b[39m]\n\u001b[0;32m----> 3\u001b[0m \u001b[43mget_dependencies\u001b[49m\u001b[43m(\u001b[49m\u001b[43mspecified\u001b[49m\u001b[43m)\u001b[49m\n",
      "File \u001b[0;32m~/git/external/asp_recipe_graphs/asp_recipe_graphs/api/modules.py:121\u001b[0m, in \u001b[0;36mget_dependencies\u001b[0;34m(specified, dependency_map, mode)\u001b[0m\n\u001b[1;32m    117\u001b[0m         \u001b[38;5;28;01mwhile\u001b[39;00m \u001b[38;5;28mlen\u001b[39m(to_load) \u001b[38;5;241m>\u001b[39m \u001b[38;5;241m0\u001b[39m:\n\u001b[1;32m    118\u001b[0m \u001b[38;5;66;03m#            print(f\"to_load = {to_load}\")\u001b[39;00m\n\u001b[1;32m    119\u001b[0m \u001b[38;5;66;03m#            print(f\"specified = {specified}\")\u001b[39;00m\n\u001b[1;32m    120\u001b[0m             loading \u001b[38;5;241m=\u001b[39m to_load\u001b[38;5;241m.\u001b[39mpop(\u001b[38;5;241m0\u001b[39m)\n\u001b[0;32m--> 121\u001b[0m             to_load\u001b[38;5;241m.\u001b[39mextend(\u001b[43mdependency_map\u001b[49m\u001b[38;5;241;43m.\u001b[39;49m\u001b[43mget\u001b[49m\u001b[43m(\u001b[49m\u001b[43mloading\u001b[49m\u001b[43m,\u001b[49m\u001b[43m[\u001b[49m\u001b[43m]\u001b[49m\u001b[43m)\u001b[49m)\n\u001b[1;32m    122\u001b[0m             required\u001b[38;5;241m.\u001b[39madd(loading)\n\u001b[1;32m    123\u001b[0m     \u001b[38;5;28;01melif\u001b[39;00m mode \u001b[38;5;241m==\u001b[39m \u001b[38;5;124m'\u001b[39m\u001b[38;5;124mdirect\u001b[39m\u001b[38;5;124m'\u001b[39m:\n",
      "\u001b[0;31mKeyboardInterrupt\u001b[0m: "
     ]
    }
   ],
   "source": [
    "# get_dependencies(...) resolves the full chain of dependencies for one or more modules.\n",
    "specified = ['acceptability']\n",
    "get_dependencies(specified)\n"
   ]
  },
  {
   "cell_type": "markdown",
   "metadata": {},
   "source": [
    "# Running ASP"
   ]
  },
  {
   "cell_type": "code",
   "execution_count": null,
   "metadata": {},
   "outputs": [],
   "source": [
    "fpaths =[]\n",
    "fpaths.append('../asp_recipe_graphs/asp/recipes/hummus_graph.lp')\n",
    "fpaths.append('../asp_recipe_graphs/asp/recipes/hummus_types.lp')\n",
    "# fpaths.append('../asp_recipe_graphs/asp/recipes/cannellini_hummus_graph.lp')\n",
    "# fpaths.append('../asp_recipe_graphs/asp/recipes/cannellini_hummus_types.lp')\n",
    "# fpaths.append('../asp_recipe_graphs/asp/recipes/edamame_hummus_graph.lp')\n",
    "# fpaths.append('../asp_recipe_graphs/asp/recipes/edamame_hummus_types.lp')\n",
    "# fpaths.append('../asp_recipe_graphs/asp/recipes/baba_ganoush_graph.lp')\n",
    "# fpaths.append('../asp_recipe_graphs/asp/recipes/baba_ganoush_types.lp')\n",
    "#models = load_and_solve('connected', fpaths)    \n",
    "#models = load_and_solve('cyclic', fpaths)    \n",
    "#models = load_and_solve('arcs',fpaths)       \n",
    "#models = load_and_solve('types',fpaths)\n",
    "#models = load_and_solve('arcs and types',fpaths)          \n",
    "# models = load_and_solve('recipe_graph',fpaths[:1], additional_asp=\"\"\"\n",
    "#     -recipe_graph(rg_cannellini_hummus).\n",
    "#     \"\"\")          \n",
    "# models = load_and_solve('recipe_graph',fpaths[:1], additional_asp=\"\"\"\n",
    "#     -recipe_graph(rg_cannellini_hummus).\n",
    "#     \"\"\")          \n",
    "# models = load_and_solve('recipe_graph',fpaths[:1])\n",
    "#models = load_and_solve('explain not recipe_graph',fpaths[:1])          \n",
    "# models = load_and_solve('explain not recipe',fpaths[:1])          \n",
    "# models = load_and_solve('recipes',fpaths)\n",
    "# models = load_and_solve('conflicting types',fpaths)\n",
    "# models = load_and_solve('is recipe',fpaths)\n",
    "models = load_and_solve('untyped nodes',fpaths)          \n",
    "models"
   ]
  },
  {
   "cell_type": "code",
   "execution_count": null,
   "metadata": {
    "scrolled": false
   },
   "outputs": [],
   "source": [
    "models = load_and_solve('untyped nodes', fpaths)\n",
    "\n",
    "facts ={}\n",
    "pold = None\n",
    "for t in models[0].split(') '):    \n",
    "    p = t.split('(')[0]\n",
    "    if p != pold:\n",
    "        print(p+':')\n",
    "        pold = p\n",
    "        facts[p] = []\n",
    "    facts[p].append(t)\n",
    "    print(f\"\\t{t})\")"
   ]
  },
  {
   "cell_type": "code",
   "execution_count": null,
   "metadata": {},
   "outputs": [],
   "source": [
    "print(f\"facts.get('-well_typed_a_node') = {facts.get('-well_typed_a_node')}\", end='\\n\\n')\n",
    "print(f\"facts.get('-well_typed_c_node') = {facts.get('-well_typed_c_node')}\", end='\\n\\n')\n",
    "print(f\"facts.get('type_of') = {facts.get('type_of')}\", end='\\n\\n')\n",
    "print(f\"facts.get('conflicting_types') = {facts.get('conflicting_types')}\", end='\\n\\n')\n",
    "# print(f\"facts['comestible_type'] ={facts['comestible_type']}\", end='\\n\\n')"
   ]
  },
  {
   "cell_type": "code",
   "execution_count": null,
   "metadata": {},
   "outputs": [],
   "source": [
    "raise ValueError('Stop!')"
   ]
  },
  {
   "cell_type": "markdown",
   "metadata": {},
   "source": [
    "## Older code"
   ]
  },
  {
   "cell_type": "code",
   "execution_count": null,
   "metadata": {},
   "outputs": [],
   "source": [
    "\n",
    "lp_fnames = [\"GraphRecipes.lp\",\"ScratchExample.lp\"]\n",
    "lp_fnames = [\"GraphRecipes.lp\",\"SnacksOnToastExample.lp\"]"
   ]
  },
  {
   "cell_type": "code",
   "execution_count": null,
   "metadata": {},
   "outputs": [],
   "source": [
    "ctl = clingo.Control()\n",
    "for lp_fname in lp_fnames:\n",
    "    ctl.load(lp_fname)\n",
    "ctl.ground([(\"base\", [])])\n",
    "#answer_sets = []\n",
    "result = ctl.solve(on_model=lambda m: print(\"Answer: {}\".format(m)))"
   ]
  },
  {
   "cell_type": "code",
   "execution_count": null,
   "metadata": {},
   "outputs": [],
   "source": [
    "ctl = clingo.Control()\n",
    "for lp_fname in lp_fnames:\n",
    "    ctl.load(lp_fname)\n",
    "ctl.ground([(\"base\", [])])\n",
    "models = []\n",
    "with ctl.solve(yield_=True) as handle:\n",
    "    for model in handle:\n",
    "        models.append(model.symbols(shown=True))\n",
    "models"
   ]
  },
  {
   "cell_type": "code",
   "execution_count": null,
   "metadata": {},
   "outputs": [],
   "source": [
    "for atom in models[0]:\n",
    "    print(f\"atom.type = {atom.type}\")\n",
    "    if atom.type == symbol.SymbolType.Function:\n",
    "        print(f\"atom.name = {atom.name}\")\n",
    "        print(f\"atom.arguments = {atom.arguments}\")\n",
    "        print(f\"str(atom) = {str(atom)}\")\n",
    "        #print(f\"atom.negative = {atom.negative}\")\n",
    "        #print(f\"atom.number = {atom.number}\")\n",
    "        #print(f\"atom.positive = {atom.positive}\")\n",
    "        #print(f\"atom.string = {atom.string}\")\n"
   ]
  },
  {
   "cell_type": "markdown",
   "metadata": {},
   "source": []
  }
 ],
 "metadata": {
  "kernelspec": {
   "display_name": "Python 3 (ipykernel)",
   "language": "python",
   "name": "python3"
  },
  "language_info": {
   "codemirror_mode": {
    "name": "ipython",
    "version": 3
   },
   "file_extension": ".py",
   "mimetype": "text/x-python",
   "name": "python",
   "nbconvert_exporter": "python",
   "pygments_lexer": "ipython3",
   "version": "3.10.6"
  }
 },
 "nbformat": 4,
 "nbformat_minor": 2
}
