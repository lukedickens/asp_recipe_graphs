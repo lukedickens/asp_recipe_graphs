{
 "cells": [
  {
   "cell_type": "code",
   "execution_count": 1,
   "metadata": {},
   "outputs": [],
   "source": [
    "import json\n",
    "import re \n",
    "import copy\n",
    "import graphviz\n",
    "import sys\n",
    "import clingo\n",
    "import clingo.symbol as symbol\n",
    "from importlib import reload"
   ]
  },
  {
   "cell_type": "code",
   "execution_count": 2,
   "metadata": {},
   "outputs": [
    {
     "name": "stdout",
     "output_type": "stream",
     "text": [
      "thisdir = /home/luke/git/external/asp_recipe_graphs/notebooks\n",
      "Adding parent directory to python path\n",
      "sys.path =\n",
      "['/home/luke/git/external/asp_recipe_graphs/notebooks', '/home/luke/git/external/asp_recipe_graphs', '/usr/lib/python310.zip', '/usr/lib/python3.10', '/usr/lib/python3.10/lib-dynload', '', '/home/luke/.local/lib/python3.10/site-packages', '/usr/local/lib/python3.10/dist-packages', '/usr/lib/python3/dist-packages', '/usr/lib/python3.10/dist-packages']\n"
     ]
    }
   ],
   "source": [
    "# This is a hack to make the library in the parent folder available for imoprts\n",
    "# A better solution is by np8 here:\n",
    "# https://stackoverflow.com/questions/714063/importing-modules-from-parent-folder\n",
    "import sys\n",
    "import os\n",
    "import inspect\n",
    "\n",
    "thisdir = sys.path[0]\n",
    "print(f\"thisdir = {thisdir}\")\n",
    "parentdir = os.path.dirname(thisdir)\n",
    "#print(f\"parentdir = {parentdir}\")\n",
    "if not parentdir in sys.path:\n",
    "    print(\"Adding parent directory to python path\")\n",
    "    sys.path.insert(1, parentdir)\n",
    "else:\n",
    "    print(\"Skipping adding parent direct to path (there already)\")\n",
    "\n",
    "print(f\"sys.path =\\n{sys.path}\")\n"
   ]
  },
  {
   "cell_type": "code",
   "execution_count": 3,
   "metadata": {},
   "outputs": [],
   "source": [
    "## local modules\n",
    "os.environ[\"GRASP_SRC_DIR\"] = '..'\n",
    "\n",
    "import asp_recipe_graphs.api.modules\n",
    "reload(asp_recipe_graphs.api.modules)\n",
    "\n",
    "from asp_recipe_graphs.api.modules import MODULES\n",
    "from asp_recipe_graphs.api.modules import RE_FIND_TERMS\n",
    "from asp_recipe_graphs.api.modules import RE_IS_DEFINITION\n",
    "from asp_recipe_graphs.api.modules import ASP_MODULE_DEFINES\n",
    "from asp_recipe_graphs.api.modules import ASP_MODULE_USES\n",
    "from asp_recipe_graphs.api.modules import DEPENDENCY_MAP\n",
    "from asp_recipe_graphs.api.modules import ALL_DEFINED\n",
    "from asp_recipe_graphs.api.modules import ALL_USES\n",
    "from asp_recipe_graphs.api.modules import UNDEFINED_TERMS\n",
    "from asp_recipe_graphs.api.modules import get_dependencies\n",
    "from asp_recipe_graphs.api.modules import what_defines\n",
    "from asp_recipe_graphs.api.modules import what_uses\n",
    "\n",
    "import asp_recipe_graphs.api.asp2graph\n",
    "reload(asp_recipe_graphs.api.asp2graph)\n",
    "from asp_recipe_graphs.api.asp2graph import create_dependency_graph\n",
    "\n",
    "import asp_recipe_graphs.api.solver\n",
    "reload(asp_recipe_graphs.api.solver)\n",
    "from asp_recipe_graphs.api.solver import load_and_solve\n"
   ]
  },
  {
   "cell_type": "markdown",
   "metadata": {},
   "source": [
    "## Modules\n",
    "\n",
    "There are a number of asp modules, which define and use terms, and these are subject to change. The python module `asp_recipe_graphs.asp.modules` provides functionality that interrogates these modules and gives information on this. In particular, there is information on which modules define and use which terms, which modules directly depend on other modules, and getting a full dependency chain for a given module or set of modules.\n",
    "\n",
    "Note that this is not precise. There will be errors in this but at the time of writing there were none detected that interfere with the logic of the solver (see below)."
   ]
  },
  {
   "cell_type": "code",
   "execution_count": 4,
   "metadata": {},
   "outputs": [
    {
     "data": {
      "text/plain": [
       "['acceptability.lp',\n",
       " 'recipe_graphs.lp',\n",
       " 'subrecipes.lp',\n",
       " 'in_out_aligned.lp',\n",
       " 'universal_types.lp',\n",
       " 'composition.lp',\n",
       " 'graph_properties.lp',\n",
       " 'atomic_recipes.lp',\n",
       " 'recipe.lp',\n",
       " 'equivalence.lp',\n",
       " 'isomorphisms.lp',\n",
       " 'type_hierarchies.lp',\n",
       " 'granularity.lp']"
      ]
     },
     "execution_count": 4,
     "metadata": {},
     "output_type": "execute_result"
    }
   ],
   "source": [
    "mypath = '../asp_recipe_graphs/asp/domain_independent'\n",
    "\n",
    "onlyfiles = [f for f in os.listdir(mypath) if os.path.isfile(os.path.join(mypath, f))]\n",
    "onlyfiles"
   ]
  },
  {
   "cell_type": "code",
   "execution_count": 5,
   "metadata": {},
   "outputs": [
    {
     "name": "stdout",
     "output_type": "stream",
     "text": [
      "Defines:\n",
      "\tacceptability defines {'acceptability_tuple', 'acceptable_recipe'}\n",
      "\trecipe_graphs defines {'recipe_graph', 'graph', 'high_indexes_allowed', 'given_recipe_graph'}\n",
      "\tsubrecipes defines {'strict_subrecipe_graph', 'subrecipe_graph_of', 'subrecipe_of', 'high_indexes_allowed'}\n",
      "\tin_out_aligned defines {'in_out_aligned'}\n",
      "\tuniversal_types defines {'child'}\n",
      "\tcomposition defines {'empty_intersection', 'composable', 'incompatible_node_types'}\n",
      "\tgraph_properties defines {'has_incoming_arc', 'has_outgoing_arc', 'path', 'connected_in', 'graph', 'cyclic', 'is_node', 'connected'}\n",
      "\tatomic_recipes defines {'atomic_recipe_graph', 'atomic_recipe'}\n",
      "\trecipe defines {'recipe_graph', 'recipe'}\n",
      "\tequivalence defines {'equivalent'}\n",
      "\tisomorphisms defines {'isomorphic'}\n",
      "\ttype_hierarchies defines {'action_or_comestible_type', 'subtype_or_equal', 'same_type_path', 'comestible_type', 'subtype', 'action_type'}\n",
      "\tgranularity defines {'more_specific', 'finer_grained', 'mapped_to_by_g_function', 'path_or_equal', 'not_same_recipe'}\n",
      "\n",
      "Uses\n",
      "\tacceptability uses {'partial_outset_with_size', 'partial_inset_with_size', 's_', 'type_of', 'a', 'exists_lexically_bigger_input_type_than', 'input_set', 'arcs', 'acceptable_action_node', 'recipe', 'partial_outset', 'exists_input_type_lexically_inbetween', 'acts', 'c', 'partial_inset', 'in_partial_inset', 'exists_lexically_bigger_output_type_than', 'in', 'in_partial_outset', 'arc', 'output_set', 'exists_output_type_lexically_inbetween', 'given_recipe'}\n",
      "\trecipe_graphs uses {'is_c_node', 'out', 'mid', 'a', 'a_node_properly_connected', 'connected', 'arcs', 'is_arc', 'a_node_index', 'path', 'acts', 'c', 'a_nodes', 'in', 'cyclic', 'c_nodes', 'arc', 'c_node_index', 'empty', 'is_a_node', 'given_recipe'}\n",
      "\tsubrecipes uses {'recipe', 'recipe_graph', 'in', 'type_of', 'arcs'}\n",
      "\tin_out_aligned uses {'recipe', 'out', 'c', 'in_types', 'out_types', 'in', 'type_of'}\n",
      "\tuniversal_types uses {'int', 'numbered_mixture'}\n",
      "\tcomposition uses {'out', 'recipe_graph', 'same_type_path', 'mid', 'nodes', 'type_of', 'arcs', 'composition', 'recipe', 'join_types_match', 'acts', 'c', 'in', 'c_nodes', 'set_of'}\n",
      "\tgraph_properties uses {'is_c_node', 'nodes', 'a', 'a_node_properly_connected', 'arcs', 'is_arc', 'a_node_index', 'c', 'a_nodes', 'in', 'c_nodes', 'arc', 'c_node_index', 'empty', 'is_a_node'}\n",
      "\tatomic_recipes uses {'a', 'recipe_graph', 'a_nodes', 'in'}\n",
      "\trecipe uses {'c', 'same_type_path', 'graph', 'nodes', 'in', 'a_nodes', 'type_of', 'c_nodes', 'comestible_type', 'a', 'action_type', 'given_recipe', 'type_function'}\n",
      "\tequivalence uses {'recipe', 'bijection', 'c', 'type_of', 'a', 'isomorphic'}\n",
      "\tisomorphisms uses {'bijection', 'recipe_graph', 'c', 'a_nodes', 'in', 'c_nodes', 'arc', 'a', 'arcs'}\n",
      "\ttype_hierarchies uses {'child'}\n",
      "\tgranularity uses {'path_with_half_length', 'out', 'recipe_graph', 'subtype_or_equal', 'nodes', 'g_function', 'type_of', 'a', 'arcs', 'recipe', 'path', 'c', 'one_path_longer', 'bijection', 'a_nodes', 'in', 'in_out_aligned', 'number_of_action_nodes', 'arc', 'isomorphic'}\n",
      "\n",
      "undefined_terms = {'partial_outset_with_size', 's_', 'mid', 'out_types', 'int', 'exists_lexically_bigger_input_type_than', 'composition', 'is_arc', 'partial_outset', 'exists_input_type_lexically_inbetween', 'a_node_index', 'acts', 'in_partial_inset', 'exists_lexically_bigger_output_type_than', 'in_partial_outset', 'a_nodes', 'c_nodes', 'arc', 'number_of_action_nodes', 'is_a_node', 'given_recipe', 'numbered_mixture', 'path_with_half_length', 'is_c_node', 'partial_inset_with_size', 'out', 'in_types', 'nodes', 'g_function', 'type_of', 'a', 'a_node_properly_connected', 'input_set', 'arcs', 'acceptable_action_node', 'type_function', 'join_types_match', 'bijection', 'partial_inset', 'c', 'one_path_longer', 'in', 'output_set', 'c_node_index', 'empty', 'set_of', 'exists_output_type_lexically_inbetween'}\n",
      "\n"
     ]
    }
   ],
   "source": [
    "print(\"Defines:\")\n",
    "for m, defines in ASP_MODULE_DEFINES.items():\n",
    "    print(f\"\\t{m} defines {defines}\")\n",
    "# print(f\"asp_module_defines = {ASP_MODULE_DEFINES}\")\n",
    "print()\n",
    "print(\"Uses\")\n",
    "for m, uses in ASP_MODULE_USES.items():\n",
    "    print(f\"\\t{m} uses {uses}\")\n",
    "print()\n",
    "print(f\"undefined_terms = {UNDEFINED_TERMS}\")\n",
    "print()"
   ]
  },
  {
   "cell_type": "code",
   "execution_count": 6,
   "metadata": {},
   "outputs": [
    {
     "name": "stdout",
     "output_type": "stream",
     "text": [
      "module: recipe_graphs\n",
      "\tuses {'is_c_node', 'out', 'mid', 'a', 'a_node_properly_connected', 'connected', 'arcs', 'is_arc', 'a_node_index', 'path', 'acts', 'c', 'a_nodes', 'in', 'cyclic', 'c_nodes', 'arc', 'c_node_index', 'empty', 'is_a_node', 'given_recipe'}\n",
      "\tdefines {'recipe_graph', 'graph', 'high_indexes_allowed', 'given_recipe_graph'}\n",
      "module: recipe\n",
      "\tuses {'c', 'same_type_path', 'graph', 'nodes', 'in', 'a_nodes', 'type_of', 'c_nodes', 'comestible_type', 'a', 'action_type', 'given_recipe', 'type_function'}\n",
      "\tdefines {'recipe_graph', 'recipe'}\n",
      "recipe uses graph and recipe_graphs defines it\n"
     ]
    }
   ],
   "source": [
    "# probing circular dependency\n",
    "conflicting_modules = ['recipe_graphs', 'recipe']\n",
    "uses = []\n",
    "defines = []\n",
    "for m in conflicting_modules:\n",
    "    print(f\"module: {m}\")\n",
    "    m_uses = ASP_MODULE_USES[m]\n",
    "    uses.append(m_uses)\n",
    "    m_defines = ASP_MODULE_DEFINES[m]\n",
    "    defines.append(m_defines)\n",
    "    print(f\"\\tuses {m_uses}\")\n",
    "    print(f\"\\tdefines {m_defines}\")\n",
    "    \n",
    "for i, m in enumerate(conflicting_modules):\n",
    "    m_uses = uses[i]\n",
    "    for j, m_prime in enumerate(conflicting_modules):\n",
    "        if i == j:\n",
    "            continue\n",
    "        for term in m_uses:\n",
    "            if term in defines[j]:\n",
    "                print(f\"{m} uses {term} and {m_prime} defines it\")"
   ]
  },
  {
   "cell_type": "code",
   "execution_count": 7,
   "metadata": {},
   "outputs": [
    {
     "data": {
      "text/plain": [
       "['acceptability',\n",
       " 'recipe_graphs',\n",
       " 'subrecipes',\n",
       " 'in_out_aligned',\n",
       " 'universal_types',\n",
       " 'composition',\n",
       " 'graph_properties',\n",
       " 'atomic_recipes',\n",
       " 'recipe',\n",
       " 'equivalence',\n",
       " 'isomorphisms',\n",
       " 'type_hierarchies',\n",
       " 'granularity']"
      ]
     },
     "execution_count": 7,
     "metadata": {},
     "output_type": "execute_result"
    }
   ],
   "source": [
    "# MODULES tells us what modules are defined (domain independent)\n",
    "MODULES"
   ]
  },
  {
   "cell_type": "code",
   "execution_count": 8,
   "metadata": {},
   "outputs": [
    {
     "name": "stdout",
     "output_type": "stream",
     "text": [
      "ALL_DEFINED = {'has_incoming_arc', 'more_specific', 'empty_intersection', 'finer_grained', 'given_recipe_graph', 'recipe_graph', 'subtype_or_equal', 'same_type_path', 'path_or_equal', 'connected', 'atomic_recipe_graph', 'action_or_comestible_type', 'path', 'graph', 'subrecipe_of', 'connected_in', 'comestible_type', 'equivalent', 'subtype', 'not_same_recipe', 'recipe', 'acceptable_recipe', 'strict_subrecipe_graph', 'has_outgoing_arc', 'composable', 'incompatible_node_types', 'acceptability_tuple', 'mapped_to_by_g_function', 'child', 'cyclic', 'in_out_aligned', 'subrecipe_graph_of', 'is_node', 'high_indexes_allowed', 'action_type', 'isomorphic', 'atomic_recipe'}\n",
      "\n",
      "ALL_USES = {'partial_outset_with_size', 'recipe_graph', 's_', 'same_type_path', 'mid', 'subtype_or_equal', 'out_types', 'int', 'exists_lexically_bigger_input_type_than', 'connected', 'composition', 'is_arc', 'exists_input_type_lexically_inbetween', 'a_node_index', 'path', 'acts', 'set_of', 'in_partial_inset', 'exists_lexically_bigger_output_type_than', 'in_partial_outset', 'a_nodes', 'graph', 'c_nodes', 'arc', 'number_of_action_nodes', 'is_a_node', 'isomorphic', 'given_recipe', 'numbered_mixture', 'path_with_half_length', 'is_c_node', 'partial_inset_with_size', 'out', 'in_types', 'nodes', 'g_function', 'type_of', 'a', 'comestible_type', 'a_node_properly_connected', 'input_set', 'arcs', 'acceptable_action_node', 'type_function', 'recipe', 'join_types_match', 'bijection', 'partial_inset', 'c', 'one_path_longer', 'child', 'in', 'cyclic', 'in_out_aligned', 'output_set', 'c_node_index', 'empty', 'exists_output_type_lexically_inbetween', 'action_type', 'partial_outset'}\n",
      "\n",
      "UNDEFINED_TERMS = {'partial_outset_with_size', 's_', 'mid', 'out_types', 'int', 'exists_lexically_bigger_input_type_than', 'composition', 'is_arc', 'partial_outset', 'exists_input_type_lexically_inbetween', 'a_node_index', 'acts', 'in_partial_inset', 'exists_lexically_bigger_output_type_than', 'in_partial_outset', 'a_nodes', 'c_nodes', 'arc', 'number_of_action_nodes', 'is_a_node', 'given_recipe', 'numbered_mixture', 'path_with_half_length', 'is_c_node', 'partial_inset_with_size', 'out', 'in_types', 'nodes', 'g_function', 'type_of', 'a', 'a_node_properly_connected', 'input_set', 'arcs', 'acceptable_action_node', 'type_function', 'join_types_match', 'bijection', 'partial_inset', 'c', 'one_path_longer', 'in', 'output_set', 'c_node_index', 'empty', 'set_of', 'exists_output_type_lexically_inbetween'}\n"
     ]
    }
   ],
   "source": [
    "# all terms that have been defined in at least one module,\n",
    "print(f\"ALL_DEFINED = {ALL_DEFINED}\", end='\\n\\n')\n",
    "# all terms that are used in at least one module\n",
    "print(f\"ALL_USES = {ALL_USES}\", end='\\n\\n')\n",
    "# all terms that are used but not defined\n",
    "print(f\"UNDEFINED_TERMS = {UNDEFINED_TERMS}\")\n"
   ]
  },
  {
   "cell_type": "code",
   "execution_count": 9,
   "metadata": {},
   "outputs": [
    {
     "data": {
      "text/plain": [
       "'recipe_graphs'"
      ]
     },
     "execution_count": 9,
     "metadata": {},
     "output_type": "execute_result"
    }
   ],
   "source": [
    "# what_defines(...) asks what module defines a given term \n",
    "# (if more than one module defines a term it returns the first module detected)\n",
    "what_defines('high_indexes_allowed')"
   ]
  },
  {
   "cell_type": "code",
   "execution_count": 10,
   "metadata": {},
   "outputs": [
    {
     "data": {
      "text/plain": [
       "[]"
      ]
     },
     "execution_count": 10,
     "metadata": {},
     "output_type": "execute_result"
    }
   ],
   "source": [
    "# what_uses(...) asks what modules use a given term.\n",
    "what_uses('high_indexes_allowed')"
   ]
  },
  {
   "cell_type": "code",
   "execution_count": 11,
   "metadata": {
    "scrolled": true
   },
   "outputs": [
    {
     "name": "stdout",
     "output_type": "stream",
     "text": [
      "dependency_map = {'acceptability': {'recipe'}, 'recipe_graphs': {'graph_properties'}, 'subrecipes': {'recipe_graphs', 'recipe'}, 'in_out_aligned': {'recipe'}, 'universal_types': set(), 'composition': {'recipe_graphs', 'recipe', 'type_hierarchies'}, 'graph_properties': set(), 'atomic_recipes': {'recipe_graphs', 'recipe'}, 'recipe': {'recipe_graphs', 'type_hierarchies', 'graph_properties'}, 'equivalence': {'recipe', 'isomorphisms'}, 'isomorphisms': {'recipe_graphs', 'recipe'}, 'type_hierarchies': {'universal_types'}, 'granularity': {'recipe_graphs', 'recipe', 'isomorphisms', 'in_out_aligned', 'type_hierarchies', 'graph_properties'}}\n"
     ]
    }
   ],
   "source": [
    "# DEPENDENCY_MAP map shows the direct dependencies between modules. \n",
    "print(f\"dependency_map = {DEPENDENCY_MAP}\")"
   ]
  },
  {
   "cell_type": "code",
   "execution_count": 12,
   "metadata": {},
   "outputs": [
    {
     "data": {
      "image/svg+xml": [
       "<?xml version=\"1.0\" encoding=\"UTF-8\" standalone=\"no\"?>\n",
       "<!DOCTYPE svg PUBLIC \"-//W3C//DTD SVG 1.1//EN\"\n",
       " \"http://www.w3.org/Graphics/SVG/1.1/DTD/svg11.dtd\">\n",
       "<!-- Generated by graphviz version 2.43.0 (0)\n",
       " -->\n",
       "<!-- Title: %3 Pages: 1 -->\n",
       "<svg width=\"1106pt\" height=\"332pt\"\n",
       " viewBox=\"0.00 0.00 1105.74 332.00\" xmlns=\"http://www.w3.org/2000/svg\" xmlns:xlink=\"http://www.w3.org/1999/xlink\">\n",
       "<g id=\"graph0\" class=\"graph\" transform=\"scale(1 1) rotate(0) translate(4 328)\">\n",
       "<title>%3</title>\n",
       "<polygon fill=\"white\" stroke=\"transparent\" points=\"-4,4 -4,-328 1101.74,-328 1101.74,4 -4,4\"/>\n",
       "<!-- acceptability -->\n",
       "<g id=\"node1\" class=\"node\">\n",
       "<title>acceptability</title>\n",
       "<ellipse fill=\"none\" stroke=\"black\" cx=\"282.24\" cy=\"-234\" rx=\"70.39\" ry=\"18\"/>\n",
       "<text text-anchor=\"middle\" x=\"282.24\" y=\"-230.3\" font-family=\"Times,serif\" font-size=\"14.00\">acceptability</text>\n",
       "</g>\n",
       "<!-- recipe -->\n",
       "<g id=\"node9\" class=\"node\">\n",
       "<title>recipe</title>\n",
       "<ellipse fill=\"none\" stroke=\"black\" cx=\"485.24\" cy=\"-162\" rx=\"39.79\" ry=\"18\"/>\n",
       "<text text-anchor=\"middle\" x=\"485.24\" y=\"-158.3\" font-family=\"Times,serif\" font-size=\"14.00\">recipe</text>\n",
       "</g>\n",
       "<!-- acceptability&#45;&gt;recipe -->\n",
       "<g id=\"edge1\" class=\"edge\">\n",
       "<title>acceptability&#45;&gt;recipe</title>\n",
       "<path fill=\"none\" stroke=\"black\" d=\"M322.35,-219.17C357.83,-206.93 409.36,-189.17 444.91,-176.91\"/>\n",
       "<polygon fill=\"black\" stroke=\"black\" points=\"446.18,-180.17 454.49,-173.6 443.9,-173.55 446.18,-180.17\"/>\n",
       "</g>\n",
       "<!-- recipe_graphs -->\n",
       "<g id=\"node2\" class=\"node\">\n",
       "<title>recipe_graphs</title>\n",
       "<ellipse fill=\"none\" stroke=\"black\" cx=\"760.24\" cy=\"-90\" rx=\"76.09\" ry=\"18\"/>\n",
       "<text text-anchor=\"middle\" x=\"760.24\" y=\"-86.3\" font-family=\"Times,serif\" font-size=\"14.00\">recipe_graphs</text>\n",
       "</g>\n",
       "<!-- graph_properties -->\n",
       "<g id=\"node7\" class=\"node\">\n",
       "<title>graph_properties</title>\n",
       "<ellipse fill=\"none\" stroke=\"black\" cx=\"760.24\" cy=\"-18\" rx=\"90.98\" ry=\"18\"/>\n",
       "<text text-anchor=\"middle\" x=\"760.24\" y=\"-14.3\" font-family=\"Times,serif\" font-size=\"14.00\">graph_properties</text>\n",
       "</g>\n",
       "<!-- recipe_graphs&#45;&gt;graph_properties -->\n",
       "<g id=\"edge2\" class=\"edge\">\n",
       "<title>recipe_graphs&#45;&gt;graph_properties</title>\n",
       "<path fill=\"none\" stroke=\"black\" d=\"M760.24,-71.7C760.24,-63.98 760.24,-54.71 760.24,-46.11\"/>\n",
       "<polygon fill=\"black\" stroke=\"black\" points=\"763.74,-46.1 760.24,-36.1 756.74,-46.1 763.74,-46.1\"/>\n",
       "</g>\n",
       "<!-- subrecipes -->\n",
       "<g id=\"node3\" class=\"node\">\n",
       "<title>subrecipes</title>\n",
       "<ellipse fill=\"none\" stroke=\"black\" cx=\"641.24\" cy=\"-234\" rx=\"61.19\" ry=\"18\"/>\n",
       "<text text-anchor=\"middle\" x=\"641.24\" y=\"-230.3\" font-family=\"Times,serif\" font-size=\"14.00\">subrecipes</text>\n",
       "</g>\n",
       "<!-- subrecipes&#45;&gt;recipe_graphs -->\n",
       "<g id=\"edge3\" class=\"edge\">\n",
       "<title>subrecipes&#45;&gt;recipe_graphs</title>\n",
       "<path fill=\"none\" stroke=\"black\" d=\"M655.12,-216.43C675.88,-191.66 715.15,-144.8 739.38,-115.9\"/>\n",
       "<polygon fill=\"black\" stroke=\"black\" points=\"742.34,-117.81 746.08,-107.9 736.97,-113.32 742.34,-117.81\"/>\n",
       "</g>\n",
       "<!-- subrecipes&#45;&gt;recipe -->\n",
       "<g id=\"edge4\" class=\"edge\">\n",
       "<title>subrecipes&#45;&gt;recipe</title>\n",
       "<path fill=\"none\" stroke=\"black\" d=\"M608.92,-218.5C583.48,-207.08 548.04,-191.18 521.62,-179.32\"/>\n",
       "<polygon fill=\"black\" stroke=\"black\" points=\"522.88,-176.05 512.32,-175.15 520.01,-182.44 522.88,-176.05\"/>\n",
       "</g>\n",
       "<!-- in_out_aligned -->\n",
       "<g id=\"node4\" class=\"node\">\n",
       "<title>in_out_aligned</title>\n",
       "<ellipse fill=\"none\" stroke=\"black\" cx=\"485.24\" cy=\"-234\" rx=\"77.19\" ry=\"18\"/>\n",
       "<text text-anchor=\"middle\" x=\"485.24\" y=\"-230.3\" font-family=\"Times,serif\" font-size=\"14.00\">in_out_aligned</text>\n",
       "</g>\n",
       "<!-- in_out_aligned&#45;&gt;recipe -->\n",
       "<g id=\"edge5\" class=\"edge\">\n",
       "<title>in_out_aligned&#45;&gt;recipe</title>\n",
       "<path fill=\"none\" stroke=\"black\" d=\"M485.24,-215.7C485.24,-207.98 485.24,-198.71 485.24,-190.11\"/>\n",
       "<polygon fill=\"black\" stroke=\"black\" points=\"488.74,-190.1 485.24,-180.1 481.74,-190.1 488.74,-190.1\"/>\n",
       "</g>\n",
       "<!-- universal_types -->\n",
       "<g id=\"node5\" class=\"node\">\n",
       "<title>universal_types</title>\n",
       "<ellipse fill=\"none\" stroke=\"black\" cx=\"89.24\" cy=\"-18\" rx=\"83.39\" ry=\"18\"/>\n",
       "<text text-anchor=\"middle\" x=\"89.24\" y=\"-14.3\" font-family=\"Times,serif\" font-size=\"14.00\">universal_types</text>\n",
       "</g>\n",
       "<!-- composition -->\n",
       "<g id=\"node6\" class=\"node\">\n",
       "<title>composition</title>\n",
       "<ellipse fill=\"none\" stroke=\"black\" cx=\"89.24\" cy=\"-234\" rx=\"66.89\" ry=\"18\"/>\n",
       "<text text-anchor=\"middle\" x=\"89.24\" y=\"-230.3\" font-family=\"Times,serif\" font-size=\"14.00\">composition</text>\n",
       "</g>\n",
       "<!-- composition&#45;&gt;recipe_graphs -->\n",
       "<g id=\"edge6\" class=\"edge\">\n",
       "<title>composition&#45;&gt;recipe_graphs</title>\n",
       "<path fill=\"none\" stroke=\"black\" d=\"M133.31,-220.35C198.93,-201.83 326.37,-167.03 436.24,-144 521.36,-126.16 620.12,-110.76 686.01,-101.22\"/>\n",
       "<polygon fill=\"black\" stroke=\"black\" points=\"686.9,-104.63 696.3,-99.75 685.9,-97.7 686.9,-104.63\"/>\n",
       "</g>\n",
       "<!-- composition&#45;&gt;recipe -->\n",
       "<g id=\"edge7\" class=\"edge\">\n",
       "<title>composition&#45;&gt;recipe</title>\n",
       "<path fill=\"none\" stroke=\"black\" d=\"M139.73,-222.08C149.82,-219.99 160.36,-217.87 170.24,-216 265.02,-198.09 376.42,-180.05 438.11,-170.32\"/>\n",
       "<polygon fill=\"black\" stroke=\"black\" points=\"438.96,-173.73 448.3,-168.72 437.88,-166.82 438.96,-173.73\"/>\n",
       "</g>\n",
       "<!-- type_hierarchies -->\n",
       "<g id=\"node12\" class=\"node\">\n",
       "<title>type_hierarchies</title>\n",
       "<ellipse fill=\"none\" stroke=\"black\" cx=\"89.24\" cy=\"-90\" rx=\"87.99\" ry=\"18\"/>\n",
       "<text text-anchor=\"middle\" x=\"89.24\" y=\"-86.3\" font-family=\"Times,serif\" font-size=\"14.00\">type_hierarchies</text>\n",
       "</g>\n",
       "<!-- composition&#45;&gt;type_hierarchies -->\n",
       "<g id=\"edge8\" class=\"edge\">\n",
       "<title>composition&#45;&gt;type_hierarchies</title>\n",
       "<path fill=\"none\" stroke=\"black\" d=\"M89.24,-215.87C89.24,-191.67 89.24,-147.21 89.24,-118.39\"/>\n",
       "<polygon fill=\"black\" stroke=\"black\" points=\"92.74,-118.19 89.24,-108.19 85.74,-118.19 92.74,-118.19\"/>\n",
       "</g>\n",
       "<!-- atomic_recipes -->\n",
       "<g id=\"node8\" class=\"node\">\n",
       "<title>atomic_recipes</title>\n",
       "<ellipse fill=\"none\" stroke=\"black\" cx=\"800.24\" cy=\"-234\" rx=\"79.89\" ry=\"18\"/>\n",
       "<text text-anchor=\"middle\" x=\"800.24\" y=\"-230.3\" font-family=\"Times,serif\" font-size=\"14.00\">atomic_recipes</text>\n",
       "</g>\n",
       "<!-- atomic_recipes&#45;&gt;recipe_graphs -->\n",
       "<g id=\"edge9\" class=\"edge\">\n",
       "<title>atomic_recipes&#45;&gt;recipe_graphs</title>\n",
       "<path fill=\"none\" stroke=\"black\" d=\"M795.42,-215.87C788.57,-191.56 775.96,-146.82 767.85,-118.01\"/>\n",
       "<polygon fill=\"black\" stroke=\"black\" points=\"771.16,-116.87 765.08,-108.19 764.42,-118.76 771.16,-116.87\"/>\n",
       "</g>\n",
       "<!-- atomic_recipes&#45;&gt;recipe -->\n",
       "<g id=\"edge10\" class=\"edge\">\n",
       "<title>atomic_recipes&#45;&gt;recipe</title>\n",
       "<path fill=\"none\" stroke=\"black\" d=\"M745.37,-220.81C684.31,-207.24 586.78,-185.56 530.09,-172.97\"/>\n",
       "<polygon fill=\"black\" stroke=\"black\" points=\"530.52,-169.48 520,-170.73 529.01,-176.31 530.52,-169.48\"/>\n",
       "</g>\n",
       "<!-- recipe&#45;&gt;recipe_graphs -->\n",
       "<g id=\"edge11\" class=\"edge\">\n",
       "<title>recipe&#45;&gt;recipe_graphs</title>\n",
       "<path fill=\"none\" stroke=\"black\" d=\"M518.96,-152.42C564.15,-140.91 645.1,-120.31 700.68,-106.16\"/>\n",
       "<polygon fill=\"black\" stroke=\"black\" points=\"701.57,-109.55 710.4,-103.69 699.85,-102.76 701.57,-109.55\"/>\n",
       "</g>\n",
       "<!-- recipe&#45;&gt;graph_properties -->\n",
       "<g id=\"edge13\" class=\"edge\">\n",
       "<title>recipe&#45;&gt;graph_properties</title>\n",
       "<path fill=\"none\" stroke=\"black\" d=\"M510.62,-147.9C558.48,-123.18 662.43,-69.51 719.94,-39.81\"/>\n",
       "<polygon fill=\"black\" stroke=\"black\" points=\"721.82,-42.78 729.1,-35.08 718.6,-36.56 721.82,-42.78\"/>\n",
       "</g>\n",
       "<!-- recipe&#45;&gt;type_hierarchies -->\n",
       "<g id=\"edge12\" class=\"edge\">\n",
       "<title>recipe&#45;&gt;type_hierarchies</title>\n",
       "<path fill=\"none\" stroke=\"black\" d=\"M449.05,-154.6C384.49,-143.19 248.29,-119.11 163.22,-104.08\"/>\n",
       "<polygon fill=\"black\" stroke=\"black\" points=\"163.82,-100.63 153.36,-102.33 162.6,-107.52 163.82,-100.63\"/>\n",
       "</g>\n",
       "<!-- equivalence -->\n",
       "<g id=\"node10\" class=\"node\">\n",
       "<title>equivalence</title>\n",
       "<ellipse fill=\"none\" stroke=\"black\" cx=\"505.24\" cy=\"-306\" rx=\"65.79\" ry=\"18\"/>\n",
       "<text text-anchor=\"middle\" x=\"505.24\" y=\"-302.3\" font-family=\"Times,serif\" font-size=\"14.00\">equivalence</text>\n",
       "</g>\n",
       "<!-- equivalence&#45;&gt;recipe -->\n",
       "<g id=\"edge14\" class=\"edge\">\n",
       "<title>equivalence&#45;&gt;recipe</title>\n",
       "<path fill=\"none\" stroke=\"black\" d=\"M440.27,-303.04C360.73,-299.1 232.89,-287.31 203.24,-252 192.95,-239.75 193.02,-228.31 203.24,-216 232.19,-181.1 362.57,-169.04 435.48,-164.98\"/>\n",
       "<polygon fill=\"black\" stroke=\"black\" points=\"436,-168.45 445.81,-164.43 435.64,-161.46 436,-168.45\"/>\n",
       "</g>\n",
       "<!-- isomorphisms -->\n",
       "<g id=\"node11\" class=\"node\">\n",
       "<title>isomorphisms</title>\n",
       "<ellipse fill=\"none\" stroke=\"black\" cx=\"973.24\" cy=\"-234\" rx=\"75.29\" ry=\"18\"/>\n",
       "<text text-anchor=\"middle\" x=\"973.24\" y=\"-230.3\" font-family=\"Times,serif\" font-size=\"14.00\">isomorphisms</text>\n",
       "</g>\n",
       "<!-- equivalence&#45;&gt;isomorphisms -->\n",
       "<g id=\"edge15\" class=\"edge\">\n",
       "<title>equivalence&#45;&gt;isomorphisms</title>\n",
       "<path fill=\"none\" stroke=\"black\" d=\"M564.29,-298.01C639.84,-288.81 774.63,-271.49 889.24,-252 895.5,-250.94 902,-249.75 908.5,-248.52\"/>\n",
       "<polygon fill=\"black\" stroke=\"black\" points=\"909.5,-251.89 918.66,-246.56 908.18,-245.02 909.5,-251.89\"/>\n",
       "</g>\n",
       "<!-- isomorphisms&#45;&gt;recipe_graphs -->\n",
       "<g id=\"edge16\" class=\"edge\">\n",
       "<title>isomorphisms&#45;&gt;recipe_graphs</title>\n",
       "<path fill=\"none\" stroke=\"black\" d=\"M948.81,-216.71C910.37,-191.08 835.74,-141.33 792.79,-112.7\"/>\n",
       "<polygon fill=\"black\" stroke=\"black\" points=\"794.65,-109.73 784.39,-107.1 790.77,-115.56 794.65,-109.73\"/>\n",
       "</g>\n",
       "<!-- isomorphisms&#45;&gt;recipe -->\n",
       "<g id=\"edge17\" class=\"edge\">\n",
       "<title>isomorphisms&#45;&gt;recipe</title>\n",
       "<path fill=\"none\" stroke=\"black\" d=\"M918.67,-221.39C908.89,-219.47 898.78,-217.59 889.24,-216 761.45,-194.71 609.74,-176.76 533.74,-168.26\"/>\n",
       "<polygon fill=\"black\" stroke=\"black\" points=\"533.85,-164.75 523.53,-167.13 533.08,-171.71 533.85,-164.75\"/>\n",
       "</g>\n",
       "<!-- type_hierarchies&#45;&gt;universal_types -->\n",
       "<g id=\"edge18\" class=\"edge\">\n",
       "<title>type_hierarchies&#45;&gt;universal_types</title>\n",
       "<path fill=\"none\" stroke=\"black\" d=\"M89.24,-71.7C89.24,-63.98 89.24,-54.71 89.24,-46.11\"/>\n",
       "<polygon fill=\"black\" stroke=\"black\" points=\"92.74,-46.1 89.24,-36.1 85.74,-46.1 92.74,-46.1\"/>\n",
       "</g>\n",
       "<!-- granularity -->\n",
       "<g id=\"node13\" class=\"node\">\n",
       "<title>granularity</title>\n",
       "<ellipse fill=\"none\" stroke=\"black\" cx=\"729.24\" cy=\"-306\" rx=\"63.09\" ry=\"18\"/>\n",
       "<text text-anchor=\"middle\" x=\"729.24\" y=\"-302.3\" font-family=\"Times,serif\" font-size=\"14.00\">granularity</text>\n",
       "</g>\n",
       "<!-- granularity&#45;&gt;recipe_graphs -->\n",
       "<g id=\"edge19\" class=\"edge\">\n",
       "<title>granularity&#45;&gt;recipe_graphs</title>\n",
       "<path fill=\"none\" stroke=\"black\" d=\"M792.05,-304.15C877.57,-301.5 1023.87,-291.2 1057.24,-252 1127.57,-169.39 941.2,-122.11 832.38,-102.23\"/>\n",
       "<polygon fill=\"black\" stroke=\"black\" points=\"832.88,-98.76 822.42,-100.44 831.65,-105.65 832.88,-98.76\"/>\n",
       "</g>\n",
       "<!-- granularity&#45;&gt;in_out_aligned -->\n",
       "<g id=\"edge22\" class=\"edge\">\n",
       "<title>granularity&#45;&gt;in_out_aligned</title>\n",
       "<path fill=\"none\" stroke=\"black\" d=\"M686.46,-292.73C646.31,-281.21 585.98,-263.9 541.86,-251.24\"/>\n",
       "<polygon fill=\"black\" stroke=\"black\" points=\"542.72,-247.85 532.14,-248.45 540.79,-254.58 542.72,-247.85\"/>\n",
       "</g>\n",
       "<!-- granularity&#45;&gt;graph_properties -->\n",
       "<g id=\"edge24\" class=\"edge\">\n",
       "<title>granularity&#45;&gt;graph_properties</title>\n",
       "<path fill=\"none\" stroke=\"black\" d=\"M792.24,-304.85C882.59,-303.14 1042.09,-294.06 1078.24,-252 1164.83,-151.26 937.33,-69.34 822.23,-35.61\"/>\n",
       "<polygon fill=\"black\" stroke=\"black\" points=\"823.04,-32.21 812.46,-32.79 821.09,-38.93 823.04,-32.21\"/>\n",
       "</g>\n",
       "<!-- granularity&#45;&gt;recipe -->\n",
       "<g id=\"edge20\" class=\"edge\">\n",
       "<title>granularity&#45;&gt;recipe</title>\n",
       "<path fill=\"none\" stroke=\"black\" d=\"M672.9,-297.87C580.99,-285.97 408.06,-262.35 399.24,-252 388.86,-239.82 391.44,-229.97 399.24,-216 409.05,-198.43 427.35,-185.96 444.55,-177.55\"/>\n",
       "<polygon fill=\"black\" stroke=\"black\" points=\"446.27,-180.61 453.93,-173.29 443.38,-174.24 446.27,-180.61\"/>\n",
       "</g>\n",
       "<!-- granularity&#45;&gt;isomorphisms -->\n",
       "<g id=\"edge21\" class=\"edge\">\n",
       "<title>granularity&#45;&gt;isomorphisms</title>\n",
       "<path fill=\"none\" stroke=\"black\" d=\"M772.02,-292.73C812.3,-281.17 872.88,-263.79 917.04,-251.12\"/>\n",
       "<polygon fill=\"black\" stroke=\"black\" points=\"918.12,-254.46 926.76,-248.33 916.19,-247.73 918.12,-254.46\"/>\n",
       "</g>\n",
       "<!-- granularity&#45;&gt;type_hierarchies -->\n",
       "<g id=\"edge23\" class=\"edge\">\n",
       "<title>granularity&#45;&gt;type_hierarchies</title>\n",
       "<path fill=\"none\" stroke=\"black\" d=\"M672.71,-297.87C644.89,-294.54 610.84,-290.72 580.24,-288 517.36,-282.42 56.44,-298.03 13.24,-252 -24.62,-211.67 27.6,-149.04 62.45,-115.01\"/>\n",
       "<polygon fill=\"black\" stroke=\"black\" points=\"65.19,-117.23 70.02,-107.8 60.36,-112.16 65.19,-117.23\"/>\n",
       "</g>\n",
       "</g>\n",
       "</svg>\n"
      ],
      "text/plain": [
       "<graphviz.graphs.Digraph at 0x7f632c4e06a0>"
      ]
     },
     "execution_count": 12,
     "metadata": {},
     "output_type": "execute_result"
    }
   ],
   "source": [
    "# def create_dependency_graph(dependency_map):\n",
    "#     dot = graphviz.Digraph()\n",
    "#     node_ids = {}\n",
    "#     for i,k in enumerate(dependency_map.keys()):\n",
    "#         print(f\"i,k : {i,k}\")\n",
    "#         node_ids[k] = 'n'+str(i)\n",
    "# #         dot.node(i, label=k, style='filled', color='yellow', shape='box')\n",
    "#         dot.node(k, label=k)\n",
    "#     for source, targets in dependency_map.items():\n",
    "# #         sid = node_ids[source]\n",
    "#         for target in targets:\n",
    "# #             tid = node_ids[target]\n",
    "#             dot.edge(source,target)\n",
    "#     return dot\n",
    "# create_dependency_graph creates a graph of the module dependencies\n",
    "create_dependency_graph(DEPENDENCY_MAP)"
   ]
  },
  {
   "cell_type": "code",
   "execution_count": 13,
   "metadata": {
    "scrolled": false
   },
   "outputs": [
    {
     "data": {
      "text/plain": [
       "{'acceptability',\n",
       " 'graph_properties',\n",
       " 'recipe',\n",
       " 'recipe_graphs',\n",
       " 'type_hierarchies',\n",
       " 'universal_types'}"
      ]
     },
     "execution_count": 13,
     "metadata": {},
     "output_type": "execute_result"
    }
   ],
   "source": [
    "# get_dependencies(...) resolves the full chain of dependencies for one or more modules.\n",
    "specified = ['acceptability']\n",
    "get_dependencies(specified)\n"
   ]
  },
  {
   "cell_type": "markdown",
   "metadata": {},
   "source": [
    "# Running ASP"
   ]
  },
  {
   "cell_type": "code",
   "execution_count": 14,
   "metadata": {},
   "outputs": [
    {
     "ename": "KeyError",
     "evalue": "'untyped nodes'",
     "output_type": "error",
     "traceback": [
      "\u001b[0;31m---------------------------------------------------------------------------\u001b[0m",
      "\u001b[0;31mKeyError\u001b[0m                                  Traceback (most recent call last)",
      "Input \u001b[0;32mIn [14]\u001b[0m, in \u001b[0;36m<cell line: 27>\u001b[0;34m()\u001b[0m\n\u001b[1;32m      3\u001b[0m fpaths\u001b[38;5;241m.\u001b[39mappend(\u001b[38;5;124m'\u001b[39m\u001b[38;5;124m../asp_recipe_graphs/asp/recipes/hummus_types.lp\u001b[39m\u001b[38;5;124m'\u001b[39m)\n\u001b[1;32m      4\u001b[0m \u001b[38;5;66;03m# fpaths.append('../asp_recipe_graphs/asp/recipes/cannellini_hummus_graph.lp')\u001b[39;00m\n\u001b[1;32m      5\u001b[0m \u001b[38;5;66;03m# fpaths.append('../asp_recipe_graphs/asp/recipes/cannellini_hummus_types.lp')\u001b[39;00m\n\u001b[1;32m      6\u001b[0m \u001b[38;5;66;03m# fpaths.append('../asp_recipe_graphs/asp/recipes/edamame_hummus_graph.lp')\u001b[39;00m\n\u001b[0;32m   (...)\u001b[0m\n\u001b[1;32m     25\u001b[0m \u001b[38;5;66;03m# models = load_and_solve('conflicting types',fpaths)\u001b[39;00m\n\u001b[1;32m     26\u001b[0m \u001b[38;5;66;03m# models = load_and_solve('is recipe',fpaths)\u001b[39;00m\n\u001b[0;32m---> 27\u001b[0m models \u001b[38;5;241m=\u001b[39m \u001b[43mload_and_solve\u001b[49m\u001b[43m(\u001b[49m\u001b[38;5;124;43m'\u001b[39;49m\u001b[38;5;124;43muntyped nodes\u001b[39;49m\u001b[38;5;124;43m'\u001b[39;49m\u001b[43m,\u001b[49m\u001b[43mfpaths\u001b[49m\u001b[43m)\u001b[49m          \n\u001b[1;32m     28\u001b[0m models\n",
      "File \u001b[0;32m~/git/external/asp_recipe_graphs/asp_recipe_graphs/api/solver.py:29\u001b[0m, in \u001b[0;36mload_and_solve\u001b[0;34m(query, domain_files, additional_asp)\u001b[0m\n\u001b[1;32m     27\u001b[0m \u001b[38;5;28;01mdef\u001b[39;00m \u001b[38;5;21mload_and_solve\u001b[39m(query, domain_files, additional_asp\u001b[38;5;241m=\u001b[39m\u001b[38;5;28;01mNone\u001b[39;00m):\n\u001b[1;32m     28\u001b[0m     ctl \u001b[38;5;241m=\u001b[39m clingo\u001b[38;5;241m.\u001b[39mControl()\n\u001b[0;32m---> 29\u001b[0m     query_info \u001b[38;5;241m=\u001b[39m \u001b[43mQUERY_DATA\u001b[49m\u001b[43m[\u001b[49m\u001b[43mquery\u001b[49m\u001b[43m]\u001b[49m\n\u001b[1;32m     30\u001b[0m     parameters \u001b[38;5;241m=\u001b[39m query_info[\u001b[38;5;124m'\u001b[39m\u001b[38;5;124mparameters\u001b[39m\u001b[38;5;124m'\u001b[39m]\n\u001b[1;32m     31\u001b[0m     programme \u001b[38;5;241m=\u001b[39m query_info[\u001b[38;5;124m'\u001b[39m\u001b[38;5;124mprogramme\u001b[39m\u001b[38;5;124m'\u001b[39m]\n",
      "\u001b[0;31mKeyError\u001b[0m: 'untyped nodes'"
     ]
    }
   ],
   "source": [
    "fpaths =[]\n",
    "fpaths.append('../asp_recipe_graphs/asp/recipes/hummus_graph.lp')\n",
    "fpaths.append('../asp_recipe_graphs/asp/recipes/hummus_types.lp')\n",
    "# fpaths.append('../asp_recipe_graphs/asp/recipes/cannellini_hummus_graph.lp')\n",
    "# fpaths.append('../asp_recipe_graphs/asp/recipes/cannellini_hummus_types.lp')\n",
    "# fpaths.append('../asp_recipe_graphs/asp/recipes/edamame_hummus_graph.lp')\n",
    "# fpaths.append('../asp_recipe_graphs/asp/recipes/edamame_hummus_types.lp')\n",
    "# fpaths.append('../asp_recipe_graphs/asp/recipes/baba_ganoush_graph.lp')\n",
    "# fpaths.append('../asp_recipe_graphs/asp/recipes/baba_ganoush_types.lp')\n",
    "#models = load_and_solve('connected', fpaths)    \n",
    "#models = load_and_solve('cyclic', fpaths)    \n",
    "#models = load_and_solve('arcs',fpaths)       \n",
    "#models = load_and_solve('types',fpaths)\n",
    "#models = load_and_solve('arcs and types',fpaths)          \n",
    "# models = load_and_solve('recipe_graph',fpaths[:1], additional_asp=\"\"\"\n",
    "#     -recipe_graph(rg_cannellini_hummus).\n",
    "#     \"\"\")          \n",
    "# models = load_and_solve('recipe_graph',fpaths[:1], additional_asp=\"\"\"\n",
    "#     -recipe_graph(rg_cannellini_hummus).\n",
    "#     \"\"\")          \n",
    "# models = load_and_solve('recipe_graph',fpaths[:1])\n",
    "#models = load_and_solve('explain not recipe_graph',fpaths[:1])          \n",
    "# models = load_and_solve('explain not recipe',fpaths[:1])          \n",
    "# models = load_and_solve('recipes',fpaths)\n",
    "# models = load_and_solve('conflicting types',fpaths)\n",
    "# models = load_and_solve('is recipe',fpaths)\n",
    "models = load_and_solve('untyped nodes',fpaths)          \n",
    "models"
   ]
  },
  {
   "cell_type": "code",
   "execution_count": null,
   "metadata": {
    "scrolled": false
   },
   "outputs": [],
   "source": [
    "models = load_and_solve('untyped nodes', fpaths)\n",
    "\n",
    "facts ={}\n",
    "pold = None\n",
    "for t in models[0].split(') '):    \n",
    "    p = t.split('(')[0]\n",
    "    if p != pold:\n",
    "        print(p+':')\n",
    "        pold = p\n",
    "        facts[p] = []\n",
    "    facts[p].append(t)\n",
    "    print(f\"\\t{t})\")"
   ]
  },
  {
   "cell_type": "code",
   "execution_count": null,
   "metadata": {},
   "outputs": [],
   "source": [
    "print(f\"facts.get('-well_typed_a_node') = {facts.get('-well_typed_a_node')}\", end='\\n\\n')\n",
    "print(f\"facts.get('-well_typed_c_node') = {facts.get('-well_typed_c_node')}\", end='\\n\\n')\n",
    "print(f\"facts.get('type_of') = {facts.get('type_of')}\", end='\\n\\n')\n",
    "print(f\"facts.get('conflicting_types') = {facts.get('conflicting_types')}\", end='\\n\\n')\n",
    "# print(f\"facts['comestible_type'] ={facts['comestible_type']}\", end='\\n\\n')"
   ]
  },
  {
   "cell_type": "code",
   "execution_count": null,
   "metadata": {},
   "outputs": [],
   "source": [
    "raise ValueError('Stop!')"
   ]
  },
  {
   "cell_type": "markdown",
   "metadata": {},
   "source": [
    "## Older code"
   ]
  },
  {
   "cell_type": "code",
   "execution_count": null,
   "metadata": {},
   "outputs": [],
   "source": [
    "\n",
    "lp_fnames = [\"GraphRecipes.lp\",\"ScratchExample.lp\"]\n",
    "lp_fnames = [\"GraphRecipes.lp\",\"SnacksOnToastExample.lp\"]"
   ]
  },
  {
   "cell_type": "code",
   "execution_count": null,
   "metadata": {},
   "outputs": [],
   "source": [
    "ctl = clingo.Control()\n",
    "for lp_fname in lp_fnames:\n",
    "    ctl.load(lp_fname)\n",
    "ctl.ground([(\"base\", [])])\n",
    "#answer_sets = []\n",
    "result = ctl.solve(on_model=lambda m: print(\"Answer: {}\".format(m)))"
   ]
  },
  {
   "cell_type": "code",
   "execution_count": null,
   "metadata": {},
   "outputs": [],
   "source": [
    "ctl = clingo.Control()\n",
    "for lp_fname in lp_fnames:\n",
    "    ctl.load(lp_fname)\n",
    "ctl.ground([(\"base\", [])])\n",
    "models = []\n",
    "with ctl.solve(yield_=True) as handle:\n",
    "    for model in handle:\n",
    "        models.append(model.symbols(shown=True))\n",
    "models"
   ]
  },
  {
   "cell_type": "code",
   "execution_count": null,
   "metadata": {},
   "outputs": [],
   "source": [
    "for atom in models[0]:\n",
    "    print(f\"atom.type = {atom.type}\")\n",
    "    if atom.type == symbol.SymbolType.Function:\n",
    "        print(f\"atom.name = {atom.name}\")\n",
    "        print(f\"atom.arguments = {atom.arguments}\")\n",
    "        print(f\"str(atom) = {str(atom)}\")\n",
    "        #print(f\"atom.negative = {atom.negative}\")\n",
    "        #print(f\"atom.number = {atom.number}\")\n",
    "        #print(f\"atom.positive = {atom.positive}\")\n",
    "        #print(f\"atom.string = {atom.string}\")\n"
   ]
  },
  {
   "cell_type": "markdown",
   "metadata": {},
   "source": []
  }
 ],
 "metadata": {
  "kernelspec": {
   "display_name": "Python 3 (ipykernel)",
   "language": "python",
   "name": "python3"
  },
  "language_info": {
   "codemirror_mode": {
    "name": "ipython",
    "version": 3
   },
   "file_extension": ".py",
   "mimetype": "text/x-python",
   "name": "python",
   "nbconvert_exporter": "python",
   "pygments_lexer": "ipython3",
   "version": "3.10.6"
  }
 },
 "nbformat": 4,
 "nbformat_minor": 2
}
