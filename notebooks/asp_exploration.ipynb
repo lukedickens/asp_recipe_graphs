{
 "cells": [
  {
   "cell_type": "code",
   "execution_count": 1,
   "metadata": {},
   "outputs": [],
   "source": [
    "import json\n",
    "import re \n",
    "import copy\n",
    "import graphviz\n",
    "import sys\n",
    "import clingo\n",
    "import clingo.symbol as symbol\n",
    "from importlib import reload"
   ]
  },
  {
   "cell_type": "code",
   "execution_count": 2,
   "metadata": {},
   "outputs": [
    {
     "name": "stdout",
     "output_type": "stream",
     "text": [
      "thisdir = /home/luke/git/external/asp_recipe_graphs/notebooks\n",
      "Adding parent directory to python path\n",
      "sys.path =\n",
      "['/home/luke/git/external/asp_recipe_graphs/notebooks', '/home/luke/git/external/asp_recipe_graphs', '/usr/lib/python310.zip', '/usr/lib/python3.10', '/usr/lib/python3.10/lib-dynload', '', '/home/luke/.local/lib/python3.10/site-packages', '/usr/local/lib/python3.10/dist-packages', '/usr/lib/python3/dist-packages', '/usr/lib/python3.10/dist-packages']\n"
     ]
    }
   ],
   "source": [
    "# This is a hack to make the library in the parent folder available for imoprts\n",
    "# A better solution is by np8 here:\n",
    "# https://stackoverflow.com/questions/714063/importing-modules-from-parent-folder\n",
    "import sys\n",
    "import os\n",
    "import inspect\n",
    "\n",
    "thisdir = sys.path[0]\n",
    "print(f\"thisdir = {thisdir}\")\n",
    "parentdir = os.path.dirname(thisdir)\n",
    "#print(f\"parentdir = {parentdir}\")\n",
    "if not parentdir in sys.path:\n",
    "    print(\"Adding parent directory to python path\")\n",
    "    sys.path.insert(1, parentdir)\n",
    "else:\n",
    "    print(\"Skipping adding parent direct to path (there already)\")\n",
    "\n",
    "print(f\"sys.path =\\n{sys.path}\")\n"
   ]
  },
  {
   "cell_type": "code",
   "execution_count": 3,
   "metadata": {},
   "outputs": [],
   "source": [
    "## local modules\n",
    "os.environ[\"GRASP_SRC_DIR\"] = '..'\n",
    "\n",
    "import asp_recipe_graphs.api.modules\n",
    "reload(asp_recipe_graphs.api.modules)\n",
    "\n",
    "from asp_recipe_graphs.api.modules import MODULES\n",
    "from asp_recipe_graphs.api.modules import RE_FIND_TERMS\n",
    "from asp_recipe_graphs.api.modules import RE_IS_DEFINITION\n",
    "from asp_recipe_graphs.api.modules import ASP_MODULE_DEFINES\n",
    "from asp_recipe_graphs.api.modules import ASP_MODULE_USES\n",
    "from asp_recipe_graphs.api.modules import DEPENDENCY_MAP\n",
    "from asp_recipe_graphs.api.modules import ALL_DEFINED\n",
    "from asp_recipe_graphs.api.modules import ALL_USES\n",
    "from asp_recipe_graphs.api.modules import UNDEFINED_TERMS\n",
    "from asp_recipe_graphs.api.modules import get_dependencies\n",
    "from asp_recipe_graphs.api.modules import what_defines\n",
    "from asp_recipe_graphs.api.modules import what_uses\n",
    "\n",
    "import asp_recipe_graphs.api.asp2graph\n",
    "reload(asp_recipe_graphs.api.asp2graph)\n",
    "from asp_recipe_graphs.api.asp2graph import create_dependency_graph\n",
    "\n",
    "import asp_recipe_graphs.api.solver\n",
    "reload(asp_recipe_graphs.api.solver)\n",
    "from asp_recipe_graphs.api.solver import load_and_solve\n"
   ]
  },
  {
   "cell_type": "markdown",
   "metadata": {},
   "source": [
    "## Modules\n",
    "\n",
    "There are a number of asp modules, which define and use terms, and these are subject to change. The python module `asp_recipe_graphs.asp.modules` provides functionality that interrogates these modules and gives information on this. In particular, there is information on which modules define and use which terms, which modules directly depend on other modules, and getting a full dependency chain for a given module or set of modules.\n",
    "\n",
    "Note that this is not precise. There will be errors in this but at the time of writing there were none detected that interfere with the logic of the solver (see below)."
   ]
  },
  {
   "cell_type": "code",
   "execution_count": 4,
   "metadata": {},
   "outputs": [
    {
     "data": {
      "text/plain": [
       "['acceptability.lp',\n",
       " 'recipe_graphs.lp',\n",
       " 'subrecipes.lp',\n",
       " 'in_out_aligned.lp',\n",
       " 'universal_types.lp',\n",
       " 'composition.lp',\n",
       " 'graph_properties.lp',\n",
       " 'atomic_recipes.lp',\n",
       " 'recipe.lp',\n",
       " 'equivalence.lp',\n",
       " 'isomorphisms.lp',\n",
       " 'type_hierarchies.lp',\n",
       " 'granularity.lp']"
      ]
     },
     "execution_count": 4,
     "metadata": {},
     "output_type": "execute_result"
    }
   ],
   "source": [
    "mypath = '../asp_recipe_graphs/asp/domain_independent'\n",
    "\n",
    "onlyfiles = [f for f in os.listdir(mypath) if os.path.isfile(os.path.join(mypath, f))]\n",
    "onlyfiles"
   ]
  },
  {
   "cell_type": "code",
   "execution_count": 5,
   "metadata": {},
   "outputs": [
    {
     "name": "stdout",
     "output_type": "stream",
     "text": [
      "Defines:\n",
      "\tacceptability defines {'acceptable_recipe', 'acceptability_tuple'}\n",
      "\trecipe_graphs defines {'high_indexes_allowed', 'graph', 'recipe_graph', 'given_recipe_graph'}\n",
      "\tsubrecipes defines {'subrecipe_graph_of', 'strict_subrecipe_graph', 'high_indexes_allowed', 'subrecipe_of'}\n",
      "\tin_out_aligned defines {'in_out_aligned'}\n",
      "\tuniversal_types defines {'child'}\n",
      "\tcomposition defines {'empty_intersection', 'composable', 'incompatible_node_types'}\n",
      "\tgraph_properties defines {'has_outgoing_arc', 'c_node_index', 'is_node', 'connected_in', 'a_node_index', 'graph', 'cyclic', 'connected', 'has_incoming_arc', 'path'}\n",
      "\tatomic_recipes defines {'atomic_recipe_graph', 'atomic_recipe'}\n",
      "\trecipe defines {'recipe', 'has_given_type', 'recipe_graph'}\n",
      "\tequivalence defines {'equivalent'}\n",
      "\tisomorphisms defines {'isomorphic'}\n",
      "\ttype_hierarchies defines {'subtype', 'same_type_path', 'action_or_comestible_type', 'comestible_type', 'subtype_or_equal', 'action_type', 'type_of'}\n",
      "\tgranularity defines {'mapped_to_by_g_function', 'more_specific', 'path_or_equal', 'finer_grained', 'not_same_recipe'}\n",
      "\n",
      "Uses\n",
      "\tacceptability uses {'exists_lexically_bigger_input_type_than', 'in_partial_inset', 'acts', 'type_of', 'arcs', 'input_set', 's_', 'arc', 'a', 'acceptable_action_node', 'given_recipe', 'partial_inset', 'partial_inset_with_size', 'output_set', 'c', 'in', 'exists_lexically_bigger_output_type_than', 'partial_outset_with_size', 'in_partial_outset', 'exists_output_type_lexically_inbetween', 'partial_outset', 'recipe', 'exists_input_type_lexically_inbetween'}\n",
      "\trecipe_graphs uses {'a_nodes', 'acts', 'arcs', 'a_node_index', 'cyclic', 'connected', 'arc', 'a', 'is_a_node', 'out', 'is_c_node', 'given_recipe', 'a_node_properly_connected', 'empty', 'c', 'c_node_index', 'is_arc', 'in', 'mid', 'path', 'c_nodes'}\n",
      "\tsubrecipes uses {'recipe_graph', 'arcs', 'in', 'recipe', 'type_of'}\n",
      "\tin_out_aligned uses {'out_types', 'c', 'in', 'in_types', 'out', 'recipe', 'type_of'}\n",
      "\tuniversal_types uses {'numbered_mixture', 'int'}\n",
      "\tcomposition uses {'acts', 'type_of', 'arcs', 'nodes', 'composition', 'out', 'recipe_graph', 'same_type_path', 'c', 'in', 'mid', 'join_types_match', 'recipe', 'set_of', 'c_nodes'}\n",
      "\tgraph_properties uses {'a_nodes', 'arcs', 'nodes', 'arc', 'a', 'is_a_node', 'is_c_node', 'a_node_properly_connected', 'empty', 'c', 'is_arc', 'in', 'c_nodes'}\n",
      "\tatomic_recipes uses {'a_nodes', 'a', 'recipe_graph', 'in'}\n",
      "\trecipe uses {'a_nodes', 'type_function', 'same_type_path', 'c', 'given_recipe', 'action_or_comestible_type', 'nodes', 'in', 'c_nodes', 'graph', 'comestible_type', 'a', 'action_type', 'type_of'}\n",
      "\tequivalence uses {'bijection', 'c', 'a', 'isomorphic', 'recipe', 'type_of'}\n",
      "\tisomorphisms uses {'a_nodes', 'bijection', 'c', 'arcs', 'in', 'arc', 'a', 'recipe_graph', 'c_nodes'}\n",
      "\ttype_hierarchies uses {'child'}\n",
      "\tgranularity uses {'a_nodes', 'g_function', 'arcs', 'nodes', 'path_with_half_length', 'arc', 'a', 'out', 'isomorphic', 'recipe_graph', 'subtype_or_equal', 'bijection', 'c', 'one_path_longer', 'in', 'in_out_aligned', 'path', 'number_of_action_nodes', 'recipe', 'type_of'}\n",
      "\n",
      "undefined_terms = {'a_nodes', 'type_function', 'in_partial_inset', 'g_function', 'nodes', 's_', 'composition', 'path_with_half_length', 'out', 'is_c_node', 'given_recipe', 'partial_outset', 'empty', 'out_types', 'c', 'numbered_mixture', 'one_path_longer', 'in', 'mid', 'partial_outset_with_size', 'exists_lexically_bigger_output_type_than', 'in_types', 'c_nodes', 'exists_lexically_bigger_input_type_than', 'int', 'acts', 'arcs', 'input_set', 'arc', 'a', 'is_a_node', 'acceptable_action_node', 'partial_inset', 'a_node_properly_connected', 'partial_inset_with_size', 'output_set', 'bijection', 'is_arc', 'in_partial_outset', 'exists_output_type_lexically_inbetween', 'join_types_match', 'number_of_action_nodes', 'set_of', 'exists_input_type_lexically_inbetween'}\n",
      "\n"
     ]
    }
   ],
   "source": [
    "print(\"Defines:\")\n",
    "for m, defines in ASP_MODULE_DEFINES.items():\n",
    "    print(f\"\\t{m} defines {defines}\")\n",
    "# print(f\"asp_module_defines = {ASP_MODULE_DEFINES}\")\n",
    "print()\n",
    "print(\"Uses\")\n",
    "for m, uses in ASP_MODULE_USES.items():\n",
    "    print(f\"\\t{m} uses {uses}\")\n",
    "print()\n",
    "print(f\"undefined_terms = {UNDEFINED_TERMS}\")\n",
    "print()"
   ]
  },
  {
   "cell_type": "code",
   "execution_count": 6,
   "metadata": {},
   "outputs": [
    {
     "data": {
      "text/plain": [
       "{'given_recipe_graph', 'graph', 'high_indexes_allowed', 'recipe_graph'}"
      ]
     },
     "execution_count": 6,
     "metadata": {},
     "output_type": "execute_result"
    }
   ],
   "source": [
    "ASP_MODULE_DEFINES['recipe_graphs']\n"
   ]
  },
  {
   "cell_type": "code",
   "execution_count": 7,
   "metadata": {},
   "outputs": [
    {
     "data": {
      "text/plain": [
       "{'a',\n",
       " 'a_node_properly_connected',\n",
       " 'a_nodes',\n",
       " 'arc',\n",
       " 'arcs',\n",
       " 'c',\n",
       " 'c_nodes',\n",
       " 'empty',\n",
       " 'in',\n",
       " 'is_a_node',\n",
       " 'is_arc',\n",
       " 'is_c_node',\n",
       " 'nodes'}"
      ]
     },
     "execution_count": 7,
     "metadata": {},
     "output_type": "execute_result"
    }
   ],
   "source": [
    "ASP_MODULE_USES['graph_properties']\n"
   ]
  },
  {
   "cell_type": "code",
   "execution_count": 8,
   "metadata": {},
   "outputs": [
    {
     "name": "stdout",
     "output_type": "stream",
     "text": [
      "module: recipe_graphs\n",
      "\tuses {'a_nodes', 'acts', 'arcs', 'a_node_index', 'cyclic', 'connected', 'arc', 'a', 'is_a_node', 'out', 'is_c_node', 'given_recipe', 'a_node_properly_connected', 'empty', 'c', 'c_node_index', 'is_arc', 'in', 'mid', 'path', 'c_nodes'}\n",
      "\tdefines {'high_indexes_allowed', 'graph', 'recipe_graph', 'given_recipe_graph'}\n",
      "module: recipe\n",
      "\tuses {'a_nodes', 'type_function', 'same_type_path', 'c', 'given_recipe', 'action_or_comestible_type', 'nodes', 'in', 'c_nodes', 'graph', 'comestible_type', 'a', 'action_type', 'type_of'}\n",
      "\tdefines {'recipe', 'has_given_type', 'recipe_graph'}\n",
      "recipe uses graph and recipe_graphs defines it\n"
     ]
    }
   ],
   "source": [
    "# probing circular dependency\n",
    "conflicting_modules = ['recipe_graphs', 'recipe']\n",
    "uses = []\n",
    "defines = []\n",
    "for m in conflicting_modules:\n",
    "    print(f\"module: {m}\")\n",
    "    m_uses = ASP_MODULE_USES[m]\n",
    "    uses.append(m_uses)\n",
    "    m_defines = ASP_MODULE_DEFINES[m]\n",
    "    defines.append(m_defines)\n",
    "    print(f\"\\tuses {m_uses}\")\n",
    "    print(f\"\\tdefines {m_defines}\")\n",
    "    \n",
    "for i, m in enumerate(conflicting_modules):\n",
    "    m_uses = uses[i]\n",
    "    for j, m_prime in enumerate(conflicting_modules):\n",
    "        if i == j:\n",
    "            continue\n",
    "        for term in m_uses:\n",
    "            if term in defines[j]:\n",
    "                print(f\"{m} uses {term} and {m_prime} defines it\")"
   ]
  },
  {
   "cell_type": "code",
   "execution_count": 9,
   "metadata": {},
   "outputs": [
    {
     "data": {
      "text/plain": [
       "['acceptability',\n",
       " 'recipe_graphs',\n",
       " 'subrecipes',\n",
       " 'in_out_aligned',\n",
       " 'universal_types',\n",
       " 'composition',\n",
       " 'graph_properties',\n",
       " 'atomic_recipes',\n",
       " 'recipe',\n",
       " 'equivalence',\n",
       " 'isomorphisms',\n",
       " 'type_hierarchies',\n",
       " 'granularity']"
      ]
     },
     "execution_count": 9,
     "metadata": {},
     "output_type": "execute_result"
    }
   ],
   "source": [
    "# MODULES tells us what modules are defined (domain independent)\n",
    "MODULES"
   ]
  },
  {
   "cell_type": "code",
   "execution_count": 10,
   "metadata": {},
   "outputs": [
    {
     "name": "stdout",
     "output_type": "stream",
     "text": [
      "ALL_DEFINED = {'mapped_to_by_g_function', 'a_node_index', 'cyclic', 'finer_grained', 'connected', 'has_incoming_arc', 'subtype_or_equal', 'equivalent', 'isomorphic', 'action_type', 'acceptable_recipe', 'c_node_index', 'is_node', 'composable', 'strict_subrecipe_graph', 'given_recipe_graph', 'in_out_aligned', 'path', 'subrecipe_of', 'has_given_type', 'has_outgoing_arc', 'action_or_comestible_type', 'atomic_recipe_graph', 'connected_in', 'empty_intersection', 'comestible_type', 'recipe_graph', 'subtype', 'same_type_path', 'incompatible_node_types', 'more_specific', 'atomic_recipe', 'graph', 'child', 'high_indexes_allowed', 'acceptability_tuple', 'path_or_equal', 'subrecipe_graph_of', 'recipe', 'type_of', 'not_same_recipe'}\n",
      "\n",
      "ALL_USES = {'a_nodes', 'type_function', 'in_partial_inset', 'number_of_action_nodes', 'g_function', 'nodes', 'a_node_index', 'cyclic', 's_', 'composition', 'connected', 'path_with_half_length', 'subtype_or_equal', 'out', 'action_type', 'is_c_node', 'isomorphic', 'given_recipe', 'exists_input_type_lexically_inbetween', 'empty', 'out_types', 'c', 'c_node_index', 'numbered_mixture', 'one_path_longer', 'in', 'mid', 'partial_outset_with_size', 'in_out_aligned', 'path', 'exists_lexically_bigger_output_type_than', 'in_types', 'c_nodes', 'exists_lexically_bigger_input_type_than', 'int', 'acts', 'action_or_comestible_type', 'arcs', 'input_set', 'comestible_type', 'arc', 'a', 'is_a_node', 'recipe_graph', 'acceptable_action_node', 'partial_inset', 'a_node_properly_connected', 'partial_inset_with_size', 'output_set', 'same_type_path', 'bijection', 'is_arc', 'graph', 'in_partial_outset', 'child', 'exists_output_type_lexically_inbetween', 'join_types_match', 'partial_outset', 'recipe', 'set_of', 'type_of'}\n",
      "\n",
      "UNDEFINED_TERMS = {'a_nodes', 'type_function', 'in_partial_inset', 'g_function', 'nodes', 's_', 'composition', 'path_with_half_length', 'out', 'is_c_node', 'given_recipe', 'partial_outset', 'empty', 'out_types', 'c', 'numbered_mixture', 'one_path_longer', 'in', 'mid', 'partial_outset_with_size', 'exists_lexically_bigger_output_type_than', 'in_types', 'c_nodes', 'exists_lexically_bigger_input_type_than', 'int', 'acts', 'arcs', 'input_set', 'arc', 'a', 'is_a_node', 'acceptable_action_node', 'partial_inset', 'a_node_properly_connected', 'partial_inset_with_size', 'output_set', 'bijection', 'is_arc', 'in_partial_outset', 'exists_output_type_lexically_inbetween', 'join_types_match', 'number_of_action_nodes', 'set_of', 'exists_input_type_lexically_inbetween'}\n"
     ]
    }
   ],
   "source": [
    "# all terms that have been defined in at least one module,\n",
    "print(f\"ALL_DEFINED = {ALL_DEFINED}\", end='\\n\\n')\n",
    "# all terms that are used in at least one module\n",
    "print(f\"ALL_USES = {ALL_USES}\", end='\\n\\n')\n",
    "# all terms that are used but not defined\n",
    "print(f\"UNDEFINED_TERMS = {UNDEFINED_TERMS}\")\n"
   ]
  },
  {
   "cell_type": "code",
   "execution_count": 17,
   "metadata": {},
   "outputs": [
    {
     "data": {
      "text/plain": [
       "'recipe'"
      ]
     },
     "execution_count": 17,
     "metadata": {},
     "output_type": "execute_result"
    }
   ],
   "source": [
    "# what_defines(...) asks what module defines a given term \n",
    "# (if more than one module defines a term it returns the first module detected)\n",
    "what_defines('recipe')"
   ]
  },
  {
   "cell_type": "code",
   "execution_count": 18,
   "metadata": {},
   "outputs": [
    {
     "data": {
      "text/plain": [
       "['acceptability', 'recipe_graphs', 'recipe']"
      ]
     },
     "execution_count": 18,
     "metadata": {},
     "output_type": "execute_result"
    }
   ],
   "source": [
    "# what_uses(...) asks what modules use a given term.\n",
    "what_uses('given_recipe')"
   ]
  },
  {
   "cell_type": "code",
   "execution_count": 13,
   "metadata": {
    "scrolled": true
   },
   "outputs": [
    {
     "name": "stdout",
     "output_type": "stream",
     "text": [
      "dependency_map = {'acceptability': {'type_hierarchies', 'recipe'}, 'recipe_graphs': {'graph_properties'}, 'subrecipes': {'type_hierarchies', 'recipe', 'recipe_graphs'}, 'in_out_aligned': {'type_hierarchies', 'recipe'}, 'universal_types': set(), 'composition': {'type_hierarchies', 'recipe', 'recipe_graphs'}, 'graph_properties': set(), 'atomic_recipes': {'recipe', 'recipe_graphs'}, 'recipe': {'graph_properties', 'type_hierarchies', 'recipe_graphs'}, 'equivalence': {'type_hierarchies', 'recipe', 'isomorphisms'}, 'isomorphisms': {'recipe', 'recipe_graphs'}, 'type_hierarchies': {'universal_types'}, 'granularity': {'graph_properties', 'isomorphisms', 'type_hierarchies', 'in_out_aligned', 'recipe', 'recipe_graphs'}}\n"
     ]
    }
   ],
   "source": [
    "# DEPENDENCY_MAP map shows the direct dependencies between modules. \n",
    "print(f\"dependency_map = {DEPENDENCY_MAP}\")"
   ]
  },
  {
   "cell_type": "code",
   "execution_count": 14,
   "metadata": {},
   "outputs": [
    {
     "data": {
      "image/svg+xml": [
       "<?xml version=\"1.0\" encoding=\"UTF-8\" standalone=\"no\"?>\n",
       "<!DOCTYPE svg PUBLIC \"-//W3C//DTD SVG 1.1//EN\"\n",
       " \"http://www.w3.org/Graphics/SVG/1.1/DTD/svg11.dtd\">\n",
       "<!-- Generated by graphviz version 2.43.0 (0)\n",
       " -->\n",
       "<!-- Title: %3 Pages: 1 -->\n",
       "<svg width=\"1152pt\" height=\"332pt\"\n",
       " viewBox=\"0.00 0.00 1152.41 332.00\" xmlns=\"http://www.w3.org/2000/svg\" xmlns:xlink=\"http://www.w3.org/1999/xlink\">\n",
       "<g id=\"graph0\" class=\"graph\" transform=\"scale(1 1) rotate(0) translate(4 328)\">\n",
       "<title>%3</title>\n",
       "<polygon fill=\"white\" stroke=\"transparent\" points=\"-4,4 -4,-328 1148.41,-328 1148.41,4 -4,4\"/>\n",
       "<!-- acceptability -->\n",
       "<g id=\"node1\" class=\"node\">\n",
       "<title>acceptability</title>\n",
       "<ellipse fill=\"none\" stroke=\"black\" cx=\"135.36\" cy=\"-234\" rx=\"70.39\" ry=\"18\"/>\n",
       "<text text-anchor=\"middle\" x=\"135.36\" y=\"-230.3\" font-family=\"Times,serif\" font-size=\"14.00\">acceptability</text>\n",
       "</g>\n",
       "<!-- recipe -->\n",
       "<g id=\"node9\" class=\"node\">\n",
       "<title>recipe</title>\n",
       "<ellipse fill=\"none\" stroke=\"black\" cx=\"573.36\" cy=\"-162\" rx=\"39.79\" ry=\"18\"/>\n",
       "<text text-anchor=\"middle\" x=\"573.36\" y=\"-158.3\" font-family=\"Times,serif\" font-size=\"14.00\">recipe</text>\n",
       "</g>\n",
       "<!-- acceptability&#45;&gt;recipe -->\n",
       "<g id=\"edge2\" class=\"edge\">\n",
       "<title>acceptability&#45;&gt;recipe</title>\n",
       "<path fill=\"none\" stroke=\"black\" d=\"M186.48,-221.64C196.05,-219.65 205.99,-217.69 215.36,-216 325.93,-196.09 456.71,-178.13 525.51,-169.12\"/>\n",
       "<polygon fill=\"black\" stroke=\"black\" points=\"526.14,-172.56 535.6,-167.8 525.24,-165.62 526.14,-172.56\"/>\n",
       "</g>\n",
       "<!-- type_hierarchies -->\n",
       "<g id=\"node12\" class=\"node\">\n",
       "<title>type_hierarchies</title>\n",
       "<ellipse fill=\"none\" stroke=\"black\" cx=\"301.36\" cy=\"-90\" rx=\"87.99\" ry=\"18\"/>\n",
       "<text text-anchor=\"middle\" x=\"301.36\" y=\"-86.3\" font-family=\"Times,serif\" font-size=\"14.00\">type_hierarchies</text>\n",
       "</g>\n",
       "<!-- acceptability&#45;&gt;type_hierarchies -->\n",
       "<g id=\"edge1\" class=\"edge\">\n",
       "<title>acceptability&#45;&gt;type_hierarchies</title>\n",
       "<path fill=\"none\" stroke=\"black\" d=\"M154.72,-216.43C184.26,-191.17 240.65,-142.93 274.24,-114.19\"/>\n",
       "<polygon fill=\"black\" stroke=\"black\" points=\"276.53,-116.84 281.86,-107.68 271.98,-111.52 276.53,-116.84\"/>\n",
       "</g>\n",
       "<!-- recipe_graphs -->\n",
       "<g id=\"node2\" class=\"node\">\n",
       "<title>recipe_graphs</title>\n",
       "<ellipse fill=\"none\" stroke=\"black\" cx=\"767.36\" cy=\"-90\" rx=\"76.09\" ry=\"18\"/>\n",
       "<text text-anchor=\"middle\" x=\"767.36\" y=\"-86.3\" font-family=\"Times,serif\" font-size=\"14.00\">recipe_graphs</text>\n",
       "</g>\n",
       "<!-- graph_properties -->\n",
       "<g id=\"node7\" class=\"node\">\n",
       "<title>graph_properties</title>\n",
       "<ellipse fill=\"none\" stroke=\"black\" cx=\"767.36\" cy=\"-18\" rx=\"90.98\" ry=\"18\"/>\n",
       "<text text-anchor=\"middle\" x=\"767.36\" y=\"-14.3\" font-family=\"Times,serif\" font-size=\"14.00\">graph_properties</text>\n",
       "</g>\n",
       "<!-- recipe_graphs&#45;&gt;graph_properties -->\n",
       "<g id=\"edge3\" class=\"edge\">\n",
       "<title>recipe_graphs&#45;&gt;graph_properties</title>\n",
       "<path fill=\"none\" stroke=\"black\" d=\"M767.36,-71.7C767.36,-63.98 767.36,-54.71 767.36,-46.11\"/>\n",
       "<polygon fill=\"black\" stroke=\"black\" points=\"770.86,-46.1 767.36,-36.1 763.86,-46.1 770.86,-46.1\"/>\n",
       "</g>\n",
       "<!-- subrecipes -->\n",
       "<g id=\"node3\" class=\"node\">\n",
       "<title>subrecipes</title>\n",
       "<ellipse fill=\"none\" stroke=\"black\" cx=\"495.36\" cy=\"-234\" rx=\"61.19\" ry=\"18\"/>\n",
       "<text text-anchor=\"middle\" x=\"495.36\" y=\"-230.3\" font-family=\"Times,serif\" font-size=\"14.00\">subrecipes</text>\n",
       "</g>\n",
       "<!-- subrecipes&#45;&gt;recipe_graphs -->\n",
       "<g id=\"edge6\" class=\"edge\">\n",
       "<title>subrecipes&#45;&gt;recipe_graphs</title>\n",
       "<path fill=\"none\" stroke=\"black\" d=\"M531.89,-219.49C557.64,-209.55 592.69,-195.18 622.36,-180 662.39,-159.52 706.09,-131.92 734.94,-112.91\"/>\n",
       "<polygon fill=\"black\" stroke=\"black\" points=\"736.99,-115.75 743.39,-107.31 733.13,-109.92 736.99,-115.75\"/>\n",
       "</g>\n",
       "<!-- subrecipes&#45;&gt;recipe -->\n",
       "<g id=\"edge5\" class=\"edge\">\n",
       "<title>subrecipes&#45;&gt;recipe</title>\n",
       "<path fill=\"none\" stroke=\"black\" d=\"M513.45,-216.76C523.9,-207.38 537.21,-195.44 548.62,-185.2\"/>\n",
       "<polygon fill=\"black\" stroke=\"black\" points=\"551.06,-187.71 556.17,-178.43 546.39,-182.5 551.06,-187.71\"/>\n",
       "</g>\n",
       "<!-- subrecipes&#45;&gt;type_hierarchies -->\n",
       "<g id=\"edge4\" class=\"edge\">\n",
       "<title>subrecipes&#45;&gt;type_hierarchies</title>\n",
       "<path fill=\"none\" stroke=\"black\" d=\"M473.48,-216.99C439.02,-191.77 371.99,-142.7 332.51,-113.8\"/>\n",
       "<polygon fill=\"black\" stroke=\"black\" points=\"334.19,-110.69 324.05,-107.61 330.05,-116.34 334.19,-110.69\"/>\n",
       "</g>\n",
       "<!-- in_out_aligned -->\n",
       "<g id=\"node4\" class=\"node\">\n",
       "<title>in_out_aligned</title>\n",
       "<ellipse fill=\"none\" stroke=\"black\" cx=\"301.36\" cy=\"-234\" rx=\"77.19\" ry=\"18\"/>\n",
       "<text text-anchor=\"middle\" x=\"301.36\" y=\"-230.3\" font-family=\"Times,serif\" font-size=\"14.00\">in_out_aligned</text>\n",
       "</g>\n",
       "<!-- in_out_aligned&#45;&gt;recipe -->\n",
       "<g id=\"edge8\" class=\"edge\">\n",
       "<title>in_out_aligned&#45;&gt;recipe</title>\n",
       "<path fill=\"none\" stroke=\"black\" d=\"M351.24,-220.16C402.36,-207.01 481.05,-186.76 529.75,-174.22\"/>\n",
       "<polygon fill=\"black\" stroke=\"black\" points=\"530.85,-177.55 539.67,-171.67 529.11,-170.77 530.85,-177.55\"/>\n",
       "</g>\n",
       "<!-- in_out_aligned&#45;&gt;type_hierarchies -->\n",
       "<g id=\"edge7\" class=\"edge\">\n",
       "<title>in_out_aligned&#45;&gt;type_hierarchies</title>\n",
       "<path fill=\"none\" stroke=\"black\" d=\"M301.36,-215.87C301.36,-191.67 301.36,-147.21 301.36,-118.39\"/>\n",
       "<polygon fill=\"black\" stroke=\"black\" points=\"304.86,-118.19 301.36,-108.19 297.86,-118.19 304.86,-118.19\"/>\n",
       "</g>\n",
       "<!-- universal_types -->\n",
       "<g id=\"node5\" class=\"node\">\n",
       "<title>universal_types</title>\n",
       "<ellipse fill=\"none\" stroke=\"black\" cx=\"301.36\" cy=\"-18\" rx=\"83.39\" ry=\"18\"/>\n",
       "<text text-anchor=\"middle\" x=\"301.36\" y=\"-14.3\" font-family=\"Times,serif\" font-size=\"14.00\">universal_types</text>\n",
       "</g>\n",
       "<!-- composition -->\n",
       "<g id=\"node6\" class=\"node\">\n",
       "<title>composition</title>\n",
       "<ellipse fill=\"none\" stroke=\"black\" cx=\"679.36\" cy=\"-234\" rx=\"66.89\" ry=\"18\"/>\n",
       "<text text-anchor=\"middle\" x=\"679.36\" y=\"-230.3\" font-family=\"Times,serif\" font-size=\"14.00\">composition</text>\n",
       "</g>\n",
       "<!-- composition&#45;&gt;recipe_graphs -->\n",
       "<g id=\"edge11\" class=\"edge\">\n",
       "<title>composition&#45;&gt;recipe_graphs</title>\n",
       "<path fill=\"none\" stroke=\"black\" d=\"M689.8,-216.15C705,-191.63 733.35,-145.87 751.24,-117\"/>\n",
       "<polygon fill=\"black\" stroke=\"black\" points=\"754.36,-118.61 756.65,-108.27 748.41,-114.92 754.36,-118.61\"/>\n",
       "</g>\n",
       "<!-- composition&#45;&gt;recipe -->\n",
       "<g id=\"edge10\" class=\"edge\">\n",
       "<title>composition&#45;&gt;recipe</title>\n",
       "<path fill=\"none\" stroke=\"black\" d=\"M655.3,-217.12C639.94,-206.97 619.91,-193.74 603.49,-182.9\"/>\n",
       "<polygon fill=\"black\" stroke=\"black\" points=\"605.07,-179.75 594.8,-177.16 601.21,-185.59 605.07,-179.75\"/>\n",
       "</g>\n",
       "<!-- composition&#45;&gt;type_hierarchies -->\n",
       "<g id=\"edge9\" class=\"edge\">\n",
       "<title>composition&#45;&gt;type_hierarchies</title>\n",
       "<path fill=\"none\" stroke=\"black\" d=\"M673.34,-215.79C665.19,-195.17 648.56,-161.26 622.36,-144 585.49,-119.72 473.96,-105.33 392.7,-97.81\"/>\n",
       "<polygon fill=\"black\" stroke=\"black\" points=\"392.72,-94.29 382.45,-96.88 392.09,-101.26 392.72,-94.29\"/>\n",
       "</g>\n",
       "<!-- atomic_recipes -->\n",
       "<g id=\"node8\" class=\"node\">\n",
       "<title>atomic_recipes</title>\n",
       "<ellipse fill=\"none\" stroke=\"black\" cx=\"1012.36\" cy=\"-234\" rx=\"79.89\" ry=\"18\"/>\n",
       "<text text-anchor=\"middle\" x=\"1012.36\" y=\"-230.3\" font-family=\"Times,serif\" font-size=\"14.00\">atomic_recipes</text>\n",
       "</g>\n",
       "<!-- atomic_recipes&#45;&gt;recipe_graphs -->\n",
       "<g id=\"edge13\" class=\"edge\">\n",
       "<title>atomic_recipes&#45;&gt;recipe_graphs</title>\n",
       "<path fill=\"none\" stroke=\"black\" d=\"M984.73,-216.99C940.31,-191.24 853.03,-140.65 803.64,-112.03\"/>\n",
       "<polygon fill=\"black\" stroke=\"black\" points=\"805.29,-108.94 794.88,-106.95 801.78,-115 805.29,-108.94\"/>\n",
       "</g>\n",
       "<!-- atomic_recipes&#45;&gt;recipe -->\n",
       "<g id=\"edge12\" class=\"edge\">\n",
       "<title>atomic_recipes&#45;&gt;recipe</title>\n",
       "<path fill=\"none\" stroke=\"black\" d=\"M954.01,-221.52C943.8,-219.61 933.28,-217.7 923.36,-216 815.54,-197.55 688.47,-179.14 621.03,-169.63\"/>\n",
       "<polygon fill=\"black\" stroke=\"black\" points=\"621.12,-166.1 610.73,-168.18 620.14,-173.04 621.12,-166.1\"/>\n",
       "</g>\n",
       "<!-- recipe&#45;&gt;recipe_graphs -->\n",
       "<g id=\"edge16\" class=\"edge\">\n",
       "<title>recipe&#45;&gt;recipe_graphs</title>\n",
       "<path fill=\"none\" stroke=\"black\" d=\"M603.67,-150.06C634.16,-139.06 681.68,-121.91 717.69,-108.92\"/>\n",
       "<polygon fill=\"black\" stroke=\"black\" points=\"719.29,-112.06 727.51,-105.38 716.92,-105.48 719.29,-112.06\"/>\n",
       "</g>\n",
       "<!-- recipe&#45;&gt;graph_properties -->\n",
       "<g id=\"edge14\" class=\"edge\">\n",
       "<title>recipe&#45;&gt;graph_properties</title>\n",
       "<path fill=\"none\" stroke=\"black\" d=\"M590.93,-145.47C612.03,-127.12 648.78,-96.03 682.36,-72 697.72,-61 715.36,-49.79 730.57,-40.53\"/>\n",
       "<polygon fill=\"black\" stroke=\"black\" points=\"732.46,-43.48 739.21,-35.32 728.84,-37.49 732.46,-43.48\"/>\n",
       "</g>\n",
       "<!-- recipe&#45;&gt;type_hierarchies -->\n",
       "<g id=\"edge15\" class=\"edge\">\n",
       "<title>recipe&#45;&gt;type_hierarchies</title>\n",
       "<path fill=\"none\" stroke=\"black\" d=\"M539.73,-152.35C495.91,-141.07 418.43,-121.13 363.71,-107.05\"/>\n",
       "<polygon fill=\"black\" stroke=\"black\" points=\"364.33,-103.59 353.77,-104.49 362.59,-110.37 364.33,-103.59\"/>\n",
       "</g>\n",
       "<!-- equivalence -->\n",
       "<g id=\"node10\" class=\"node\">\n",
       "<title>equivalence</title>\n",
       "<ellipse fill=\"none\" stroke=\"black\" cx=\"406.36\" cy=\"-306\" rx=\"65.79\" ry=\"18\"/>\n",
       "<text text-anchor=\"middle\" x=\"406.36\" y=\"-302.3\" font-family=\"Times,serif\" font-size=\"14.00\">equivalence</text>\n",
       "</g>\n",
       "<!-- equivalence&#45;&gt;recipe -->\n",
       "<g id=\"edge18\" class=\"edge\">\n",
       "<title>equivalence&#45;&gt;recipe</title>\n",
       "<path fill=\"none\" stroke=\"black\" d=\"M405.35,-287.76C405.16,-268.07 407.88,-235.98 425.36,-216 450.32,-187.45 491.79,-174.28 524.49,-168.2\"/>\n",
       "<polygon fill=\"black\" stroke=\"black\" points=\"525.49,-171.58 534.77,-166.47 524.33,-164.68 525.49,-171.58\"/>\n",
       "</g>\n",
       "<!-- isomorphisms -->\n",
       "<g id=\"node11\" class=\"node\">\n",
       "<title>isomorphisms</title>\n",
       "<ellipse fill=\"none\" stroke=\"black\" cx=\"839.36\" cy=\"-234\" rx=\"75.29\" ry=\"18\"/>\n",
       "<text text-anchor=\"middle\" x=\"839.36\" y=\"-230.3\" font-family=\"Times,serif\" font-size=\"14.00\">isomorphisms</text>\n",
       "</g>\n",
       "<!-- equivalence&#45;&gt;isomorphisms -->\n",
       "<g id=\"edge19\" class=\"edge\">\n",
       "<title>equivalence&#45;&gt;isomorphisms</title>\n",
       "<path fill=\"none\" stroke=\"black\" d=\"M463.62,-297.18C532.88,-287.52 652.92,-270.13 755.36,-252 761.61,-250.89 768.1,-249.68 774.6,-248.44\"/>\n",
       "<polygon fill=\"black\" stroke=\"black\" points=\"775.61,-251.8 784.76,-246.45 774.27,-244.93 775.61,-251.8\"/>\n",
       "</g>\n",
       "<!-- equivalence&#45;&gt;type_hierarchies -->\n",
       "<g id=\"edge17\" class=\"edge\">\n",
       "<title>equivalence&#45;&gt;type_hierarchies</title>\n",
       "<path fill=\"none\" stroke=\"black\" d=\"M340.53,-305.83C242.08,-305.5 63.7,-298.31 23.36,-252 -8.17,-215.81 -7.24,-180.98 23.36,-144 46.57,-115.95 136.08,-102.61 207.35,-96.36\"/>\n",
       "<polygon fill=\"black\" stroke=\"black\" points=\"208.05,-99.81 217.72,-95.48 207.46,-92.83 208.05,-99.81\"/>\n",
       "</g>\n",
       "<!-- isomorphisms&#45;&gt;recipe_graphs -->\n",
       "<g id=\"edge21\" class=\"edge\">\n",
       "<title>isomorphisms&#45;&gt;recipe_graphs</title>\n",
       "<path fill=\"none\" stroke=\"black\" d=\"M830.67,-215.87C818.24,-191.35 795.26,-146.03 780.67,-117.26\"/>\n",
       "<polygon fill=\"black\" stroke=\"black\" points=\"783.72,-115.53 776.07,-108.19 777.47,-118.69 783.72,-115.53\"/>\n",
       "</g>\n",
       "<!-- isomorphisms&#45;&gt;recipe -->\n",
       "<g id=\"edge20\" class=\"edge\">\n",
       "<title>isomorphisms&#45;&gt;recipe</title>\n",
       "<path fill=\"none\" stroke=\"black\" d=\"M790.57,-220.16C740.72,-207.04 664.06,-186.87 616.4,-174.33\"/>\n",
       "<polygon fill=\"black\" stroke=\"black\" points=\"617.25,-170.93 606.69,-171.77 615.47,-177.7 617.25,-170.93\"/>\n",
       "</g>\n",
       "<!-- type_hierarchies&#45;&gt;universal_types -->\n",
       "<g id=\"edge22\" class=\"edge\">\n",
       "<title>type_hierarchies&#45;&gt;universal_types</title>\n",
       "<path fill=\"none\" stroke=\"black\" d=\"M301.36,-71.7C301.36,-63.98 301.36,-54.71 301.36,-46.11\"/>\n",
       "<polygon fill=\"black\" stroke=\"black\" points=\"304.86,-46.1 301.36,-36.1 297.86,-46.1 304.86,-46.1\"/>\n",
       "</g>\n",
       "<!-- granularity -->\n",
       "<g id=\"node13\" class=\"node\">\n",
       "<title>granularity</title>\n",
       "<ellipse fill=\"none\" stroke=\"black\" cx=\"711.36\" cy=\"-306\" rx=\"63.09\" ry=\"18\"/>\n",
       "<text text-anchor=\"middle\" x=\"711.36\" y=\"-302.3\" font-family=\"Times,serif\" font-size=\"14.00\">granularity</text>\n",
       "</g>\n",
       "<!-- granularity&#45;&gt;recipe_graphs -->\n",
       "<g id=\"edge28\" class=\"edge\">\n",
       "<title>granularity&#45;&gt;recipe_graphs</title>\n",
       "<path fill=\"none\" stroke=\"black\" d=\"M772.32,-301.06C876.59,-293.71 1080.06,-276.38 1101.36,-252 1180.53,-161.34 965.84,-117.22 844.34,-100.03\"/>\n",
       "<polygon fill=\"black\" stroke=\"black\" points=\"844.71,-96.54 834.32,-98.64 843.75,-103.48 844.71,-96.54\"/>\n",
       "</g>\n",
       "<!-- granularity&#45;&gt;in_out_aligned -->\n",
       "<g id=\"edge26\" class=\"edge\">\n",
       "<title>granularity&#45;&gt;in_out_aligned</title>\n",
       "<path fill=\"none\" stroke=\"black\" d=\"M658.6,-295.99C585.59,-283.53 453.56,-260.99 372.08,-247.07\"/>\n",
       "<polygon fill=\"black\" stroke=\"black\" points=\"372.35,-243.57 361.91,-245.34 371.18,-250.47 372.35,-243.57\"/>\n",
       "</g>\n",
       "<!-- granularity&#45;&gt;graph_properties -->\n",
       "<g id=\"edge23\" class=\"edge\">\n",
       "<title>granularity&#45;&gt;graph_properties</title>\n",
       "<path fill=\"none\" stroke=\"black\" d=\"M772.72,-301.51C881.89,-294.68 1100.58,-277.89 1123.36,-252 1218.21,-144.16 963.62,-65.72 835.68,-34.23\"/>\n",
       "<polygon fill=\"black\" stroke=\"black\" points=\"836.49,-30.83 825.95,-31.87 834.84,-37.63 836.49,-30.83\"/>\n",
       "</g>\n",
       "<!-- granularity&#45;&gt;recipe -->\n",
       "<g id=\"edge27\" class=\"edge\">\n",
       "<title>granularity&#45;&gt;recipe</title>\n",
       "<path fill=\"none\" stroke=\"black\" d=\"M668.44,-292.79C646.3,-284.52 620.43,-271.47 603.36,-252 588.12,-234.62 580.56,-209.2 576.84,-189.97\"/>\n",
       "<polygon fill=\"black\" stroke=\"black\" points=\"580.28,-189.29 575.15,-180.02 573.38,-190.46 580.28,-189.29\"/>\n",
       "</g>\n",
       "<!-- granularity&#45;&gt;isomorphisms -->\n",
       "<g id=\"edge24\" class=\"edge\">\n",
       "<title>granularity&#45;&gt;isomorphisms</title>\n",
       "<path fill=\"none\" stroke=\"black\" d=\"M739.13,-289.81C757.37,-279.84 781.45,-266.67 801.44,-255.73\"/>\n",
       "<polygon fill=\"black\" stroke=\"black\" points=\"803.21,-258.76 810.3,-250.89 799.85,-252.62 803.21,-258.76\"/>\n",
       "</g>\n",
       "<!-- granularity&#45;&gt;type_hierarchies -->\n",
       "<g id=\"edge25\" class=\"edge\">\n",
       "<title>granularity&#45;&gt;type_hierarchies</title>\n",
       "<path fill=\"none\" stroke=\"black\" d=\"M651.17,-300.4C489.7,-288.01 58.87,-254.73 56.36,-252 -6.4,-183.96 143.67,-131.33 235.84,-106.56\"/>\n",
       "<polygon fill=\"black\" stroke=\"black\" points=\"236.9,-109.91 245.67,-103.97 235.11,-103.14 236.9,-109.91\"/>\n",
       "</g>\n",
       "</g>\n",
       "</svg>\n"
      ],
      "text/plain": [
       "<graphviz.graphs.Digraph at 0x7f7b9c2a2a10>"
      ]
     },
     "execution_count": 14,
     "metadata": {},
     "output_type": "execute_result"
    }
   ],
   "source": [
    "# def create_dependency_graph(dependency_map):\n",
    "#     dot = graphviz.Digraph()\n",
    "#     node_ids = {}\n",
    "#     for i,k in enumerate(dependency_map.keys()):\n",
    "#         print(f\"i,k : {i,k}\")\n",
    "#         node_ids[k] = 'n'+str(i)\n",
    "# #         dot.node(i, label=k, style='filled', color='yellow', shape='box')\n",
    "#         dot.node(k, label=k)\n",
    "#     for source, targets in dependency_map.items():\n",
    "# #         sid = node_ids[source]\n",
    "#         for target in targets:\n",
    "# #             tid = node_ids[target]\n",
    "#             dot.edge(source,target)\n",
    "#     return dot\n",
    "# create_dependency_graph creates a graph of the module dependencies\n",
    "create_dependency_graph(DEPENDENCY_MAP)"
   ]
  },
  {
   "cell_type": "code",
   "execution_count": 15,
   "metadata": {
    "scrolled": false
   },
   "outputs": [
    {
     "data": {
      "text/plain": [
       "{'acceptability',\n",
       " 'graph_properties',\n",
       " 'recipe',\n",
       " 'recipe_graphs',\n",
       " 'type_hierarchies',\n",
       " 'universal_types'}"
      ]
     },
     "execution_count": 15,
     "metadata": {},
     "output_type": "execute_result"
    }
   ],
   "source": [
    "# get_dependencies(...) resolves the full chain of dependencies for one or more modules.\n",
    "specified = ['acceptability']\n",
    "get_dependencies(specified)\n"
   ]
  },
  {
   "cell_type": "markdown",
   "metadata": {},
   "source": [
    "# Running ASP"
   ]
  },
  {
   "cell_type": "code",
   "execution_count": 16,
   "metadata": {},
   "outputs": [
    {
     "ename": "KeyError",
     "evalue": "'untyped nodes'",
     "output_type": "error",
     "traceback": [
      "\u001b[0;31m---------------------------------------------------------------------------\u001b[0m",
      "\u001b[0;31mKeyError\u001b[0m                                  Traceback (most recent call last)",
      "Input \u001b[0;32mIn [16]\u001b[0m, in \u001b[0;36m<cell line: 27>\u001b[0;34m()\u001b[0m\n\u001b[1;32m      3\u001b[0m fpaths\u001b[38;5;241m.\u001b[39mappend(\u001b[38;5;124m'\u001b[39m\u001b[38;5;124m../asp_recipe_graphs/asp/recipes/hummus_types.lp\u001b[39m\u001b[38;5;124m'\u001b[39m)\n\u001b[1;32m      4\u001b[0m \u001b[38;5;66;03m# fpaths.append('../asp_recipe_graphs/asp/recipes/cannellini_hummus_graph.lp')\u001b[39;00m\n\u001b[1;32m      5\u001b[0m \u001b[38;5;66;03m# fpaths.append('../asp_recipe_graphs/asp/recipes/cannellini_hummus_types.lp')\u001b[39;00m\n\u001b[1;32m      6\u001b[0m \u001b[38;5;66;03m# fpaths.append('../asp_recipe_graphs/asp/recipes/edamame_hummus_graph.lp')\u001b[39;00m\n\u001b[0;32m   (...)\u001b[0m\n\u001b[1;32m     25\u001b[0m \u001b[38;5;66;03m# models = load_and_solve('conflicting types',fpaths)\u001b[39;00m\n\u001b[1;32m     26\u001b[0m \u001b[38;5;66;03m# models = load_and_solve('is recipe',fpaths)\u001b[39;00m\n\u001b[0;32m---> 27\u001b[0m models \u001b[38;5;241m=\u001b[39m \u001b[43mload_and_solve\u001b[49m\u001b[43m(\u001b[49m\u001b[38;5;124;43m'\u001b[39;49m\u001b[38;5;124;43muntyped nodes\u001b[39;49m\u001b[38;5;124;43m'\u001b[39;49m\u001b[43m,\u001b[49m\u001b[43mfpaths\u001b[49m\u001b[43m)\u001b[49m          \n\u001b[1;32m     28\u001b[0m models\n",
      "File \u001b[0;32m~/git/external/asp_recipe_graphs/asp_recipe_graphs/api/solver.py:49\u001b[0m, in \u001b[0;36mload_and_solve\u001b[0;34m(query, domain_files, additional_asp)\u001b[0m\n\u001b[1;32m     47\u001b[0m \u001b[38;5;28;01mdef\u001b[39;00m \u001b[38;5;21mload_and_solve\u001b[39m(query, domain_files, additional_asp\u001b[38;5;241m=\u001b[39m\u001b[38;5;28;01mNone\u001b[39;00m):\n\u001b[1;32m     48\u001b[0m     ctl \u001b[38;5;241m=\u001b[39m clingo\u001b[38;5;241m.\u001b[39mControl()\n\u001b[0;32m---> 49\u001b[0m     query_info \u001b[38;5;241m=\u001b[39m \u001b[43mQUERY_DATA\u001b[49m\u001b[43m[\u001b[49m\u001b[43mquery\u001b[49m\u001b[43m]\u001b[49m\n\u001b[1;32m     50\u001b[0m     parameters \u001b[38;5;241m=\u001b[39m query_info[\u001b[38;5;124m'\u001b[39m\u001b[38;5;124mparameters\u001b[39m\u001b[38;5;124m'\u001b[39m]\n\u001b[1;32m     51\u001b[0m     programme \u001b[38;5;241m=\u001b[39m query_info[\u001b[38;5;124m'\u001b[39m\u001b[38;5;124mprogramme\u001b[39m\u001b[38;5;124m'\u001b[39m]\n",
      "\u001b[0;31mKeyError\u001b[0m: 'untyped nodes'"
     ]
    }
   ],
   "source": [
    "fpaths =[]\n",
    "fpaths.append('../asp_recipe_graphs/asp/recipes/hummus_graph.lp')\n",
    "fpaths.append('../asp_recipe_graphs/asp/recipes/hummus_types.lp')\n",
    "# fpaths.append('../asp_recipe_graphs/asp/recipes/cannellini_hummus_graph.lp')\n",
    "# fpaths.append('../asp_recipe_graphs/asp/recipes/cannellini_hummus_types.lp')\n",
    "# fpaths.append('../asp_recipe_graphs/asp/recipes/edamame_hummus_graph.lp')\n",
    "# fpaths.append('../asp_recipe_graphs/asp/recipes/edamame_hummus_types.lp')\n",
    "# fpaths.append('../asp_recipe_graphs/asp/recipes/baba_ganoush_graph.lp')\n",
    "# fpaths.append('../asp_recipe_graphs/asp/recipes/baba_ganoush_types.lp')\n",
    "#models = load_and_solve('connected', fpaths)    \n",
    "#models = load_and_solve('cyclic', fpaths)    \n",
    "#models = load_and_solve('arcs',fpaths)       \n",
    "#models = load_and_solve('types',fpaths)\n",
    "#models = load_and_solve('arcs and types',fpaths)          \n",
    "# models = load_and_solve('recipe_graph',fpaths[:1], additional_asp=\"\"\"\n",
    "#     -recipe_graph(rg_cannellini_hummus).\n",
    "#     \"\"\")          \n",
    "# models = load_and_solve('recipe_graph',fpaths[:1], additional_asp=\"\"\"\n",
    "#     -recipe_graph(rg_cannellini_hummus).\n",
    "#     \"\"\")          \n",
    "# models = load_and_solve('recipe_graph',fpaths[:1])\n",
    "#models = load_and_solve('explain not recipe_graph',fpaths[:1])          \n",
    "# models = load_and_solve('explain not recipe',fpaths[:1])          \n",
    "# models = load_and_solve('recipes',fpaths)\n",
    "# models = load_and_solve('conflicting types',fpaths)\n",
    "# models = load_and_solve('is recipe',fpaths)\n",
    "models = load_and_solve('untyped nodes',fpaths)          \n",
    "models"
   ]
  },
  {
   "cell_type": "code",
   "execution_count": null,
   "metadata": {
    "scrolled": false
   },
   "outputs": [],
   "source": [
    "models = load_and_solve('untyped nodes', fpaths)\n",
    "\n",
    "facts ={}\n",
    "pold = None\n",
    "for t in models[0].split(') '):    \n",
    "    p = t.split('(')[0]\n",
    "    if p != pold:\n",
    "        print(p+':')\n",
    "        pold = p\n",
    "        facts[p] = []\n",
    "    facts[p].append(t)\n",
    "    print(f\"\\t{t})\")"
   ]
  },
  {
   "cell_type": "code",
   "execution_count": null,
   "metadata": {},
   "outputs": [],
   "source": [
    "print(f\"facts.get('-well_typed_a_node') = {facts.get('-well_typed_a_node')}\", end='\\n\\n')\n",
    "print(f\"facts.get('-well_typed_c_node') = {facts.get('-well_typed_c_node')}\", end='\\n\\n')\n",
    "print(f\"facts.get('type_of') = {facts.get('type_of')}\", end='\\n\\n')\n",
    "print(f\"facts.get('conflicting_types') = {facts.get('conflicting_types')}\", end='\\n\\n')\n",
    "# print(f\"facts['comestible_type'] ={facts['comestible_type']}\", end='\\n\\n')"
   ]
  },
  {
   "cell_type": "code",
   "execution_count": null,
   "metadata": {},
   "outputs": [],
   "source": [
    "raise ValueError('Stop!')"
   ]
  },
  {
   "cell_type": "markdown",
   "metadata": {},
   "source": [
    "## Older code"
   ]
  },
  {
   "cell_type": "code",
   "execution_count": null,
   "metadata": {},
   "outputs": [],
   "source": [
    "\n",
    "lp_fnames = [\"GraphRecipes.lp\",\"ScratchExample.lp\"]\n",
    "lp_fnames = [\"GraphRecipes.lp\",\"SnacksOnToastExample.lp\"]"
   ]
  },
  {
   "cell_type": "code",
   "execution_count": null,
   "metadata": {},
   "outputs": [],
   "source": [
    "ctl = clingo.Control()\n",
    "for lp_fname in lp_fnames:\n",
    "    ctl.load(lp_fname)\n",
    "ctl.ground([(\"base\", [])])\n",
    "#answer_sets = []\n",
    "result = ctl.solve(on_model=lambda m: print(\"Answer: {}\".format(m)))"
   ]
  },
  {
   "cell_type": "code",
   "execution_count": null,
   "metadata": {},
   "outputs": [],
   "source": [
    "ctl = clingo.Control()\n",
    "for lp_fname in lp_fnames:\n",
    "    ctl.load(lp_fname)\n",
    "ctl.ground([(\"base\", [])])\n",
    "models = []\n",
    "with ctl.solve(yield_=True) as handle:\n",
    "    for model in handle:\n",
    "        models.append(model.symbols(shown=True))\n",
    "models"
   ]
  },
  {
   "cell_type": "code",
   "execution_count": null,
   "metadata": {},
   "outputs": [],
   "source": [
    "for atom in models[0]:\n",
    "    print(f\"atom.type = {atom.type}\")\n",
    "    if atom.type == symbol.SymbolType.Function:\n",
    "        print(f\"atom.name = {atom.name}\")\n",
    "        print(f\"atom.arguments = {atom.arguments}\")\n",
    "        print(f\"str(atom) = {str(atom)}\")\n",
    "        #print(f\"atom.negative = {atom.negative}\")\n",
    "        #print(f\"atom.number = {atom.number}\")\n",
    "        #print(f\"atom.positive = {atom.positive}\")\n",
    "        #print(f\"atom.string = {atom.string}\")\n"
   ]
  },
  {
   "cell_type": "markdown",
   "metadata": {},
   "source": []
  }
 ],
 "metadata": {
  "kernelspec": {
   "display_name": "Python 3 (ipykernel)",
   "language": "python",
   "name": "python3"
  },
  "language_info": {
   "codemirror_mode": {
    "name": "ipython",
    "version": 3
   },
   "file_extension": ".py",
   "mimetype": "text/x-python",
   "name": "python",
   "nbconvert_exporter": "python",
   "pygments_lexer": "ipython3",
   "version": "3.10.6"
  }
 },
 "nbformat": 4,
 "nbformat_minor": 2
}
